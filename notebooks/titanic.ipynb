{
 "cells": [
  {
   "cell_type": "markdown",
   "id": "curious-appearance",
   "metadata": {},
   "source": [
    "# Titanic\n",
    "## Use machine learning to create a model that predicts which passengers survived the Titanic shipwreck."
   ]
  },
  {
   "cell_type": "markdown",
   "id": "cross-aging",
   "metadata": {},
   "source": [
    "### 1. Imports"
   ]
  },
  {
   "cell_type": "code",
   "execution_count": 321,
   "id": "absolute-service",
   "metadata": {
    "ExecuteTime": {
     "end_time": "2021-04-20T15:18:10.473719Z",
     "start_time": "2021-04-20T15:18:10.466328Z"
    }
   },
   "outputs": [],
   "source": [
    "import pandas as pd\n",
    "import numpy as np\n",
    "import os\n",
    "import matplotlib.pyplot as plt\n",
    "import seaborn as sns\n",
    "from scipy.stats import skew\n",
    "from sklearn.preprocessing import OrdinalEncoder, OneHotEncoder, StandardScaler\n",
    "from sklearn.pipeline import Pipeline\n",
    "from sklearn.base import BaseEstimator, TransformerMixin\n",
    "from sklearn.compose import ColumnTransformer\n",
    "from sklearn.linear_model import LogisticRegressionCV\n",
    "from sklearn.model_selection import cross_val_score\n",
    "from sklearn.naive_bayes import BernoulliNB\n",
    "from sklearn.ensemble import RandomForestClassifier\n",
    "from sklearn.model_selection import RandomizedSearchCV\n",
    "import joblib"
   ]
  },
  {
   "cell_type": "markdown",
   "id": "neither-tampa",
   "metadata": {},
   "source": [
    "### 2. Get the data"
   ]
  },
  {
   "cell_type": "code",
   "execution_count": 4,
   "id": "sublime-picking",
   "metadata": {
    "ExecuteTime": {
     "end_time": "2021-04-20T08:17:00.516712Z",
     "start_time": "2021-04-20T08:17:00.505405Z"
    }
   },
   "outputs": [],
   "source": [
    "data_path = '../inputs/train.csv'\n",
    "train = pd.read_csv(data_path, index_col='PassengerId')"
   ]
  },
  {
   "cell_type": "code",
   "execution_count": 6,
   "id": "received-palestine",
   "metadata": {
    "ExecuteTime": {
     "end_time": "2021-04-20T08:19:16.830455Z",
     "start_time": "2021-04-20T08:19:16.808485Z"
    }
   },
   "outputs": [
    {
     "data": {
      "text/html": [
       "<div>\n",
       "<style scoped>\n",
       "    .dataframe tbody tr th:only-of-type {\n",
       "        vertical-align: middle;\n",
       "    }\n",
       "\n",
       "    .dataframe tbody tr th {\n",
       "        vertical-align: top;\n",
       "    }\n",
       "\n",
       "    .dataframe thead th {\n",
       "        text-align: right;\n",
       "    }\n",
       "</style>\n",
       "<table border=\"1\" class=\"dataframe\">\n",
       "  <thead>\n",
       "    <tr style=\"text-align: right;\">\n",
       "      <th></th>\n",
       "      <th>Survived</th>\n",
       "      <th>Pclass</th>\n",
       "      <th>Name</th>\n",
       "      <th>Sex</th>\n",
       "      <th>Age</th>\n",
       "      <th>SibSp</th>\n",
       "      <th>Parch</th>\n",
       "      <th>Ticket</th>\n",
       "      <th>Fare</th>\n",
       "      <th>Cabin</th>\n",
       "      <th>Embarked</th>\n",
       "    </tr>\n",
       "    <tr>\n",
       "      <th>PassengerId</th>\n",
       "      <th></th>\n",
       "      <th></th>\n",
       "      <th></th>\n",
       "      <th></th>\n",
       "      <th></th>\n",
       "      <th></th>\n",
       "      <th></th>\n",
       "      <th></th>\n",
       "      <th></th>\n",
       "      <th></th>\n",
       "      <th></th>\n",
       "    </tr>\n",
       "  </thead>\n",
       "  <tbody>\n",
       "    <tr>\n",
       "      <th>1</th>\n",
       "      <td>0</td>\n",
       "      <td>3</td>\n",
       "      <td>Braund, Mr. Owen Harris</td>\n",
       "      <td>male</td>\n",
       "      <td>22.0</td>\n",
       "      <td>1</td>\n",
       "      <td>0</td>\n",
       "      <td>A/5 21171</td>\n",
       "      <td>7.2500</td>\n",
       "      <td>NaN</td>\n",
       "      <td>S</td>\n",
       "    </tr>\n",
       "    <tr>\n",
       "      <th>2</th>\n",
       "      <td>1</td>\n",
       "      <td>1</td>\n",
       "      <td>Cumings, Mrs. John Bradley (Florence Briggs Th...</td>\n",
       "      <td>female</td>\n",
       "      <td>38.0</td>\n",
       "      <td>1</td>\n",
       "      <td>0</td>\n",
       "      <td>PC 17599</td>\n",
       "      <td>71.2833</td>\n",
       "      <td>C85</td>\n",
       "      <td>C</td>\n",
       "    </tr>\n",
       "    <tr>\n",
       "      <th>3</th>\n",
       "      <td>1</td>\n",
       "      <td>3</td>\n",
       "      <td>Heikkinen, Miss. Laina</td>\n",
       "      <td>female</td>\n",
       "      <td>26.0</td>\n",
       "      <td>0</td>\n",
       "      <td>0</td>\n",
       "      <td>STON/O2. 3101282</td>\n",
       "      <td>7.9250</td>\n",
       "      <td>NaN</td>\n",
       "      <td>S</td>\n",
       "    </tr>\n",
       "    <tr>\n",
       "      <th>4</th>\n",
       "      <td>1</td>\n",
       "      <td>1</td>\n",
       "      <td>Futrelle, Mrs. Jacques Heath (Lily May Peel)</td>\n",
       "      <td>female</td>\n",
       "      <td>35.0</td>\n",
       "      <td>1</td>\n",
       "      <td>0</td>\n",
       "      <td>113803</td>\n",
       "      <td>53.1000</td>\n",
       "      <td>C123</td>\n",
       "      <td>S</td>\n",
       "    </tr>\n",
       "    <tr>\n",
       "      <th>5</th>\n",
       "      <td>0</td>\n",
       "      <td>3</td>\n",
       "      <td>Allen, Mr. William Henry</td>\n",
       "      <td>male</td>\n",
       "      <td>35.0</td>\n",
       "      <td>0</td>\n",
       "      <td>0</td>\n",
       "      <td>373450</td>\n",
       "      <td>8.0500</td>\n",
       "      <td>NaN</td>\n",
       "      <td>S</td>\n",
       "    </tr>\n",
       "    <tr>\n",
       "      <th>6</th>\n",
       "      <td>0</td>\n",
       "      <td>3</td>\n",
       "      <td>Moran, Mr. James</td>\n",
       "      <td>male</td>\n",
       "      <td>NaN</td>\n",
       "      <td>0</td>\n",
       "      <td>0</td>\n",
       "      <td>330877</td>\n",
       "      <td>8.4583</td>\n",
       "      <td>NaN</td>\n",
       "      <td>Q</td>\n",
       "    </tr>\n",
       "    <tr>\n",
       "      <th>7</th>\n",
       "      <td>0</td>\n",
       "      <td>1</td>\n",
       "      <td>McCarthy, Mr. Timothy J</td>\n",
       "      <td>male</td>\n",
       "      <td>54.0</td>\n",
       "      <td>0</td>\n",
       "      <td>0</td>\n",
       "      <td>17463</td>\n",
       "      <td>51.8625</td>\n",
       "      <td>E46</td>\n",
       "      <td>S</td>\n",
       "    </tr>\n",
       "    <tr>\n",
       "      <th>8</th>\n",
       "      <td>0</td>\n",
       "      <td>3</td>\n",
       "      <td>Palsson, Master. Gosta Leonard</td>\n",
       "      <td>male</td>\n",
       "      <td>2.0</td>\n",
       "      <td>3</td>\n",
       "      <td>1</td>\n",
       "      <td>349909</td>\n",
       "      <td>21.0750</td>\n",
       "      <td>NaN</td>\n",
       "      <td>S</td>\n",
       "    </tr>\n",
       "    <tr>\n",
       "      <th>9</th>\n",
       "      <td>1</td>\n",
       "      <td>3</td>\n",
       "      <td>Johnson, Mrs. Oscar W (Elisabeth Vilhelmina Berg)</td>\n",
       "      <td>female</td>\n",
       "      <td>27.0</td>\n",
       "      <td>0</td>\n",
       "      <td>2</td>\n",
       "      <td>347742</td>\n",
       "      <td>11.1333</td>\n",
       "      <td>NaN</td>\n",
       "      <td>S</td>\n",
       "    </tr>\n",
       "    <tr>\n",
       "      <th>10</th>\n",
       "      <td>1</td>\n",
       "      <td>2</td>\n",
       "      <td>Nasser, Mrs. Nicholas (Adele Achem)</td>\n",
       "      <td>female</td>\n",
       "      <td>14.0</td>\n",
       "      <td>1</td>\n",
       "      <td>0</td>\n",
       "      <td>237736</td>\n",
       "      <td>30.0708</td>\n",
       "      <td>NaN</td>\n",
       "      <td>C</td>\n",
       "    </tr>\n",
       "  </tbody>\n",
       "</table>\n",
       "</div>"
      ],
      "text/plain": [
       "             Survived  Pclass  \\\n",
       "PassengerId                     \n",
       "1                   0       3   \n",
       "2                   1       1   \n",
       "3                   1       3   \n",
       "4                   1       1   \n",
       "5                   0       3   \n",
       "6                   0       3   \n",
       "7                   0       1   \n",
       "8                   0       3   \n",
       "9                   1       3   \n",
       "10                  1       2   \n",
       "\n",
       "                                                          Name     Sex   Age  \\\n",
       "PassengerId                                                                    \n",
       "1                                      Braund, Mr. Owen Harris    male  22.0   \n",
       "2            Cumings, Mrs. John Bradley (Florence Briggs Th...  female  38.0   \n",
       "3                                       Heikkinen, Miss. Laina  female  26.0   \n",
       "4                 Futrelle, Mrs. Jacques Heath (Lily May Peel)  female  35.0   \n",
       "5                                     Allen, Mr. William Henry    male  35.0   \n",
       "6                                             Moran, Mr. James    male   NaN   \n",
       "7                                      McCarthy, Mr. Timothy J    male  54.0   \n",
       "8                               Palsson, Master. Gosta Leonard    male   2.0   \n",
       "9            Johnson, Mrs. Oscar W (Elisabeth Vilhelmina Berg)  female  27.0   \n",
       "10                         Nasser, Mrs. Nicholas (Adele Achem)  female  14.0   \n",
       "\n",
       "             SibSp  Parch            Ticket     Fare Cabin Embarked  \n",
       "PassengerId                                                          \n",
       "1                1      0         A/5 21171   7.2500   NaN        S  \n",
       "2                1      0          PC 17599  71.2833   C85        C  \n",
       "3                0      0  STON/O2. 3101282   7.9250   NaN        S  \n",
       "4                1      0            113803  53.1000  C123        S  \n",
       "5                0      0            373450   8.0500   NaN        S  \n",
       "6                0      0            330877   8.4583   NaN        Q  \n",
       "7                0      0             17463  51.8625   E46        S  \n",
       "8                3      1            349909  21.0750   NaN        S  \n",
       "9                0      2            347742  11.1333   NaN        S  \n",
       "10               1      0            237736  30.0708   NaN        C  "
      ]
     },
     "execution_count": 6,
     "metadata": {},
     "output_type": "execute_result"
    }
   ],
   "source": [
    "# first look\n",
    "train.head(10)"
   ]
  },
  {
   "cell_type": "code",
   "execution_count": 8,
   "id": "specified-conditioning",
   "metadata": {
    "ExecuteTime": {
     "end_time": "2021-04-20T08:19:47.536760Z",
     "start_time": "2021-04-20T08:19:47.517223Z"
    }
   },
   "outputs": [
    {
     "name": "stdout",
     "output_type": "stream",
     "text": [
      "<class 'pandas.core.frame.DataFrame'>\n",
      "Int64Index: 891 entries, 1 to 891\n",
      "Data columns (total 11 columns):\n",
      " #   Column    Non-Null Count  Dtype  \n",
      "---  ------    --------------  -----  \n",
      " 0   Survived  891 non-null    int64  \n",
      " 1   Pclass    891 non-null    int64  \n",
      " 2   Name      891 non-null    object \n",
      " 3   Sex       891 non-null    object \n",
      " 4   Age       714 non-null    float64\n",
      " 5   SibSp     891 non-null    int64  \n",
      " 6   Parch     891 non-null    int64  \n",
      " 7   Ticket    891 non-null    object \n",
      " 8   Fare      891 non-null    float64\n",
      " 9   Cabin     204 non-null    object \n",
      " 10  Embarked  889 non-null    object \n",
      "dtypes: float64(2), int64(4), object(5)\n",
      "memory usage: 83.5+ KB\n"
     ]
    }
   ],
   "source": [
    "train.info()"
   ]
  },
  {
   "cell_type": "code",
   "execution_count": 27,
   "id": "blind-theology",
   "metadata": {
    "ExecuteTime": {
     "end_time": "2021-04-20T08:38:40.484413Z",
     "start_time": "2021-04-20T08:38:40.461232Z"
    }
   },
   "outputs": [
    {
     "data": {
      "text/html": [
       "<div>\n",
       "<style scoped>\n",
       "    .dataframe tbody tr th:only-of-type {\n",
       "        vertical-align: middle;\n",
       "    }\n",
       "\n",
       "    .dataframe tbody tr th {\n",
       "        vertical-align: top;\n",
       "    }\n",
       "\n",
       "    .dataframe thead th {\n",
       "        text-align: right;\n",
       "    }\n",
       "</style>\n",
       "<table border=\"1\" class=\"dataframe\">\n",
       "  <thead>\n",
       "    <tr style=\"text-align: right;\">\n",
       "      <th></th>\n",
       "      <th>Survived</th>\n",
       "      <th>Pclass</th>\n",
       "      <th>Name</th>\n",
       "      <th>Sex</th>\n",
       "      <th>Age</th>\n",
       "      <th>SibSp</th>\n",
       "      <th>Parch</th>\n",
       "      <th>Ticket</th>\n",
       "      <th>Fare</th>\n",
       "      <th>Cabin</th>\n",
       "      <th>Embarked</th>\n",
       "    </tr>\n",
       "    <tr>\n",
       "      <th>PassengerId</th>\n",
       "      <th></th>\n",
       "      <th></th>\n",
       "      <th></th>\n",
       "      <th></th>\n",
       "      <th></th>\n",
       "      <th></th>\n",
       "      <th></th>\n",
       "      <th></th>\n",
       "      <th></th>\n",
       "      <th></th>\n",
       "      <th></th>\n",
       "    </tr>\n",
       "  </thead>\n",
       "  <tbody>\n",
       "    <tr>\n",
       "      <th>11</th>\n",
       "      <td>1</td>\n",
       "      <td>3</td>\n",
       "      <td>Sandstrom, Miss. Marguerite Rut</td>\n",
       "      <td>female</td>\n",
       "      <td>4.0</td>\n",
       "      <td>1</td>\n",
       "      <td>1</td>\n",
       "      <td>PP 9549</td>\n",
       "      <td>16.7000</td>\n",
       "      <td>G6</td>\n",
       "      <td>S</td>\n",
       "    </tr>\n",
       "    <tr>\n",
       "      <th>22</th>\n",
       "      <td>1</td>\n",
       "      <td>2</td>\n",
       "      <td>Beesley, Mr. Lawrence</td>\n",
       "      <td>male</td>\n",
       "      <td>34.0</td>\n",
       "      <td>0</td>\n",
       "      <td>0</td>\n",
       "      <td>248698</td>\n",
       "      <td>13.0000</td>\n",
       "      <td>D56</td>\n",
       "      <td>S</td>\n",
       "    </tr>\n",
       "    <tr>\n",
       "      <th>67</th>\n",
       "      <td>1</td>\n",
       "      <td>2</td>\n",
       "      <td>Nye, Mrs. (Elizabeth Ramell)</td>\n",
       "      <td>female</td>\n",
       "      <td>29.0</td>\n",
       "      <td>0</td>\n",
       "      <td>0</td>\n",
       "      <td>C.A. 29395</td>\n",
       "      <td>10.5000</td>\n",
       "      <td>F33</td>\n",
       "      <td>S</td>\n",
       "    </tr>\n",
       "    <tr>\n",
       "      <th>76</th>\n",
       "      <td>0</td>\n",
       "      <td>3</td>\n",
       "      <td>Moen, Mr. Sigurd Hansen</td>\n",
       "      <td>male</td>\n",
       "      <td>25.0</td>\n",
       "      <td>0</td>\n",
       "      <td>0</td>\n",
       "      <td>348123</td>\n",
       "      <td>7.6500</td>\n",
       "      <td>F G73</td>\n",
       "      <td>S</td>\n",
       "    </tr>\n",
       "    <tr>\n",
       "      <th>124</th>\n",
       "      <td>1</td>\n",
       "      <td>2</td>\n",
       "      <td>Webber, Miss. Susan</td>\n",
       "      <td>female</td>\n",
       "      <td>32.5</td>\n",
       "      <td>0</td>\n",
       "      <td>0</td>\n",
       "      <td>27267</td>\n",
       "      <td>13.0000</td>\n",
       "      <td>E101</td>\n",
       "      <td>S</td>\n",
       "    </tr>\n",
       "    <tr>\n",
       "      <th>129</th>\n",
       "      <td>1</td>\n",
       "      <td>3</td>\n",
       "      <td>Peter, Miss. Anna</td>\n",
       "      <td>female</td>\n",
       "      <td>NaN</td>\n",
       "      <td>1</td>\n",
       "      <td>1</td>\n",
       "      <td>2668</td>\n",
       "      <td>22.3583</td>\n",
       "      <td>F E69</td>\n",
       "      <td>C</td>\n",
       "    </tr>\n",
       "    <tr>\n",
       "      <th>149</th>\n",
       "      <td>0</td>\n",
       "      <td>2</td>\n",
       "      <td>Navratil, Mr. Michel (\"Louis M Hoffman\")</td>\n",
       "      <td>male</td>\n",
       "      <td>36.5</td>\n",
       "      <td>0</td>\n",
       "      <td>2</td>\n",
       "      <td>230080</td>\n",
       "      <td>26.0000</td>\n",
       "      <td>F2</td>\n",
       "      <td>S</td>\n",
       "    </tr>\n",
       "    <tr>\n",
       "      <th>184</th>\n",
       "      <td>1</td>\n",
       "      <td>2</td>\n",
       "      <td>Becker, Master. Richard F</td>\n",
       "      <td>male</td>\n",
       "      <td>1.0</td>\n",
       "      <td>2</td>\n",
       "      <td>1</td>\n",
       "      <td>230136</td>\n",
       "      <td>39.0000</td>\n",
       "      <td>F4</td>\n",
       "      <td>S</td>\n",
       "    </tr>\n",
       "    <tr>\n",
       "      <th>194</th>\n",
       "      <td>1</td>\n",
       "      <td>2</td>\n",
       "      <td>Navratil, Master. Michel M</td>\n",
       "      <td>male</td>\n",
       "      <td>3.0</td>\n",
       "      <td>1</td>\n",
       "      <td>1</td>\n",
       "      <td>230080</td>\n",
       "      <td>26.0000</td>\n",
       "      <td>F2</td>\n",
       "      <td>S</td>\n",
       "    </tr>\n",
       "    <tr>\n",
       "      <th>206</th>\n",
       "      <td>0</td>\n",
       "      <td>3</td>\n",
       "      <td>Strom, Miss. Telma Matilda</td>\n",
       "      <td>female</td>\n",
       "      <td>2.0</td>\n",
       "      <td>0</td>\n",
       "      <td>1</td>\n",
       "      <td>347054</td>\n",
       "      <td>10.4625</td>\n",
       "      <td>G6</td>\n",
       "      <td>S</td>\n",
       "    </tr>\n",
       "    <tr>\n",
       "      <th>252</th>\n",
       "      <td>0</td>\n",
       "      <td>3</td>\n",
       "      <td>Strom, Mrs. Wilhelm (Elna Matilda Persson)</td>\n",
       "      <td>female</td>\n",
       "      <td>29.0</td>\n",
       "      <td>1</td>\n",
       "      <td>1</td>\n",
       "      <td>347054</td>\n",
       "      <td>10.4625</td>\n",
       "      <td>G6</td>\n",
       "      <td>S</td>\n",
       "    </tr>\n",
       "    <tr>\n",
       "      <th>293</th>\n",
       "      <td>0</td>\n",
       "      <td>2</td>\n",
       "      <td>Levy, Mr. Rene Jacques</td>\n",
       "      <td>male</td>\n",
       "      <td>36.0</td>\n",
       "      <td>0</td>\n",
       "      <td>0</td>\n",
       "      <td>SC/Paris 2163</td>\n",
       "      <td>12.8750</td>\n",
       "      <td>D</td>\n",
       "      <td>C</td>\n",
       "    </tr>\n",
       "    <tr>\n",
       "      <th>304</th>\n",
       "      <td>1</td>\n",
       "      <td>2</td>\n",
       "      <td>Keane, Miss. Nora A</td>\n",
       "      <td>female</td>\n",
       "      <td>NaN</td>\n",
       "      <td>0</td>\n",
       "      <td>0</td>\n",
       "      <td>226593</td>\n",
       "      <td>12.3500</td>\n",
       "      <td>E101</td>\n",
       "      <td>Q</td>\n",
       "    </tr>\n",
       "    <tr>\n",
       "      <th>328</th>\n",
       "      <td>1</td>\n",
       "      <td>2</td>\n",
       "      <td>Ball, Mrs. (Ada E Hall)</td>\n",
       "      <td>female</td>\n",
       "      <td>36.0</td>\n",
       "      <td>0</td>\n",
       "      <td>0</td>\n",
       "      <td>28551</td>\n",
       "      <td>13.0000</td>\n",
       "      <td>D</td>\n",
       "      <td>S</td>\n",
       "    </tr>\n",
       "    <tr>\n",
       "      <th>341</th>\n",
       "      <td>1</td>\n",
       "      <td>2</td>\n",
       "      <td>Navratil, Master. Edmond Roger</td>\n",
       "      <td>male</td>\n",
       "      <td>2.0</td>\n",
       "      <td>1</td>\n",
       "      <td>1</td>\n",
       "      <td>230080</td>\n",
       "      <td>26.0000</td>\n",
       "      <td>F2</td>\n",
       "      <td>S</td>\n",
       "    </tr>\n",
       "    <tr>\n",
       "      <th>346</th>\n",
       "      <td>1</td>\n",
       "      <td>2</td>\n",
       "      <td>Brown, Miss. Amelia \"Mildred\"</td>\n",
       "      <td>female</td>\n",
       "      <td>24.0</td>\n",
       "      <td>0</td>\n",
       "      <td>0</td>\n",
       "      <td>248733</td>\n",
       "      <td>13.0000</td>\n",
       "      <td>F33</td>\n",
       "      <td>S</td>\n",
       "    </tr>\n",
       "    <tr>\n",
       "      <th>395</th>\n",
       "      <td>1</td>\n",
       "      <td>3</td>\n",
       "      <td>Sandstrom, Mrs. Hjalmar (Agnes Charlotta Bengt...</td>\n",
       "      <td>female</td>\n",
       "      <td>24.0</td>\n",
       "      <td>0</td>\n",
       "      <td>2</td>\n",
       "      <td>PP 9549</td>\n",
       "      <td>16.7000</td>\n",
       "      <td>G6</td>\n",
       "      <td>S</td>\n",
       "    </tr>\n",
       "    <tr>\n",
       "      <th>430</th>\n",
       "      <td>1</td>\n",
       "      <td>3</td>\n",
       "      <td>Pickard, Mr. Berk (Berk Trembisky)</td>\n",
       "      <td>male</td>\n",
       "      <td>32.0</td>\n",
       "      <td>0</td>\n",
       "      <td>0</td>\n",
       "      <td>SOTON/O.Q. 392078</td>\n",
       "      <td>8.0500</td>\n",
       "      <td>E10</td>\n",
       "      <td>S</td>\n",
       "    </tr>\n",
       "    <tr>\n",
       "      <th>474</th>\n",
       "      <td>1</td>\n",
       "      <td>2</td>\n",
       "      <td>Jerwan, Mrs. Amin S (Marie Marthe Thuillard)</td>\n",
       "      <td>female</td>\n",
       "      <td>23.0</td>\n",
       "      <td>0</td>\n",
       "      <td>0</td>\n",
       "      <td>SC/AH Basle 541</td>\n",
       "      <td>13.7917</td>\n",
       "      <td>D</td>\n",
       "      <td>C</td>\n",
       "    </tr>\n",
       "    <tr>\n",
       "      <th>517</th>\n",
       "      <td>1</td>\n",
       "      <td>2</td>\n",
       "      <td>Lemore, Mrs. (Amelia Milley)</td>\n",
       "      <td>female</td>\n",
       "      <td>34.0</td>\n",
       "      <td>0</td>\n",
       "      <td>0</td>\n",
       "      <td>C.A. 34260</td>\n",
       "      <td>10.5000</td>\n",
       "      <td>F33</td>\n",
       "      <td>S</td>\n",
       "    </tr>\n",
       "    <tr>\n",
       "      <th>619</th>\n",
       "      <td>1</td>\n",
       "      <td>2</td>\n",
       "      <td>Becker, Miss. Marion Louise</td>\n",
       "      <td>female</td>\n",
       "      <td>4.0</td>\n",
       "      <td>2</td>\n",
       "      <td>1</td>\n",
       "      <td>230136</td>\n",
       "      <td>39.0000</td>\n",
       "      <td>F4</td>\n",
       "      <td>S</td>\n",
       "    </tr>\n",
       "    <tr>\n",
       "      <th>700</th>\n",
       "      <td>0</td>\n",
       "      <td>3</td>\n",
       "      <td>Humblen, Mr. Adolf Mathias Nicolai Olsen</td>\n",
       "      <td>male</td>\n",
       "      <td>42.0</td>\n",
       "      <td>0</td>\n",
       "      <td>0</td>\n",
       "      <td>348121</td>\n",
       "      <td>7.6500</td>\n",
       "      <td>F G63</td>\n",
       "      <td>S</td>\n",
       "    </tr>\n",
       "    <tr>\n",
       "      <th>716</th>\n",
       "      <td>0</td>\n",
       "      <td>3</td>\n",
       "      <td>Soholt, Mr. Peter Andreas Lauritz Andersen</td>\n",
       "      <td>male</td>\n",
       "      <td>19.0</td>\n",
       "      <td>0</td>\n",
       "      <td>0</td>\n",
       "      <td>348124</td>\n",
       "      <td>7.6500</td>\n",
       "      <td>F G73</td>\n",
       "      <td>S</td>\n",
       "    </tr>\n",
       "    <tr>\n",
       "      <th>718</th>\n",
       "      <td>1</td>\n",
       "      <td>2</td>\n",
       "      <td>Troutt, Miss. Edwina Celia \"Winnie\"</td>\n",
       "      <td>female</td>\n",
       "      <td>27.0</td>\n",
       "      <td>0</td>\n",
       "      <td>0</td>\n",
       "      <td>34218</td>\n",
       "      <td>10.5000</td>\n",
       "      <td>E101</td>\n",
       "      <td>S</td>\n",
       "    </tr>\n",
       "    <tr>\n",
       "      <th>752</th>\n",
       "      <td>1</td>\n",
       "      <td>3</td>\n",
       "      <td>Moor, Master. Meier</td>\n",
       "      <td>male</td>\n",
       "      <td>6.0</td>\n",
       "      <td>0</td>\n",
       "      <td>1</td>\n",
       "      <td>392096</td>\n",
       "      <td>12.4750</td>\n",
       "      <td>E121</td>\n",
       "      <td>S</td>\n",
       "    </tr>\n",
       "    <tr>\n",
       "      <th>773</th>\n",
       "      <td>0</td>\n",
       "      <td>2</td>\n",
       "      <td>Mack, Mrs. (Mary)</td>\n",
       "      <td>female</td>\n",
       "      <td>57.0</td>\n",
       "      <td>0</td>\n",
       "      <td>0</td>\n",
       "      <td>S.O./P.P. 3</td>\n",
       "      <td>10.5000</td>\n",
       "      <td>E77</td>\n",
       "      <td>S</td>\n",
       "    </tr>\n",
       "    <tr>\n",
       "      <th>777</th>\n",
       "      <td>0</td>\n",
       "      <td>3</td>\n",
       "      <td>Tobin, Mr. Roger</td>\n",
       "      <td>male</td>\n",
       "      <td>NaN</td>\n",
       "      <td>0</td>\n",
       "      <td>0</td>\n",
       "      <td>383121</td>\n",
       "      <td>7.7500</td>\n",
       "      <td>F38</td>\n",
       "      <td>Q</td>\n",
       "    </tr>\n",
       "    <tr>\n",
       "      <th>824</th>\n",
       "      <td>1</td>\n",
       "      <td>3</td>\n",
       "      <td>Moor, Mrs. (Beila)</td>\n",
       "      <td>female</td>\n",
       "      <td>27.0</td>\n",
       "      <td>0</td>\n",
       "      <td>1</td>\n",
       "      <td>392096</td>\n",
       "      <td>12.4750</td>\n",
       "      <td>E121</td>\n",
       "      <td>S</td>\n",
       "    </tr>\n",
       "  </tbody>\n",
       "</table>\n",
       "</div>"
      ],
      "text/plain": [
       "             Survived  Pclass  \\\n",
       "PassengerId                     \n",
       "11                  1       3   \n",
       "22                  1       2   \n",
       "67                  1       2   \n",
       "76                  0       3   \n",
       "124                 1       2   \n",
       "129                 1       3   \n",
       "149                 0       2   \n",
       "184                 1       2   \n",
       "194                 1       2   \n",
       "206                 0       3   \n",
       "252                 0       3   \n",
       "293                 0       2   \n",
       "304                 1       2   \n",
       "328                 1       2   \n",
       "341                 1       2   \n",
       "346                 1       2   \n",
       "395                 1       3   \n",
       "430                 1       3   \n",
       "474                 1       2   \n",
       "517                 1       2   \n",
       "619                 1       2   \n",
       "700                 0       3   \n",
       "716                 0       3   \n",
       "718                 1       2   \n",
       "752                 1       3   \n",
       "773                 0       2   \n",
       "777                 0       3   \n",
       "824                 1       3   \n",
       "\n",
       "                                                          Name     Sex   Age  \\\n",
       "PassengerId                                                                    \n",
       "11                             Sandstrom, Miss. Marguerite Rut  female   4.0   \n",
       "22                                       Beesley, Mr. Lawrence    male  34.0   \n",
       "67                                Nye, Mrs. (Elizabeth Ramell)  female  29.0   \n",
       "76                                     Moen, Mr. Sigurd Hansen    male  25.0   \n",
       "124                                        Webber, Miss. Susan  female  32.5   \n",
       "129                                          Peter, Miss. Anna  female   NaN   \n",
       "149                   Navratil, Mr. Michel (\"Louis M Hoffman\")    male  36.5   \n",
       "184                                  Becker, Master. Richard F    male   1.0   \n",
       "194                                 Navratil, Master. Michel M    male   3.0   \n",
       "206                                 Strom, Miss. Telma Matilda  female   2.0   \n",
       "252                 Strom, Mrs. Wilhelm (Elna Matilda Persson)  female  29.0   \n",
       "293                                     Levy, Mr. Rene Jacques    male  36.0   \n",
       "304                                        Keane, Miss. Nora A  female   NaN   \n",
       "328                                    Ball, Mrs. (Ada E Hall)  female  36.0   \n",
       "341                             Navratil, Master. Edmond Roger    male   2.0   \n",
       "346                              Brown, Miss. Amelia \"Mildred\"  female  24.0   \n",
       "395          Sandstrom, Mrs. Hjalmar (Agnes Charlotta Bengt...  female  24.0   \n",
       "430                         Pickard, Mr. Berk (Berk Trembisky)    male  32.0   \n",
       "474               Jerwan, Mrs. Amin S (Marie Marthe Thuillard)  female  23.0   \n",
       "517                               Lemore, Mrs. (Amelia Milley)  female  34.0   \n",
       "619                                Becker, Miss. Marion Louise  female   4.0   \n",
       "700                   Humblen, Mr. Adolf Mathias Nicolai Olsen    male  42.0   \n",
       "716                 Soholt, Mr. Peter Andreas Lauritz Andersen    male  19.0   \n",
       "718                        Troutt, Miss. Edwina Celia \"Winnie\"  female  27.0   \n",
       "752                                        Moor, Master. Meier    male   6.0   \n",
       "773                                          Mack, Mrs. (Mary)  female  57.0   \n",
       "777                                           Tobin, Mr. Roger    male   NaN   \n",
       "824                                         Moor, Mrs. (Beila)  female  27.0   \n",
       "\n",
       "             SibSp  Parch             Ticket     Fare  Cabin Embarked  \n",
       "PassengerId                                                            \n",
       "11               1      1            PP 9549  16.7000     G6        S  \n",
       "22               0      0             248698  13.0000    D56        S  \n",
       "67               0      0         C.A. 29395  10.5000    F33        S  \n",
       "76               0      0             348123   7.6500  F G73        S  \n",
       "124              0      0              27267  13.0000   E101        S  \n",
       "129              1      1               2668  22.3583  F E69        C  \n",
       "149              0      2             230080  26.0000     F2        S  \n",
       "184              2      1             230136  39.0000     F4        S  \n",
       "194              1      1             230080  26.0000     F2        S  \n",
       "206              0      1             347054  10.4625     G6        S  \n",
       "252              1      1             347054  10.4625     G6        S  \n",
       "293              0      0      SC/Paris 2163  12.8750      D        C  \n",
       "304              0      0             226593  12.3500   E101        Q  \n",
       "328              0      0              28551  13.0000      D        S  \n",
       "341              1      1             230080  26.0000     F2        S  \n",
       "346              0      0             248733  13.0000    F33        S  \n",
       "395              0      2            PP 9549  16.7000     G6        S  \n",
       "430              0      0  SOTON/O.Q. 392078   8.0500    E10        S  \n",
       "474              0      0    SC/AH Basle 541  13.7917      D        C  \n",
       "517              0      0         C.A. 34260  10.5000    F33        S  \n",
       "619              2      1             230136  39.0000     F4        S  \n",
       "700              0      0             348121   7.6500  F G63        S  \n",
       "716              0      0             348124   7.6500  F G73        S  \n",
       "718              0      0              34218  10.5000   E101        S  \n",
       "752              0      1             392096  12.4750   E121        S  \n",
       "773              0      0        S.O./P.P. 3  10.5000    E77        S  \n",
       "777              0      0             383121   7.7500    F38        Q  \n",
       "824              0      1             392096  12.4750   E121        S  "
      ]
     },
     "execution_count": 27,
     "metadata": {},
     "output_type": "execute_result"
    }
   ],
   "source": [
    "# Cabin is not only for first class\n",
    "train[(train['Cabin'].isna() == False) & (train['Pclass'].isin([2, 3]))]"
   ]
  },
  {
   "cell_type": "code",
   "execution_count": 11,
   "id": "vanilla-vanilla",
   "metadata": {
    "ExecuteTime": {
     "end_time": "2021-04-20T08:20:38.370153Z",
     "start_time": "2021-04-20T08:20:37.897077Z"
    }
   },
   "outputs": [
    {
     "data": {
      "text/plain": [
       "array([[<AxesSubplot:title={'center':'Survived'}>,\n",
       "        <AxesSubplot:title={'center':'Pclass'}>],\n",
       "       [<AxesSubplot:title={'center':'Age'}>,\n",
       "        <AxesSubplot:title={'center':'SibSp'}>],\n",
       "       [<AxesSubplot:title={'center':'Parch'}>,\n",
       "        <AxesSubplot:title={'center':'Fare'}>]], dtype=object)"
      ]
     },
     "execution_count": 11,
     "metadata": {},
     "output_type": "execute_result"
    },
    {
     "data": {
      "image/png": "[encoded data removed]",
      "text/plain": [
       "<Figure size 864x576 with 6 Axes>"
      ]
     },
     "metadata": {
      "needs_background": "light"
     },
     "output_type": "display_data"
    }
   ],
   "source": [
    "train.hist(figsize=(12, 8))"
   ]
  },
  {
   "cell_type": "code",
   "execution_count": 14,
   "id": "ranking-russell",
   "metadata": {
    "ExecuteTime": {
     "end_time": "2021-04-20T08:30:29.936706Z",
     "start_time": "2021-04-20T08:30:29.929107Z"
    }
   },
   "outputs": [],
   "source": [
    "def split_variables(df):\n",
    "    col_types = [df[col].dtype for col in df.columns]\n",
    "    col_num = [True if col_types[i] != 'object' else False for i in range(len(col_types))]\n",
    "    col_cat = [True if col_types[i] == 'object' else False for i in range(len(col_types))]\n",
    "    return col_num, col_cat"
   ]
  },
  {
   "cell_type": "code",
   "execution_count": 15,
   "id": "adopted-riverside",
   "metadata": {
    "ExecuteTime": {
     "end_time": "2021-04-20T08:30:58.242416Z",
     "start_time": "2021-04-20T08:30:58.237672Z"
    }
   },
   "outputs": [],
   "source": [
    "cols_num, cols_cat = split_variables(train)"
   ]
  },
  {
   "cell_type": "markdown",
   "id": "minute-rally",
   "metadata": {},
   "source": [
    "### 3. Exploratory Data Analysis (EDA)"
   ]
  },
  {
   "cell_type": "code",
   "execution_count": 12,
   "id": "regulation-tomato",
   "metadata": {
    "ExecuteTime": {
     "end_time": "2021-04-20T08:23:32.918963Z",
     "start_time": "2021-04-20T08:23:32.914940Z"
    }
   },
   "outputs": [],
   "source": [
    "# Making a copy\n",
    "train_eda = train.copy()"
   ]
  },
  {
   "cell_type": "markdown",
   "id": "varied-islam",
   "metadata": {},
   "source": [
    "#### 3.1. Numerical Variables"
   ]
  },
  {
   "cell_type": "code",
   "execution_count": 372,
   "id": "viral-piece",
   "metadata": {
    "ExecuteTime": {
     "end_time": "2021-04-20T16:09:37.143260Z",
     "start_time": "2021-04-20T16:09:37.120006Z"
    }
   },
   "outputs": [
    {
     "data": {
      "text/html": [
       "<div>\n",
       "<style scoped>\n",
       "    .dataframe tbody tr th:only-of-type {\n",
       "        vertical-align: middle;\n",
       "    }\n",
       "\n",
       "    .dataframe tbody tr th {\n",
       "        vertical-align: top;\n",
       "    }\n",
       "\n",
       "    .dataframe thead th {\n",
       "        text-align: right;\n",
       "    }\n",
       "</style>\n",
       "<table border=\"1\" class=\"dataframe\">\n",
       "  <thead>\n",
       "    <tr style=\"text-align: right;\">\n",
       "      <th></th>\n",
       "      <th>Survived</th>\n",
       "      <th>Pclass</th>\n",
       "      <th>Age</th>\n",
       "      <th>SibSp</th>\n",
       "      <th>Parch</th>\n",
       "      <th>Fare</th>\n",
       "      <th>Fare_log</th>\n",
       "      <th>SibSp_log</th>\n",
       "      <th>Parch_log</th>\n",
       "    </tr>\n",
       "  </thead>\n",
       "  <tbody>\n",
       "    <tr>\n",
       "      <th>Survived</th>\n",
       "      <td>1.000000</td>\n",
       "      <td>-0.338481</td>\n",
       "      <td>-0.077221</td>\n",
       "      <td>-0.035322</td>\n",
       "      <td>0.081629</td>\n",
       "      <td>0.257307</td>\n",
       "      <td>0.329862</td>\n",
       "      <td>0.029430</td>\n",
       "      <td>0.114999</td>\n",
       "    </tr>\n",
       "    <tr>\n",
       "      <th>Fare_log</th>\n",
       "      <td>0.329862</td>\n",
       "      <td>-0.661022</td>\n",
       "      <td>0.116495</td>\n",
       "      <td>0.318528</td>\n",
       "      <td>0.332186</td>\n",
       "      <td>0.787543</td>\n",
       "      <td>1.000000</td>\n",
       "      <td>0.375371</td>\n",
       "      <td>0.363261</td>\n",
       "    </tr>\n",
       "    <tr>\n",
       "      <th>Fare</th>\n",
       "      <td>0.257307</td>\n",
       "      <td>-0.549500</td>\n",
       "      <td>0.096067</td>\n",
       "      <td>0.159651</td>\n",
       "      <td>0.216225</td>\n",
       "      <td>1.000000</td>\n",
       "      <td>0.787543</td>\n",
       "      <td>0.187671</td>\n",
       "      <td>0.238597</td>\n",
       "    </tr>\n",
       "    <tr>\n",
       "      <th>Parch_log</th>\n",
       "      <td>0.114999</td>\n",
       "      <td>-0.002530</td>\n",
       "      <td>-0.248052</td>\n",
       "      <td>0.464397</td>\n",
       "      <td>0.970328</td>\n",
       "      <td>0.238597</td>\n",
       "      <td>0.363261</td>\n",
       "      <td>0.473259</td>\n",
       "      <td>1.000000</td>\n",
       "    </tr>\n",
       "    <tr>\n",
       "      <th>Parch</th>\n",
       "      <td>0.081629</td>\n",
       "      <td>0.018443</td>\n",
       "      <td>-0.189119</td>\n",
       "      <td>0.414838</td>\n",
       "      <td>1.000000</td>\n",
       "      <td>0.216225</td>\n",
       "      <td>0.332186</td>\n",
       "      <td>0.422113</td>\n",
       "      <td>0.970328</td>\n",
       "    </tr>\n",
       "    <tr>\n",
       "      <th>SibSp_log</th>\n",
       "      <td>0.029430</td>\n",
       "      <td>0.022021</td>\n",
       "      <td>-0.267173</td>\n",
       "      <td>0.936301</td>\n",
       "      <td>0.422113</td>\n",
       "      <td>0.187671</td>\n",
       "      <td>0.375371</td>\n",
       "      <td>1.000000</td>\n",
       "      <td>0.473259</td>\n",
       "    </tr>\n",
       "    <tr>\n",
       "      <th>SibSp</th>\n",
       "      <td>-0.035322</td>\n",
       "      <td>0.083081</td>\n",
       "      <td>-0.308247</td>\n",
       "      <td>1.000000</td>\n",
       "      <td>0.414838</td>\n",
       "      <td>0.159651</td>\n",
       "      <td>0.318528</td>\n",
       "      <td>0.936301</td>\n",
       "      <td>0.464397</td>\n",
       "    </tr>\n",
       "    <tr>\n",
       "      <th>Age</th>\n",
       "      <td>-0.077221</td>\n",
       "      <td>-0.369226</td>\n",
       "      <td>1.000000</td>\n",
       "      <td>-0.308247</td>\n",
       "      <td>-0.189119</td>\n",
       "      <td>0.096067</td>\n",
       "      <td>0.116495</td>\n",
       "      <td>-0.267173</td>\n",
       "      <td>-0.248052</td>\n",
       "    </tr>\n",
       "    <tr>\n",
       "      <th>Pclass</th>\n",
       "      <td>-0.338481</td>\n",
       "      <td>1.000000</td>\n",
       "      <td>-0.369226</td>\n",
       "      <td>0.083081</td>\n",
       "      <td>0.018443</td>\n",
       "      <td>-0.549500</td>\n",
       "      <td>-0.661022</td>\n",
       "      <td>0.022021</td>\n",
       "      <td>-0.002530</td>\n",
       "    </tr>\n",
       "  </tbody>\n",
       "</table>\n",
       "</div>"
      ],
      "text/plain": [
       "           Survived    Pclass       Age     SibSp     Parch      Fare  \\\n",
       "Survived   1.000000 -0.338481 -0.077221 -0.035322  0.081629  0.257307   \n",
       "Fare_log   0.329862 -0.661022  0.116495  0.318528  0.332186  0.787543   \n",
       "Fare       0.257307 -0.549500  0.096067  0.159651  0.216225  1.000000   \n",
       "Parch_log  0.114999 -0.002530 -0.248052  0.464397  0.970328  0.238597   \n",
       "Parch      0.081629  0.018443 -0.189119  0.414838  1.000000  0.216225   \n",
       "SibSp_log  0.029430  0.022021 -0.267173  0.936301  0.422113  0.187671   \n",
       "SibSp     -0.035322  0.083081 -0.308247  1.000000  0.414838  0.159651   \n",
       "Age       -0.077221 -0.369226  1.000000 -0.308247 -0.189119  0.096067   \n",
       "Pclass    -0.338481  1.000000 -0.369226  0.083081  0.018443 -0.549500   \n",
       "\n",
       "           Fare_log  SibSp_log  Parch_log  \n",
       "Survived   0.329862   0.029430   0.114999  \n",
       "Fare_log   1.000000   0.375371   0.363261  \n",
       "Fare       0.787543   0.187671   0.238597  \n",
       "Parch_log  0.363261   0.473259   1.000000  \n",
       "Parch      0.332186   0.422113   0.970328  \n",
       "SibSp_log  0.375371   1.000000   0.473259  \n",
       "SibSp      0.318528   0.936301   0.464397  \n",
       "Age        0.116495  -0.267173  -0.248052  \n",
       "Pclass    -0.661022   0.022021  -0.002530  "
      ]
     },
     "execution_count": 372,
     "metadata": {},
     "output_type": "execute_result"
    }
   ],
   "source": [
    "# Looking for correlations\n",
    "corr = train_eda.corr()\n",
    "corr.sort_values(by='Survived', ascending=False)"
   ]
  },
  {
   "cell_type": "code",
   "execution_count": 373,
   "id": "proud-weekend",
   "metadata": {
    "ExecuteTime": {
     "end_time": "2021-04-20T16:09:39.432441Z",
     "start_time": "2021-04-20T16:09:39.261013Z"
    }
   },
   "outputs": [
    {
     "data": {
      "text/plain": [
       "<AxesSubplot:>"
      ]
     },
     "execution_count": 373,
     "metadata": {},
     "output_type": "execute_result"
    },
    {
     "data": {
      "image/png": "[encoded data removed]",
      "text/plain": [
       "<Figure size 864x576 with 2 Axes>"
      ]
     },
     "metadata": {},
     "output_type": "display_data"
    }
   ],
   "source": [
    "# Generate a mask for the upper triangle\n",
    "mask = np.triu(np.ones_like(corr, dtype=bool))\n",
    "\n",
    "# Set up the matplotlib figure\n",
    "f, ax = plt.subplots(figsize=(12, 8))\n",
    "\n",
    "# Generate a custom diverging colormap\n",
    "cmap = sns.diverging_palette(230, 20, as_cmap=True)\n",
    "\n",
    "# Draw the heatmap with the mask and correct aspect ratio\n",
    "sns.heatmap(corr, mask=mask, cmap=cmap, vmax=.4, center=0,\n",
    "            square=True, linewidths=.5, cbar_kws={\"shrink\": .5})"
   ]
  },
  {
   "cell_type": "code",
   "execution_count": 38,
   "id": "interim-decade",
   "metadata": {
    "ExecuteTime": {
     "end_time": "2021-04-20T08:54:54.742494Z",
     "start_time": "2021-04-20T08:54:54.730940Z"
    }
   },
   "outputs": [
    {
     "data": {
      "text/plain": [
       "Fare        4.779253\n",
       "SibSp       3.689128\n",
       "Parch       2.744487\n",
       "Survived    0.477717\n",
       "Pclass     -0.629486\n",
       "Age              NaN\n",
       "dtype: float64"
      ]
     },
     "execution_count": 38,
     "metadata": {},
     "output_type": "execute_result"
    }
   ],
   "source": [
    "skewed = train_eda.loc[:, cols_num].apply(skew).sort_values(ascending=False)\n",
    "skewed"
   ]
  },
  {
   "cell_type": "code",
   "execution_count": 62,
   "id": "controversial-companion",
   "metadata": {
    "ExecuteTime": {
     "end_time": "2021-04-20T09:35:08.769869Z",
     "start_time": "2021-04-20T09:35:08.763181Z"
    }
   },
   "outputs": [],
   "source": [
    "# trying transformations\n",
    "train_eda['Fare_log'] = np.log1p(train_eda['Fare'])\n",
    "train_eda['SibSp_log'] = np.log1p(train_eda['SibSp'])\n",
    "train_eda['Parch_log'] = np.log1p(train_eda['Parch'])"
   ]
  },
  {
   "cell_type": "code",
   "execution_count": 50,
   "id": "german-stereo",
   "metadata": {
    "ExecuteTime": {
     "end_time": "2021-04-20T09:08:32.198168Z",
     "start_time": "2021-04-20T09:08:31.330414Z"
    }
   },
   "outputs": [
    {
     "name": "stderr",
     "output_type": "stream",
     "text": [
      "/home/caiomts/anaconda3/envs/infamous-ml/lib/python3.9/site-packages/pandas/plotting/_matplotlib/tools.py:400: MatplotlibDeprecationWarning: \n",
      "The is_first_col function was deprecated in Matplotlib 3.4 and will be removed two minor releases later. Use ax.get_subplotspec().is_first_col() instead.\n",
      "  if ax.is_first_col():\n"
     ]
    },
    {
     "data": {
      "text/plain": [
       "array([[<AxesSubplot:title={'center':'Survived'}>,\n",
       "        <AxesSubplot:title={'center':'Pclass'}>,\n",
       "        <AxesSubplot:title={'center':'Age'}>],\n",
       "       [<AxesSubplot:title={'center':'SibSp'}>,\n",
       "        <AxesSubplot:title={'center':'Parch'}>,\n",
       "        <AxesSubplot:title={'center':'Fare'}>],\n",
       "       [<AxesSubplot:title={'center':'Fare_log'}>,\n",
       "        <AxesSubplot:title={'center':'SibSp_log'}>,\n",
       "        <AxesSubplot:title={'center':'Parch_log'}>]], dtype=object)"
      ]
     },
     "execution_count": 50,
     "metadata": {},
     "output_type": "execute_result"
    },
    {
     "data": {
      "image/png": "[encoded data removed]",
      "text/plain": [
       "<Figure size 1080x720 with 9 Axes>"
      ]
     },
     "metadata": {},
     "output_type": "display_data"
    }
   ],
   "source": [
    "train_eda.hist(figsize=(15, 10))"
   ]
  },
  {
   "cell_type": "code",
   "execution_count": 51,
   "id": "rotary-funeral",
   "metadata": {
    "ExecuteTime": {
     "end_time": "2021-04-20T09:08:38.654095Z",
     "start_time": "2021-04-20T09:08:38.634937Z"
    }
   },
   "outputs": [
    {
     "data": {
      "text/html": [
       "<div>\n",
       "<style scoped>\n",
       "    .dataframe tbody tr th:only-of-type {\n",
       "        vertical-align: middle;\n",
       "    }\n",
       "\n",
       "    .dataframe tbody tr th {\n",
       "        vertical-align: top;\n",
       "    }\n",
       "\n",
       "    .dataframe thead th {\n",
       "        text-align: right;\n",
       "    }\n",
       "</style>\n",
       "<table border=\"1\" class=\"dataframe\">\n",
       "  <thead>\n",
       "    <tr style=\"text-align: right;\">\n",
       "      <th></th>\n",
       "      <th>Survived</th>\n",
       "      <th>Pclass</th>\n",
       "      <th>Age</th>\n",
       "      <th>SibSp</th>\n",
       "      <th>Parch</th>\n",
       "      <th>Fare</th>\n",
       "      <th>Fare_log</th>\n",
       "      <th>SibSp_log</th>\n",
       "      <th>Parch_log</th>\n",
       "    </tr>\n",
       "  </thead>\n",
       "  <tbody>\n",
       "    <tr>\n",
       "      <th>Survived</th>\n",
       "      <td>1.000000</td>\n",
       "      <td>-0.338481</td>\n",
       "      <td>-0.077221</td>\n",
       "      <td>-0.035322</td>\n",
       "      <td>0.081629</td>\n",
       "      <td>0.257307</td>\n",
       "      <td>0.329862</td>\n",
       "      <td>0.029430</td>\n",
       "      <td>0.114999</td>\n",
       "    </tr>\n",
       "    <tr>\n",
       "      <th>Fare_log</th>\n",
       "      <td>0.329862</td>\n",
       "      <td>-0.661022</td>\n",
       "      <td>0.116495</td>\n",
       "      <td>0.318528</td>\n",
       "      <td>0.332186</td>\n",
       "      <td>0.787543</td>\n",
       "      <td>1.000000</td>\n",
       "      <td>0.375371</td>\n",
       "      <td>0.363261</td>\n",
       "    </tr>\n",
       "    <tr>\n",
       "      <th>Fare</th>\n",
       "      <td>0.257307</td>\n",
       "      <td>-0.549500</td>\n",
       "      <td>0.096067</td>\n",
       "      <td>0.159651</td>\n",
       "      <td>0.216225</td>\n",
       "      <td>1.000000</td>\n",
       "      <td>0.787543</td>\n",
       "      <td>0.187671</td>\n",
       "      <td>0.238597</td>\n",
       "    </tr>\n",
       "    <tr>\n",
       "      <th>Parch_log</th>\n",
       "      <td>0.114999</td>\n",
       "      <td>-0.002530</td>\n",
       "      <td>-0.248052</td>\n",
       "      <td>0.464397</td>\n",
       "      <td>0.970328</td>\n",
       "      <td>0.238597</td>\n",
       "      <td>0.363261</td>\n",
       "      <td>0.473259</td>\n",
       "      <td>1.000000</td>\n",
       "    </tr>\n",
       "    <tr>\n",
       "      <th>Parch</th>\n",
       "      <td>0.081629</td>\n",
       "      <td>0.018443</td>\n",
       "      <td>-0.189119</td>\n",
       "      <td>0.414838</td>\n",
       "      <td>1.000000</td>\n",
       "      <td>0.216225</td>\n",
       "      <td>0.332186</td>\n",
       "      <td>0.422113</td>\n",
       "      <td>0.970328</td>\n",
       "    </tr>\n",
       "    <tr>\n",
       "      <th>SibSp_log</th>\n",
       "      <td>0.029430</td>\n",
       "      <td>0.022021</td>\n",
       "      <td>-0.267173</td>\n",
       "      <td>0.936301</td>\n",
       "      <td>0.422113</td>\n",
       "      <td>0.187671</td>\n",
       "      <td>0.375371</td>\n",
       "      <td>1.000000</td>\n",
       "      <td>0.473259</td>\n",
       "    </tr>\n",
       "    <tr>\n",
       "      <th>SibSp</th>\n",
       "      <td>-0.035322</td>\n",
       "      <td>0.083081</td>\n",
       "      <td>-0.308247</td>\n",
       "      <td>1.000000</td>\n",
       "      <td>0.414838</td>\n",
       "      <td>0.159651</td>\n",
       "      <td>0.318528</td>\n",
       "      <td>0.936301</td>\n",
       "      <td>0.464397</td>\n",
       "    </tr>\n",
       "    <tr>\n",
       "      <th>Age</th>\n",
       "      <td>-0.077221</td>\n",
       "      <td>-0.369226</td>\n",
       "      <td>1.000000</td>\n",
       "      <td>-0.308247</td>\n",
       "      <td>-0.189119</td>\n",
       "      <td>0.096067</td>\n",
       "      <td>0.116495</td>\n",
       "      <td>-0.267173</td>\n",
       "      <td>-0.248052</td>\n",
       "    </tr>\n",
       "    <tr>\n",
       "      <th>Pclass</th>\n",
       "      <td>-0.338481</td>\n",
       "      <td>1.000000</td>\n",
       "      <td>-0.369226</td>\n",
       "      <td>0.083081</td>\n",
       "      <td>0.018443</td>\n",
       "      <td>-0.549500</td>\n",
       "      <td>-0.661022</td>\n",
       "      <td>0.022021</td>\n",
       "      <td>-0.002530</td>\n",
       "    </tr>\n",
       "  </tbody>\n",
       "</table>\n",
       "</div>"
      ],
      "text/plain": [
       "           Survived    Pclass       Age     SibSp     Parch      Fare  \\\n",
       "Survived   1.000000 -0.338481 -0.077221 -0.035322  0.081629  0.257307   \n",
       "Fare_log   0.329862 -0.661022  0.116495  0.318528  0.332186  0.787543   \n",
       "Fare       0.257307 -0.549500  0.096067  0.159651  0.216225  1.000000   \n",
       "Parch_log  0.114999 -0.002530 -0.248052  0.464397  0.970328  0.238597   \n",
       "Parch      0.081629  0.018443 -0.189119  0.414838  1.000000  0.216225   \n",
       "SibSp_log  0.029430  0.022021 -0.267173  0.936301  0.422113  0.187671   \n",
       "SibSp     -0.035322  0.083081 -0.308247  1.000000  0.414838  0.159651   \n",
       "Age       -0.077221 -0.369226  1.000000 -0.308247 -0.189119  0.096067   \n",
       "Pclass    -0.338481  1.000000 -0.369226  0.083081  0.018443 -0.549500   \n",
       "\n",
       "           Fare_log  SibSp_log  Parch_log  \n",
       "Survived   0.329862   0.029430   0.114999  \n",
       "Fare_log   1.000000   0.375371   0.363261  \n",
       "Fare       0.787543   0.187671   0.238597  \n",
       "Parch_log  0.363261   0.473259   1.000000  \n",
       "Parch      0.332186   0.422113   0.970328  \n",
       "SibSp_log  0.375371   1.000000   0.473259  \n",
       "SibSp      0.318528   0.936301   0.464397  \n",
       "Age        0.116495  -0.267173  -0.248052  \n",
       "Pclass    -0.661022   0.022021  -0.002530  "
      ]
     },
     "execution_count": 51,
     "metadata": {},
     "output_type": "execute_result"
    }
   ],
   "source": [
    "train_eda.corr().sort_values(by='Survived', ascending=False)"
   ]
  },
  {
   "cell_type": "markdown",
   "id": "capable-monte",
   "metadata": {},
   "source": [
    "Fare_log and Parch_log are good transformations"
   ]
  },
  {
   "cell_type": "markdown",
   "id": "guilty-jacob",
   "metadata": {},
   "source": [
    "#### 3.2. Categorical Variables"
   ]
  },
  {
   "cell_type": "code",
   "execution_count": 79,
   "id": "preliminary-maintenance",
   "metadata": {
    "ExecuteTime": {
     "end_time": "2021-04-20T09:44:32.902354Z",
     "start_time": "2021-04-20T09:44:32.890273Z"
    }
   },
   "outputs": [
    {
     "data": {
      "text/plain": [
       "Name        891\n",
       "Sex           2\n",
       "Ticket      681\n",
       "Cabin       147\n",
       "Embarked      3\n",
       "dtype: int64"
      ]
     },
     "execution_count": 79,
     "metadata": {},
     "output_type": "execute_result"
    }
   ],
   "source": [
    "train.loc[:, cols_cat].nunique()"
   ]
  },
  {
   "cell_type": "code",
   "execution_count": 83,
   "id": "brave-blood",
   "metadata": {
    "ExecuteTime": {
     "end_time": "2021-04-20T09:47:58.443479Z",
     "start_time": "2021-04-20T09:47:58.438106Z"
    }
   },
   "outputs": [],
   "source": [
    "train_eda['Cabin'].fillna(0, inplace=True)"
   ]
  },
  {
   "cell_type": "code",
   "execution_count": 89,
   "id": "satellite-rouge",
   "metadata": {
    "ExecuteTime": {
     "end_time": "2021-04-20T09:51:07.875542Z",
     "start_time": "2021-04-20T09:51:07.869875Z"
    }
   },
   "outputs": [],
   "source": [
    "train_eda['Cabin_'] = train_eda['Cabin'].apply(lambda x: str(x)[0])"
   ]
  },
  {
   "cell_type": "code",
   "execution_count": 93,
   "id": "fitting-damage",
   "metadata": {
    "ExecuteTime": {
     "end_time": "2021-04-20T09:53:07.971563Z",
     "start_time": "2021-04-20T09:53:07.943802Z"
    }
   },
   "outputs": [
    {
     "data": {
      "text/html": [
       "<div>\n",
       "<style scoped>\n",
       "    .dataframe tbody tr th:only-of-type {\n",
       "        vertical-align: middle;\n",
       "    }\n",
       "\n",
       "    .dataframe tbody tr th {\n",
       "        vertical-align: top;\n",
       "    }\n",
       "\n",
       "    .dataframe thead th {\n",
       "        text-align: right;\n",
       "    }\n",
       "</style>\n",
       "<table border=\"1\" class=\"dataframe\">\n",
       "  <thead>\n",
       "    <tr style=\"text-align: right;\">\n",
       "      <th>Cabin_</th>\n",
       "      <th>0</th>\n",
       "      <th>A</th>\n",
       "      <th>B</th>\n",
       "      <th>C</th>\n",
       "      <th>D</th>\n",
       "      <th>E</th>\n",
       "      <th>F</th>\n",
       "      <th>G</th>\n",
       "      <th>T</th>\n",
       "    </tr>\n",
       "    <tr>\n",
       "      <th>Survived</th>\n",
       "      <th></th>\n",
       "      <th></th>\n",
       "      <th></th>\n",
       "      <th></th>\n",
       "      <th></th>\n",
       "      <th></th>\n",
       "      <th></th>\n",
       "      <th></th>\n",
       "      <th></th>\n",
       "    </tr>\n",
       "  </thead>\n",
       "  <tbody>\n",
       "    <tr>\n",
       "      <th>0</th>\n",
       "      <td>0.700146</td>\n",
       "      <td>0.533333</td>\n",
       "      <td>0.255319</td>\n",
       "      <td>0.40678</td>\n",
       "      <td>0.242424</td>\n",
       "      <td>0.25</td>\n",
       "      <td>0.384615</td>\n",
       "      <td>0.5</td>\n",
       "      <td>1.0</td>\n",
       "    </tr>\n",
       "    <tr>\n",
       "      <th>1</th>\n",
       "      <td>0.299854</td>\n",
       "      <td>0.466667</td>\n",
       "      <td>0.744681</td>\n",
       "      <td>0.59322</td>\n",
       "      <td>0.757576</td>\n",
       "      <td>0.75</td>\n",
       "      <td>0.615385</td>\n",
       "      <td>0.5</td>\n",
       "      <td>0.0</td>\n",
       "    </tr>\n",
       "  </tbody>\n",
       "</table>\n",
       "</div>"
      ],
      "text/plain": [
       "Cabin_           0         A         B        C         D     E         F  \\\n",
       "Survived                                                                    \n",
       "0         0.700146  0.533333  0.255319  0.40678  0.242424  0.25  0.384615   \n",
       "1         0.299854  0.466667  0.744681  0.59322  0.757576  0.75  0.615385   \n",
       "\n",
       "Cabin_      G    T  \n",
       "Survived            \n",
       "0         0.5  1.0  \n",
       "1         0.5  0.0  "
      ]
     },
     "execution_count": 93,
     "metadata": {},
     "output_type": "execute_result"
    }
   ],
   "source": [
    "pd.crosstab(train_eda['Survived'], train_eda['Cabin_'], normalize='columns')"
   ]
  },
  {
   "cell_type": "markdown",
   "id": "arctic-track",
   "metadata": {},
   "source": [
    "*Good Categorical Variable*"
   ]
  },
  {
   "cell_type": "code",
   "execution_count": 94,
   "id": "violent-andorra",
   "metadata": {
    "ExecuteTime": {
     "end_time": "2021-04-20T09:54:49.571881Z",
     "start_time": "2021-04-20T09:54:49.552449Z"
    }
   },
   "outputs": [
    {
     "data": {
      "text/html": [
       "<div>\n",
       "<style scoped>\n",
       "    .dataframe tbody tr th:only-of-type {\n",
       "        vertical-align: middle;\n",
       "    }\n",
       "\n",
       "    .dataframe tbody tr th {\n",
       "        vertical-align: top;\n",
       "    }\n",
       "\n",
       "    .dataframe thead th {\n",
       "        text-align: right;\n",
       "    }\n",
       "</style>\n",
       "<table border=\"1\" class=\"dataframe\">\n",
       "  <thead>\n",
       "    <tr style=\"text-align: right;\">\n",
       "      <th>Embarked</th>\n",
       "      <th>C</th>\n",
       "      <th>Q</th>\n",
       "      <th>S</th>\n",
       "    </tr>\n",
       "    <tr>\n",
       "      <th>Survived</th>\n",
       "      <th></th>\n",
       "      <th></th>\n",
       "      <th></th>\n",
       "    </tr>\n",
       "  </thead>\n",
       "  <tbody>\n",
       "    <tr>\n",
       "      <th>0</th>\n",
       "      <td>0.446429</td>\n",
       "      <td>0.61039</td>\n",
       "      <td>0.663043</td>\n",
       "    </tr>\n",
       "    <tr>\n",
       "      <th>1</th>\n",
       "      <td>0.553571</td>\n",
       "      <td>0.38961</td>\n",
       "      <td>0.336957</td>\n",
       "    </tr>\n",
       "  </tbody>\n",
       "</table>\n",
       "</div>"
      ],
      "text/plain": [
       "Embarked         C        Q         S\n",
       "Survived                             \n",
       "0         0.446429  0.61039  0.663043\n",
       "1         0.553571  0.38961  0.336957"
      ]
     },
     "execution_count": 94,
     "metadata": {},
     "output_type": "execute_result"
    }
   ],
   "source": [
    "pd.crosstab(train_eda['Survived'], train_eda['Embarked'], normalize='columns')"
   ]
  },
  {
   "cell_type": "code",
   "execution_count": 69,
   "id": "eight-facility",
   "metadata": {
    "ExecuteTime": {
     "end_time": "2021-04-20T09:40:03.358833Z",
     "start_time": "2021-04-20T09:40:03.340090Z"
    }
   },
   "outputs": [
    {
     "data": {
      "text/html": [
       "<div>\n",
       "<style scoped>\n",
       "    .dataframe tbody tr th:only-of-type {\n",
       "        vertical-align: middle;\n",
       "    }\n",
       "\n",
       "    .dataframe tbody tr th {\n",
       "        vertical-align: top;\n",
       "    }\n",
       "\n",
       "    .dataframe thead th {\n",
       "        text-align: right;\n",
       "    }\n",
       "</style>\n",
       "<table border=\"1\" class=\"dataframe\">\n",
       "  <thead>\n",
       "    <tr style=\"text-align: right;\">\n",
       "      <th>Sex</th>\n",
       "      <th>female</th>\n",
       "      <th>male</th>\n",
       "    </tr>\n",
       "    <tr>\n",
       "      <th>Survived</th>\n",
       "      <th></th>\n",
       "      <th></th>\n",
       "    </tr>\n",
       "  </thead>\n",
       "  <tbody>\n",
       "    <tr>\n",
       "      <th>0</th>\n",
       "      <td>0.257962</td>\n",
       "      <td>0.811092</td>\n",
       "    </tr>\n",
       "    <tr>\n",
       "      <th>1</th>\n",
       "      <td>0.742038</td>\n",
       "      <td>0.188908</td>\n",
       "    </tr>\n",
       "  </tbody>\n",
       "</table>\n",
       "</div>"
      ],
      "text/plain": [
       "Sex         female      male\n",
       "Survived                    \n",
       "0         0.257962  0.811092\n",
       "1         0.742038  0.188908"
      ]
     },
     "execution_count": 69,
     "metadata": {},
     "output_type": "execute_result"
    }
   ],
   "source": [
    "pd.crosstab(train_eda['Survived'], train_eda['Sex'], normalize='columns')"
   ]
  },
  {
   "cell_type": "markdown",
   "id": "gorgeous-wheat",
   "metadata": {},
   "source": [
    "### 4. Prepare the data for ML Algorithms"
   ]
  },
  {
   "cell_type": "code",
   "execution_count": 413,
   "id": "alone-technical",
   "metadata": {
    "ExecuteTime": {
     "end_time": "2021-04-20T16:54:18.440222Z",
     "start_time": "2021-04-20T16:54:18.423325Z"
    }
   },
   "outputs": [
    {
     "name": "stdout",
     "output_type": "stream",
     "text": [
      "<class 'pandas.core.frame.DataFrame'>\n",
      "Int64Index: 889 entries, 1 to 891\n",
      "Data columns (total 10 columns):\n",
      " #   Column    Non-Null Count  Dtype  \n",
      "---  ------    --------------  -----  \n",
      " 0   Pclass    889 non-null    int64  \n",
      " 1   Name      889 non-null    object \n",
      " 2   Sex       889 non-null    object \n",
      " 3   Age       712 non-null    float64\n",
      " 4   SibSp     889 non-null    int64  \n",
      " 5   Parch     889 non-null    int64  \n",
      " 6   Ticket    889 non-null    object \n",
      " 7   Fare      889 non-null    float64\n",
      " 8   Cabin     202 non-null    object \n",
      " 9   Embarked  889 non-null    object \n",
      "dtypes: float64(2), int64(3), object(5)\n",
      "memory usage: 76.4+ KB\n"
     ]
    }
   ],
   "source": [
    "# Missing Values\n",
    "train.dropna(subset=['Embarked'], axis=0, inplace=True)\n",
    "\n",
    "X = train.drop(['Survived'], axis=1)\n",
    "y = train['Survived'].copy()\n",
    "X.info()"
   ]
  },
  {
   "cell_type": "markdown",
   "id": "productive-british",
   "metadata": {},
   "source": [
    "#### 4.1. Data Cleaning"
   ]
  },
  {
   "cell_type": "code",
   "execution_count": 414,
   "id": "musical-pendant",
   "metadata": {
    "ExecuteTime": {
     "end_time": "2021-04-20T16:54:20.243371Z",
     "start_time": "2021-04-20T16:54:20.224092Z"
    }
   },
   "outputs": [],
   "source": [
    "# drop attributes\n",
    "X.drop(['Name', 'Ticket'], axis=1, inplace=True)\n",
    "\n",
    "# imputers\n",
    "imputer_num = SimpleImputer(strategy='median')\n",
    "imputer_cat = SimpleImputer(strategy='constant', fill_value=0)\n",
    "\n",
    "# Split Attributes\n",
    "num, cat = split_variables(X)\n",
    "\n",
    "X_num = X.loc[:, num]\n",
    "X_cat = X.loc[:, cat]\n",
    "\n",
    "#fit\n",
    "X_num_tr = imputer_num.fit_transform(X_num)\n",
    "X_num_tr = pd.DataFrame(X_num_tr, columns=X_num.columns)\n",
    "\n",
    "X_cat_tr = imputer_cat.fit_transform(X_cat)\n",
    "X_cat_tr = pd.DataFrame(X_cat_tr, columns=X_cat.columns)"
   ]
  },
  {
   "cell_type": "markdown",
   "id": "solved-stability",
   "metadata": {},
   "source": [
    "#### 4.2. Handling Text and Categorical Attributes "
   ]
  },
  {
   "cell_type": "code",
   "execution_count": 415,
   "id": "ideal-fitting",
   "metadata": {
    "ExecuteTime": {
     "end_time": "2021-04-20T16:54:22.966051Z",
     "start_time": "2021-04-20T16:54:22.958939Z"
    }
   },
   "outputs": [
    {
     "name": "stderr",
     "output_type": "stream",
     "text": [
      "<ipython-input-415-0c1e8231cd83>:3: SettingWithCopyWarning: \n",
      "A value is trying to be set on a copy of a slice from a DataFrame.\n",
      "Try using .loc[row_indexer,col_indexer] = value instead\n",
      "\n",
      "See the caveats in the documentation: https://pandas.pydata.org/pandas-docs/stable/user_guide/indexing.html#returning-a-view-versus-a-copy\n",
      "  X_cat['Cabin'] = X.Cabin.apply(lambda x: str(x)[0])\n"
     ]
    }
   ],
   "source": [
    "# Cabin transformation\n",
    "\n",
    "X_cat['Cabin'] = X.Cabin.apply(lambda x: str(x)[0])"
   ]
  },
  {
   "cell_type": "code",
   "execution_count": 416,
   "id": "constitutional-shoulder",
   "metadata": {
    "ExecuteTime": {
     "end_time": "2021-04-20T16:54:24.940668Z",
     "start_time": "2021-04-20T16:54:24.935171Z"
    }
   },
   "outputs": [
    {
     "data": {
      "text/plain": [
       "Index(['Sex', 'Cabin', 'Embarked'], dtype='object')"
      ]
     },
     "execution_count": 416,
     "metadata": {},
     "output_type": "execute_result"
    }
   ],
   "source": [
    "X_cat.columns"
   ]
  },
  {
   "cell_type": "markdown",
   "id": "convenient-stupid",
   "metadata": {},
   "source": [
    "#### 4.3. Customer Transformation"
   ]
  },
  {
   "cell_type": "code",
   "execution_count": 417,
   "id": "norwegian-disability",
   "metadata": {
    "ExecuteTime": {
     "end_time": "2021-04-20T16:54:26.382274Z",
     "start_time": "2021-04-20T16:54:26.375239Z"
    }
   },
   "outputs": [],
   "source": [
    "Fare, Parch = 4, 3\n",
    "\n",
    "class logtransformation(BaseEstimator, TransformerMixin):\n",
    "    def __init__(self):\n",
    "        self\n",
    "    def fit(self, X, y=None):\n",
    "        return self\n",
    "    def transform(self, X, y=None):\n",
    "        X[:, Fare] = np.log1p(X[:, Fare])\n",
    "        X[:, Parch] = np.log1p(X[:, Parch])\n",
    "        return X\n"
   ]
  },
  {
   "cell_type": "markdown",
   "id": "historical-marriage",
   "metadata": {},
   "source": [
    "#### 4.4. Transformation Pipeline (num)"
   ]
  },
  {
   "cell_type": "code",
   "execution_count": 418,
   "id": "loving-fleece",
   "metadata": {
    "ExecuteTime": {
     "end_time": "2021-04-20T16:54:28.228323Z",
     "start_time": "2021-04-20T16:54:28.214432Z"
    }
   },
   "outputs": [],
   "source": [
    "num_pipeline = Pipeline([\n",
    "    ('imputer', SimpleImputer(strategy='median')),\n",
    "    ('logtransformation', logtransformation()),\n",
    "    ('std_scale', StandardScaler())\n",
    "])\n",
    "\n",
    "X_num_pipe = num_pipeline.fit_transform(X_num)"
   ]
  },
  {
   "cell_type": "code",
   "execution_count": 419,
   "id": "renewable-diana",
   "metadata": {
    "ExecuteTime": {
     "end_time": "2021-04-20T16:54:30.248307Z",
     "start_time": "2021-04-20T16:54:30.231267Z"
    }
   },
   "outputs": [],
   "source": [
    "X['Cabin'] = X['Cabin'].apply(lambda x: str(x)[0])\n",
    "\n",
    "\n",
    "\n",
    "# Set both types of attributes\n",
    "\n",
    "num_att = X_num.columns\n",
    "cat_att = X_cat.columns\n",
    "\n",
    "full_pipe = ColumnTransformer([\n",
    "    ('num', num_pipeline, num_att),\n",
    "    ('cat', OneHotEncoder(), cat_att)\n",
    "])\n",
    "\n",
    "\n",
    "X_prepared = full_pipe.fit_transform(X)"
   ]
  },
  {
   "cell_type": "markdown",
   "id": "narrative-india",
   "metadata": {
    "ExecuteTime": {
     "end_time": "2021-04-20T13:47:28.559024Z",
     "start_time": "2021-04-20T13:47:28.556047Z"
    }
   },
   "source": [
    "### 5. Select and Train a Model"
   ]
  },
  {
   "cell_type": "markdown",
   "id": "massive-gross",
   "metadata": {},
   "source": [
    "#### Logit Regression"
   ]
  },
  {
   "cell_type": "code",
   "execution_count": 420,
   "id": "double-brisbane",
   "metadata": {
    "ExecuteTime": {
     "end_time": "2021-04-20T16:54:33.144565Z",
     "start_time": "2021-04-20T16:54:32.766873Z"
    },
    "scrolled": true
   },
   "outputs": [
    {
     "data": {
      "text/plain": [
       "LogisticRegressionCV()"
      ]
     },
     "execution_count": 420,
     "metadata": {},
     "output_type": "execute_result"
    }
   ],
   "source": [
    "logit_model = LogisticRegressionCV()\n",
    "logit_model.fit(X_prepared, y)"
   ]
  },
  {
   "cell_type": "code",
   "execution_count": 421,
   "id": "decreased-sociology",
   "metadata": {
    "ExecuteTime": {
     "end_time": "2021-04-20T16:54:34.583768Z",
     "start_time": "2021-04-20T16:54:34.575701Z"
    }
   },
   "outputs": [
    {
     "data": {
      "text/plain": [
       "0.8042744656917885"
      ]
     },
     "execution_count": 421,
     "metadata": {},
     "output_type": "execute_result"
    }
   ],
   "source": [
    "logit_preds = logit_model.predict(X_prepared)\n",
    "logit_model.score(X_prepared, y)"
   ]
  },
  {
   "cell_type": "markdown",
   "id": "prostate-roller",
   "metadata": {},
   "source": [
    "#### 5.1. Cross-Validation"
   ]
  },
  {
   "cell_type": "code",
   "execution_count": 422,
   "id": "eleven-maker",
   "metadata": {
    "ExecuteTime": {
     "end_time": "2021-04-20T16:54:36.924594Z",
     "start_time": "2021-04-20T16:54:36.918954Z"
    }
   },
   "outputs": [],
   "source": [
    "def cross_valid_scores(model, X, y, scoring, cv):\n",
    "    scores = cross_val_score(model, X, y,\n",
    "                             scoring=scoring, cv=cv)\n",
    "    return print(f'Scores: {scores}\\nMean: {scores.mean()}\\nsd: {scores.std()}')"
   ]
  },
  {
   "cell_type": "code",
   "execution_count": 423,
   "id": "quiet-church",
   "metadata": {
    "ExecuteTime": {
     "end_time": "2021-04-20T16:54:42.754101Z",
     "start_time": "2021-04-20T16:54:38.743546Z"
    }
   },
   "outputs": [
    {
     "name": "stderr",
     "output_type": "stream",
     "text": [
      "/home/caiomts/anaconda3/envs/infamous-ml/lib/python3.9/site-packages/sklearn/linear_model/_logistic.py:763: ConvergenceWarning: lbfgs failed to converge (status=1):\n",
      "STOP: TOTAL NO. of ITERATIONS REACHED LIMIT.\n",
      "\n",
      "Increase the number of iterations (max_iter) or scale the data as shown in:\n",
      "    https://scikit-learn.org/stable/modules/preprocessing.html\n",
      "Please also refer to the documentation for alternative solver options:\n",
      "    https://scikit-learn.org/stable/modules/linear_model.html#logistic-regression\n",
      "  n_iter_i = _check_optimize_result(\n"
     ]
    },
    {
     "name": "stdout",
     "output_type": "stream",
     "text": [
      "Scores: [0.7752809  0.79775281 0.76404494 0.84269663 0.78651685 0.78651685\n",
      " 0.78651685 0.79775281 0.80898876 0.81818182]\n",
      "Mean: 0.7964249233912155\n",
      "sd: 0.021367854955086973\n"
     ]
    }
   ],
   "source": [
    "cross_valid_scores(logit_model, X_prepared, y, 'accuracy', 10)"
   ]
  },
  {
   "cell_type": "markdown",
   "id": "incorporate-forum",
   "metadata": {},
   "source": [
    "#### Bernoulli Naive Bayes"
   ]
  },
  {
   "cell_type": "code",
   "execution_count": 424,
   "id": "inside-withdrawal",
   "metadata": {
    "ExecuteTime": {
     "end_time": "2021-04-20T16:54:44.884894Z",
     "start_time": "2021-04-20T16:54:44.875403Z"
    }
   },
   "outputs": [
    {
     "data": {
      "text/plain": [
       "BernoulliNB()"
      ]
     },
     "execution_count": 424,
     "metadata": {},
     "output_type": "execute_result"
    }
   ],
   "source": [
    "naive_model = BernoulliNB()\n",
    "naive_model.fit(X_prepared, y)"
   ]
  },
  {
   "cell_type": "code",
   "execution_count": 425,
   "id": "specific-trainer",
   "metadata": {
    "ExecuteTime": {
     "end_time": "2021-04-20T16:54:46.789387Z",
     "start_time": "2021-04-20T16:54:46.780262Z"
    }
   },
   "outputs": [
    {
     "data": {
      "text/plain": [
       "0.7750281214848144"
      ]
     },
     "execution_count": 425,
     "metadata": {},
     "output_type": "execute_result"
    }
   ],
   "source": [
    "naive_preds = naive_model.predict(X_prepared)\n",
    "naive_model.score(X_prepared, y)"
   ]
  },
  {
   "cell_type": "code",
   "execution_count": 426,
   "id": "interesting-reconstruction",
   "metadata": {
    "ExecuteTime": {
     "end_time": "2021-04-20T16:54:48.435461Z",
     "start_time": "2021-04-20T16:54:48.410638Z"
    }
   },
   "outputs": [
    {
     "name": "stdout",
     "output_type": "stream",
     "text": [
      "Scores: [0.74157303 0.71910112 0.7752809  0.78651685 0.78651685 0.76404494\n",
      " 0.7752809  0.7752809  0.78651685 0.79545455]\n",
      "Mean: 0.7705566905005107\n",
      "sd: 0.022318531845535408\n"
     ]
    }
   ],
   "source": [
    "cross_valid_scores(naive_model, X_prepared, y, 'accuracy', 10)"
   ]
  },
  {
   "cell_type": "markdown",
   "id": "heard-subdivision",
   "metadata": {},
   "source": [
    "#### Random Forest"
   ]
  },
  {
   "cell_type": "code",
   "execution_count": 427,
   "id": "reserved-interface",
   "metadata": {
    "ExecuteTime": {
     "end_time": "2021-04-20T16:54:50.521424Z",
     "start_time": "2021-04-20T16:54:50.379166Z"
    }
   },
   "outputs": [
    {
     "data": {
      "text/plain": [
       "RandomForestClassifier()"
      ]
     },
     "execution_count": 427,
     "metadata": {},
     "output_type": "execute_result"
    }
   ],
   "source": [
    "randomf_model = RandomForestClassifier()\n",
    "randomf_model.fit(X_prepared, y)"
   ]
  },
  {
   "cell_type": "code",
   "execution_count": 428,
   "id": "paperback-comment",
   "metadata": {
    "ExecuteTime": {
     "end_time": "2021-04-20T16:54:52.390820Z",
     "start_time": "2021-04-20T16:54:52.348476Z"
    }
   },
   "outputs": [
    {
     "data": {
      "text/plain": [
       "0.983127109111361"
      ]
     },
     "execution_count": 428,
     "metadata": {},
     "output_type": "execute_result"
    }
   ],
   "source": [
    "randomf_preds = randomf_model.predict(X_prepared)\n",
    "randomf_model.score(X_prepared, y)"
   ]
  },
  {
   "cell_type": "code",
   "execution_count": 429,
   "id": "coated-prototype",
   "metadata": {
    "ExecuteTime": {
     "end_time": "2021-04-20T16:54:55.975214Z",
     "start_time": "2021-04-20T16:54:54.676055Z"
    }
   },
   "outputs": [
    {
     "name": "stdout",
     "output_type": "stream",
     "text": [
      "Scores: [0.78651685 0.78651685 0.74157303 0.84269663 0.87640449 0.80898876\n",
      " 0.79775281 0.76404494 0.88764045 0.82954545]\n",
      "Mean: 0.8121680286006129\n",
      "sd: 0.0445979109678701\n"
     ]
    }
   ],
   "source": [
    "cross_valid_scores(randomf_model, X_prepared, y, 'accuracy', 10)"
   ]
  },
  {
   "cell_type": "markdown",
   "id": "located-header",
   "metadata": {},
   "source": [
    "### 6. Fine-tune the model"
   ]
  },
  {
   "cell_type": "code",
   "execution_count": 430,
   "id": "determined-comedy",
   "metadata": {
    "ExecuteTime": {
     "end_time": "2021-04-20T16:55:07.490995Z",
     "start_time": "2021-04-20T16:54:58.383136Z"
    }
   },
   "outputs": [
    {
     "data": {
      "text/plain": [
       "{'n_estimators': 190, 'max_features': 14}"
      ]
     },
     "execution_count": 430,
     "metadata": {},
     "output_type": "execute_result"
    }
   ],
   "source": [
    "distributions = [{'n_estimators': np.arange(10, 200, 10),\n",
    "                  'max_features': np.arange(2, 20, 2)\n",
    "                 },\n",
    "                 {'bootstrap': [False],\n",
    "                  'n_estimators': np.arange(10, 200, 10),\n",
    "                  'max_features': np.arange(2, 20, 2)\n",
    "                 }]\n",
    "clf = RandomizedSearchCV(randomf_model, distributions, random_state=0)\n",
    "search = clf.fit(X_prepared, y)\n",
    "search.best_params_"
   ]
  },
  {
   "cell_type": "code",
   "execution_count": 431,
   "id": "interstate-professor",
   "metadata": {
    "ExecuteTime": {
     "end_time": "2021-04-20T16:55:15.590224Z",
     "start_time": "2021-04-20T16:55:15.584613Z"
    }
   },
   "outputs": [
    {
     "data": {
      "text/plain": [
       "RandomForestClassifier(max_features=14, n_estimators=190)"
      ]
     },
     "execution_count": 431,
     "metadata": {},
     "output_type": "execute_result"
    }
   ],
   "source": [
    "search.best_estimator_"
   ]
  },
  {
   "cell_type": "code",
   "execution_count": 432,
   "id": "tender-scanner",
   "metadata": {
    "ExecuteTime": {
     "end_time": "2021-04-20T16:55:20.682510Z",
     "start_time": "2021-04-20T16:55:20.671973Z"
    }
   },
   "outputs": [
    {
     "data": {
      "text/plain": [
       "{'mean_fit_time': array([0.22292633, 0.21546354, 0.26596007, 0.18899417, 0.07157092,\n",
       "        0.24529796, 0.01314998, 0.20727696, 0.01238136, 0.20687227]),\n",
       " 'std_fit_time': array([0.0084205 , 0.01023258, 0.00453973, 0.00552649, 0.00046194,\n",
       "        0.00556954, 0.00021764, 0.00502683, 0.00037713, 0.00522431]),\n",
       " 'mean_score_time': array([0.01435204, 0.01336198, 0.01541514, 0.0116322 , 0.00597863,\n",
       "        0.01417527, 0.00132828, 0.01482129, 0.0014842 , 0.01544833]),\n",
       " 'std_score_time': array([6.82006994e-04, 4.91883852e-04, 6.23465998e-05, 2.46185119e-04,\n",
       "        8.96780229e-05, 3.47101870e-04, 6.73047499e-05, 3.25290956e-04,\n",
       "        2.35444130e-04, 1.76233621e-04]),\n",
       " 'param_n_estimators': masked_array(data=[170, 150, 190, 140, 70, 170, 10, 180, 10, 190],\n",
       "              mask=[False, False, False, False, False, False, False, False,\n",
       "                    False, False],\n",
       "        fill_value='?',\n",
       "             dtype=object),\n",
       " 'param_max_features': masked_array(data=[10, 12, 14, 12, 2, 14, 10, 6, 8, 4],\n",
       "              mask=[False, False, False, False, False, False, False, False,\n",
       "                    False, False],\n",
       "        fill_value='?',\n",
       "             dtype=object),\n",
       " 'param_bootstrap': masked_array(data=[--, False, --, False, --, False, False, --, False, --],\n",
       "              mask=[ True, False,  True, False,  True, False, False,  True,\n",
       "                    False,  True],\n",
       "        fill_value='?',\n",
       "             dtype=object),\n",
       " 'params': [{'n_estimators': 170, 'max_features': 10},\n",
       "  {'n_estimators': 150, 'max_features': 12, 'bootstrap': False},\n",
       "  {'n_estimators': 190, 'max_features': 14},\n",
       "  {'n_estimators': 140, 'max_features': 12, 'bootstrap': False},\n",
       "  {'n_estimators': 70, 'max_features': 2},\n",
       "  {'n_estimators': 170, 'max_features': 14, 'bootstrap': False},\n",
       "  {'n_estimators': 10, 'max_features': 10, 'bootstrap': False},\n",
       "  {'n_estimators': 180, 'max_features': 6},\n",
       "  {'n_estimators': 10, 'max_features': 8, 'bootstrap': False},\n",
       "  {'n_estimators': 190, 'max_features': 4}],\n",
       " 'split0_test_score': array([0.78651685, 0.78089888, 0.78089888, 0.76966292, 0.78651685,\n",
       "        0.76404494, 0.7752809 , 0.79775281, 0.78651685, 0.78089888]),\n",
       " 'split1_test_score': array([0.79213483, 0.79775281, 0.80898876, 0.78651685, 0.78651685,\n",
       "        0.78651685, 0.82022472, 0.79213483, 0.79213483, 0.78651685]),\n",
       " 'split2_test_score': array([0.83707865, 0.81460674, 0.85393258, 0.8258427 , 0.8258427 ,\n",
       "        0.8258427 , 0.81460674, 0.84831461, 0.84831461, 0.83146067]),\n",
       " 'split3_test_score': array([0.74157303, 0.78089888, 0.74719101, 0.76966292, 0.7752809 ,\n",
       "        0.76404494, 0.78089888, 0.76404494, 0.75842697, 0.75842697]),\n",
       " 'split4_test_score': array([0.85310734, 0.85310734, 0.85875706, 0.84745763, 0.82485876,\n",
       "        0.83050847, 0.82485876, 0.84745763, 0.83050847, 0.83615819]),\n",
       " 'mean_test_score': array([0.80208214, 0.80545293, 0.80995366, 0.7998286 , 0.79980321,\n",
       "        0.79419158, 0.803174  , 0.80994096, 0.80318035, 0.79869231]),\n",
       " 'std_test_score': array([0.03957501, 0.02690662, 0.04266188, 0.03144009, 0.02126139,\n",
       "        0.02897327, 0.02081283, 0.03302148, 0.03220704, 0.03021127]),\n",
       " 'rank_test_score': array([ 6,  3,  1,  7,  8, 10,  5,  2,  4,  9], dtype=int32)}"
      ]
     },
     "execution_count": 432,
     "metadata": {},
     "output_type": "execute_result"
    }
   ],
   "source": [
    "search.cv_results_"
   ]
  },
  {
   "cell_type": "code",
   "execution_count": 433,
   "id": "electoral-framing",
   "metadata": {
    "ExecuteTime": {
     "end_time": "2021-04-20T16:55:24.882787Z",
     "start_time": "2021-04-20T16:55:24.856233Z"
    }
   },
   "outputs": [
    {
     "data": {
      "text/plain": [
       "array([8.60264525e-02, 2.35062045e-01, 4.31310907e-02, 2.45420477e-02,\n",
       "       2.19502176e-01, 1.43870772e-01, 1.56740171e-01, 4.29951588e-03,\n",
       "       3.37271755e-03, 6.75736700e-03, 4.38789453e-03, 8.33154255e-03,\n",
       "       9.05139336e-04, 8.28712021e-04, 1.77986720e-04, 2.85715403e-02,\n",
       "       1.13061499e-02, 5.93058429e-03, 1.62560958e-02])"
      ]
     },
     "execution_count": 433,
     "metadata": {},
     "output_type": "execute_result"
    }
   ],
   "source": [
    "feat_importance = search.best_estimator_.feature_importances_\n",
    "feat_importance"
   ]
  },
  {
   "cell_type": "markdown",
   "id": "metric-islam",
   "metadata": {},
   "source": [
    "### 7. Evaluate the model on Test Set "
   ]
  },
  {
   "cell_type": "code",
   "execution_count": 434,
   "id": "broke-anniversary",
   "metadata": {
    "ExecuteTime": {
     "end_time": "2021-04-20T16:55:27.091924Z",
     "start_time": "2021-04-20T16:55:27.088027Z"
    }
   },
   "outputs": [],
   "source": [
    "final_model = search.best_estimator_"
   ]
  },
  {
   "cell_type": "code",
   "execution_count": 435,
   "id": "tight-canvas",
   "metadata": {
    "ExecuteTime": {
     "end_time": "2021-04-20T16:55:29.592921Z",
     "start_time": "2021-04-20T16:55:29.583829Z"
    }
   },
   "outputs": [],
   "source": [
    "path_test = '../inputs/test.csv'\n",
    "test = pd.read_csv(path_test, index_col='PassengerId')"
   ]
  },
  {
   "cell_type": "code",
   "execution_count": 436,
   "id": "specified-aluminum",
   "metadata": {
    "ExecuteTime": {
     "end_time": "2021-04-20T16:55:32.461430Z",
     "start_time": "2021-04-20T16:55:32.447604Z"
    }
   },
   "outputs": [],
   "source": [
    "# drop attributes\n",
    "test.drop(['Name', 'Ticket'], axis=1, inplace=True)\n",
    "\n",
    "# Cabin\n",
    "test['Cabin'] = test['Cabin'].apply(lambda x: str(x)[0])\n",
    "\n",
    "test_prepared = full_pipe.transform(test)"
   ]
  },
  {
   "cell_type": "code",
   "execution_count": 439,
   "id": "proprietary-estonia",
   "metadata": {
    "ExecuteTime": {
     "end_time": "2021-04-20T16:58:37.479994Z",
     "start_time": "2021-04-20T16:58:37.452219Z"
    }
   },
   "outputs": [],
   "source": [
    "test_preds = final_model.predict(test_prepared)"
   ]
  },
  {
   "cell_type": "code",
   "execution_count": 441,
   "id": "excessive-worry",
   "metadata": {
    "ExecuteTime": {
     "end_time": "2021-04-20T16:59:51.345736Z",
     "start_time": "2021-04-20T16:59:51.341072Z"
    }
   },
   "outputs": [],
   "source": [
    "test_final_df = pd.DataFrame(np.c_[test.index.values, test_preds], columns=['PassengerId', 'Survived'])"
   ]
  },
  {
   "cell_type": "code",
   "execution_count": 443,
   "id": "statewide-belgium",
   "metadata": {
    "ExecuteTime": {
     "end_time": "2021-04-20T17:02:35.452470Z",
     "start_time": "2021-04-20T17:02:35.446124Z"
    }
   },
   "outputs": [],
   "source": [
    "test_final_df.to_csv('../submission.csv', index=False)"
   ]
  }
 ],
 "metadata": {
  "kernelspec": {
   "display_name": "Python [conda env:infamous-ml]",
   "language": "python",
   "name": "conda-env-infamous-ml-py"
  },
  "language_info": {
   "codemirror_mode": {
    "name": "ipython",
    "version": 3
   },
   "file_extension": ".py",
   "mimetype": "text/x-python",
   "name": "python",
   "nbconvert_exporter": "python",
   "pygments_lexer": "ipython3",
   "version": "3.9.2"
  }
 },
 "nbformat": 4,
 "nbformat_minor": 5
}
