{
 "cells": [
  {
   "cell_type": "markdown",
   "id": "careful-review",
   "metadata": {},
   "source": [
    "# Titanic\n",
    "## Use machine learning to create a model that predicts which passengers survived the Titanic shipwreck."
   ]
  },
  {
   "cell_type": "markdown",
   "id": "consistent-average",
   "metadata": {},
   "source": [
    "### 1. Imports"
   ]
  },
  {
   "cell_type": "code",
   "execution_count": 546,
   "id": "impossible-valve",
   "metadata": {
    "ExecuteTime": {
     "end_time": "2021-04-21T07:44:40.963341Z",
     "start_time": "2021-04-21T07:44:40.956260Z"
    }
   },
   "outputs": [],
   "source": [
    "import pandas as pd\n",
    "import numpy as np\n",
    "import os\n",
    "import matplotlib.pyplot as plt\n",
    "import seaborn as sns\n",
    "import collections\n",
    "from scipy.stats import skew\n",
    "from sklearn.preprocessing import OrdinalEncoder, OneHotEncoder, StandardScaler\n",
    "from sklearn.pipeline import Pipeline\n",
    "from sklearn.base import BaseEstimator, TransformerMixin\n",
    "from sklearn.compose import ColumnTransformer\n",
    "from sklearn.linear_model import LogisticRegressionCV\n",
    "from sklearn.model_selection import cross_val_score\n",
    "from sklearn.naive_bayes import BernoulliNB\n",
    "from sklearn.ensemble import RandomForestClassifier\n",
    "from sklearn.model_selection import RandomizedSearchCV\n",
    "import joblib"
   ]
  },
  {
   "cell_type": "markdown",
   "id": "recorded-titanium",
   "metadata": {},
   "source": [
    "### 2. Get the data"
   ]
  },
  {
   "cell_type": "code",
   "execution_count": 547,
   "id": "boolean-lighter",
   "metadata": {
    "ExecuteTime": {
     "end_time": "2021-04-21T07:44:40.976648Z",
     "start_time": "2021-04-21T07:44:40.966759Z"
    }
   },
   "outputs": [],
   "source": [
    "data_path = '../inputs/train.csv'\n",
    "train = pd.read_csv(data_path, index_col='PassengerId')"
   ]
  },
  {
   "cell_type": "code",
   "execution_count": 548,
   "id": "flexible-liabilities",
   "metadata": {
    "ExecuteTime": {
     "end_time": "2021-04-21T07:44:40.994244Z",
     "start_time": "2021-04-21T07:44:40.978618Z"
    }
   },
   "outputs": [
    {
     "data": {
      "text/html": [
       "<div>\n",
       "<style scoped>\n",
       "    .dataframe tbody tr th:only-of-type {\n",
       "        vertical-align: middle;\n",
       "    }\n",
       "\n",
       "    .dataframe tbody tr th {\n",
       "        vertical-align: top;\n",
       "    }\n",
       "\n",
       "    .dataframe thead th {\n",
       "        text-align: right;\n",
       "    }\n",
       "</style>\n",
       "<table border=\"1\" class=\"dataframe\">\n",
       "  <thead>\n",
       "    <tr style=\"text-align: right;\">\n",
       "      <th></th>\n",
       "      <th>Survived</th>\n",
       "      <th>Pclass</th>\n",
       "      <th>Name</th>\n",
       "      <th>Sex</th>\n",
       "      <th>Age</th>\n",
       "      <th>SibSp</th>\n",
       "      <th>Parch</th>\n",
       "      <th>Ticket</th>\n",
       "      <th>Fare</th>\n",
       "      <th>Cabin</th>\n",
       "      <th>Embarked</th>\n",
       "    </tr>\n",
       "    <tr>\n",
       "      <th>PassengerId</th>\n",
       "      <th></th>\n",
       "      <th></th>\n",
       "      <th></th>\n",
       "      <th></th>\n",
       "      <th></th>\n",
       "      <th></th>\n",
       "      <th></th>\n",
       "      <th></th>\n",
       "      <th></th>\n",
       "      <th></th>\n",
       "      <th></th>\n",
       "    </tr>\n",
       "  </thead>\n",
       "  <tbody>\n",
       "    <tr>\n",
       "      <th>1</th>\n",
       "      <td>0</td>\n",
       "      <td>3</td>\n",
       "      <td>Braund, Mr. Owen Harris</td>\n",
       "      <td>male</td>\n",
       "      <td>22.0</td>\n",
       "      <td>1</td>\n",
       "      <td>0</td>\n",
       "      <td>A/5 21171</td>\n",
       "      <td>7.2500</td>\n",
       "      <td>NaN</td>\n",
       "      <td>S</td>\n",
       "    </tr>\n",
       "    <tr>\n",
       "      <th>2</th>\n",
       "      <td>1</td>\n",
       "      <td>1</td>\n",
       "      <td>Cumings, Mrs. John Bradley (Florence Briggs Th...</td>\n",
       "      <td>female</td>\n",
       "      <td>38.0</td>\n",
       "      <td>1</td>\n",
       "      <td>0</td>\n",
       "      <td>PC 17599</td>\n",
       "      <td>71.2833</td>\n",
       "      <td>C85</td>\n",
       "      <td>C</td>\n",
       "    </tr>\n",
       "    <tr>\n",
       "      <th>3</th>\n",
       "      <td>1</td>\n",
       "      <td>3</td>\n",
       "      <td>Heikkinen, Miss. Laina</td>\n",
       "      <td>female</td>\n",
       "      <td>26.0</td>\n",
       "      <td>0</td>\n",
       "      <td>0</td>\n",
       "      <td>STON/O2. 3101282</td>\n",
       "      <td>7.9250</td>\n",
       "      <td>NaN</td>\n",
       "      <td>S</td>\n",
       "    </tr>\n",
       "    <tr>\n",
       "      <th>4</th>\n",
       "      <td>1</td>\n",
       "      <td>1</td>\n",
       "      <td>Futrelle, Mrs. Jacques Heath (Lily May Peel)</td>\n",
       "      <td>female</td>\n",
       "      <td>35.0</td>\n",
       "      <td>1</td>\n",
       "      <td>0</td>\n",
       "      <td>113803</td>\n",
       "      <td>53.1000</td>\n",
       "      <td>C123</td>\n",
       "      <td>S</td>\n",
       "    </tr>\n",
       "    <tr>\n",
       "      <th>5</th>\n",
       "      <td>0</td>\n",
       "      <td>3</td>\n",
       "      <td>Allen, Mr. William Henry</td>\n",
       "      <td>male</td>\n",
       "      <td>35.0</td>\n",
       "      <td>0</td>\n",
       "      <td>0</td>\n",
       "      <td>373450</td>\n",
       "      <td>8.0500</td>\n",
       "      <td>NaN</td>\n",
       "      <td>S</td>\n",
       "    </tr>\n",
       "    <tr>\n",
       "      <th>6</th>\n",
       "      <td>0</td>\n",
       "      <td>3</td>\n",
       "      <td>Moran, Mr. James</td>\n",
       "      <td>male</td>\n",
       "      <td>NaN</td>\n",
       "      <td>0</td>\n",
       "      <td>0</td>\n",
       "      <td>330877</td>\n",
       "      <td>8.4583</td>\n",
       "      <td>NaN</td>\n",
       "      <td>Q</td>\n",
       "    </tr>\n",
       "    <tr>\n",
       "      <th>7</th>\n",
       "      <td>0</td>\n",
       "      <td>1</td>\n",
       "      <td>McCarthy, Mr. Timothy J</td>\n",
       "      <td>male</td>\n",
       "      <td>54.0</td>\n",
       "      <td>0</td>\n",
       "      <td>0</td>\n",
       "      <td>17463</td>\n",
       "      <td>51.8625</td>\n",
       "      <td>E46</td>\n",
       "      <td>S</td>\n",
       "    </tr>\n",
       "    <tr>\n",
       "      <th>8</th>\n",
       "      <td>0</td>\n",
       "      <td>3</td>\n",
       "      <td>Palsson, Master. Gosta Leonard</td>\n",
       "      <td>male</td>\n",
       "      <td>2.0</td>\n",
       "      <td>3</td>\n",
       "      <td>1</td>\n",
       "      <td>349909</td>\n",
       "      <td>21.0750</td>\n",
       "      <td>NaN</td>\n",
       "      <td>S</td>\n",
       "    </tr>\n",
       "    <tr>\n",
       "      <th>9</th>\n",
       "      <td>1</td>\n",
       "      <td>3</td>\n",
       "      <td>Johnson, Mrs. Oscar W (Elisabeth Vilhelmina Berg)</td>\n",
       "      <td>female</td>\n",
       "      <td>27.0</td>\n",
       "      <td>0</td>\n",
       "      <td>2</td>\n",
       "      <td>347742</td>\n",
       "      <td>11.1333</td>\n",
       "      <td>NaN</td>\n",
       "      <td>S</td>\n",
       "    </tr>\n",
       "    <tr>\n",
       "      <th>10</th>\n",
       "      <td>1</td>\n",
       "      <td>2</td>\n",
       "      <td>Nasser, Mrs. Nicholas (Adele Achem)</td>\n",
       "      <td>female</td>\n",
       "      <td>14.0</td>\n",
       "      <td>1</td>\n",
       "      <td>0</td>\n",
       "      <td>237736</td>\n",
       "      <td>30.0708</td>\n",
       "      <td>NaN</td>\n",
       "      <td>C</td>\n",
       "    </tr>\n",
       "  </tbody>\n",
       "</table>\n",
       "</div>"
      ],
      "text/plain": [
       "             Survived  Pclass  \\\n",
       "PassengerId                     \n",
       "1                   0       3   \n",
       "2                   1       1   \n",
       "3                   1       3   \n",
       "4                   1       1   \n",
       "5                   0       3   \n",
       "6                   0       3   \n",
       "7                   0       1   \n",
       "8                   0       3   \n",
       "9                   1       3   \n",
       "10                  1       2   \n",
       "\n",
       "                                                          Name     Sex   Age  \\\n",
       "PassengerId                                                                    \n",
       "1                                      Braund, Mr. Owen Harris    male  22.0   \n",
       "2            Cumings, Mrs. John Bradley (Florence Briggs Th...  female  38.0   \n",
       "3                                       Heikkinen, Miss. Laina  female  26.0   \n",
       "4                 Futrelle, Mrs. Jacques Heath (Lily May Peel)  female  35.0   \n",
       "5                                     Allen, Mr. William Henry    male  35.0   \n",
       "6                                             Moran, Mr. James    male   NaN   \n",
       "7                                      McCarthy, Mr. Timothy J    male  54.0   \n",
       "8                               Palsson, Master. Gosta Leonard    male   2.0   \n",
       "9            Johnson, Mrs. Oscar W (Elisabeth Vilhelmina Berg)  female  27.0   \n",
       "10                         Nasser, Mrs. Nicholas (Adele Achem)  female  14.0   \n",
       "\n",
       "             SibSp  Parch            Ticket     Fare Cabin Embarked  \n",
       "PassengerId                                                          \n",
       "1                1      0         A/5 21171   7.2500   NaN        S  \n",
       "2                1      0          PC 17599  71.2833   C85        C  \n",
       "3                0      0  STON/O2. 3101282   7.9250   NaN        S  \n",
       "4                1      0            113803  53.1000  C123        S  \n",
       "5                0      0            373450   8.0500   NaN        S  \n",
       "6                0      0            330877   8.4583   NaN        Q  \n",
       "7                0      0             17463  51.8625   E46        S  \n",
       "8                3      1            349909  21.0750   NaN        S  \n",
       "9                0      2            347742  11.1333   NaN        S  \n",
       "10               1      0            237736  30.0708   NaN        C  "
      ]
     },
     "execution_count": 548,
     "metadata": {},
     "output_type": "execute_result"
    }
   ],
   "source": [
    "# first look\n",
    "train.head(10)"
   ]
  },
  {
   "cell_type": "code",
   "execution_count": 549,
   "id": "imported-counter",
   "metadata": {
    "ExecuteTime": {
     "end_time": "2021-04-21T07:44:41.011195Z",
     "start_time": "2021-04-21T07:44:40.996725Z"
    }
   },
   "outputs": [
    {
     "name": "stdout",
     "output_type": "stream",
     "text": [
      "<class 'pandas.core.frame.DataFrame'>\n",
      "Int64Index: 891 entries, 1 to 891\n",
      "Data columns (total 11 columns):\n",
      " #   Column    Non-Null Count  Dtype  \n",
      "---  ------    --------------  -----  \n",
      " 0   Survived  891 non-null    int64  \n",
      " 1   Pclass    891 non-null    int64  \n",
      " 2   Name      891 non-null    object \n",
      " 3   Sex       891 non-null    object \n",
      " 4   Age       714 non-null    float64\n",
      " 5   SibSp     891 non-null    int64  \n",
      " 6   Parch     891 non-null    int64  \n",
      " 7   Ticket    891 non-null    object \n",
      " 8   Fare      891 non-null    float64\n",
      " 9   Cabin     204 non-null    object \n",
      " 10  Embarked  889 non-null    object \n",
      "dtypes: float64(2), int64(4), object(5)\n",
      "memory usage: 83.5+ KB\n"
     ]
    }
   ],
   "source": [
    "train.info()"
   ]
  },
  {
   "cell_type": "code",
   "execution_count": 550,
   "id": "collaborative-quest",
   "metadata": {
    "ExecuteTime": {
     "end_time": "2021-04-21T07:44:41.035334Z",
     "start_time": "2021-04-21T07:44:41.013004Z"
    }
   },
   "outputs": [
    {
     "data": {
      "text/html": [
       "<div>\n",
       "<style scoped>\n",
       "    .dataframe tbody tr th:only-of-type {\n",
       "        vertical-align: middle;\n",
       "    }\n",
       "\n",
       "    .dataframe tbody tr th {\n",
       "        vertical-align: top;\n",
       "    }\n",
       "\n",
       "    .dataframe thead th {\n",
       "        text-align: right;\n",
       "    }\n",
       "</style>\n",
       "<table border=\"1\" class=\"dataframe\">\n",
       "  <thead>\n",
       "    <tr style=\"text-align: right;\">\n",
       "      <th></th>\n",
       "      <th>Survived</th>\n",
       "      <th>Pclass</th>\n",
       "      <th>Name</th>\n",
       "      <th>Sex</th>\n",
       "      <th>Age</th>\n",
       "      <th>SibSp</th>\n",
       "      <th>Parch</th>\n",
       "      <th>Ticket</th>\n",
       "      <th>Fare</th>\n",
       "      <th>Cabin</th>\n",
       "      <th>Embarked</th>\n",
       "    </tr>\n",
       "    <tr>\n",
       "      <th>PassengerId</th>\n",
       "      <th></th>\n",
       "      <th></th>\n",
       "      <th></th>\n",
       "      <th></th>\n",
       "      <th></th>\n",
       "      <th></th>\n",
       "      <th></th>\n",
       "      <th></th>\n",
       "      <th></th>\n",
       "      <th></th>\n",
       "      <th></th>\n",
       "    </tr>\n",
       "  </thead>\n",
       "  <tbody>\n",
       "    <tr>\n",
       "      <th>11</th>\n",
       "      <td>1</td>\n",
       "      <td>3</td>\n",
       "      <td>Sandstrom, Miss. Marguerite Rut</td>\n",
       "      <td>female</td>\n",
       "      <td>4.0</td>\n",
       "      <td>1</td>\n",
       "      <td>1</td>\n",
       "      <td>PP 9549</td>\n",
       "      <td>16.7000</td>\n",
       "      <td>G6</td>\n",
       "      <td>S</td>\n",
       "    </tr>\n",
       "    <tr>\n",
       "      <th>22</th>\n",
       "      <td>1</td>\n",
       "      <td>2</td>\n",
       "      <td>Beesley, Mr. Lawrence</td>\n",
       "      <td>male</td>\n",
       "      <td>34.0</td>\n",
       "      <td>0</td>\n",
       "      <td>0</td>\n",
       "      <td>248698</td>\n",
       "      <td>13.0000</td>\n",
       "      <td>D56</td>\n",
       "      <td>S</td>\n",
       "    </tr>\n",
       "    <tr>\n",
       "      <th>67</th>\n",
       "      <td>1</td>\n",
       "      <td>2</td>\n",
       "      <td>Nye, Mrs. (Elizabeth Ramell)</td>\n",
       "      <td>female</td>\n",
       "      <td>29.0</td>\n",
       "      <td>0</td>\n",
       "      <td>0</td>\n",
       "      <td>C.A. 29395</td>\n",
       "      <td>10.5000</td>\n",
       "      <td>F33</td>\n",
       "      <td>S</td>\n",
       "    </tr>\n",
       "    <tr>\n",
       "      <th>76</th>\n",
       "      <td>0</td>\n",
       "      <td>3</td>\n",
       "      <td>Moen, Mr. Sigurd Hansen</td>\n",
       "      <td>male</td>\n",
       "      <td>25.0</td>\n",
       "      <td>0</td>\n",
       "      <td>0</td>\n",
       "      <td>348123</td>\n",
       "      <td>7.6500</td>\n",
       "      <td>F G73</td>\n",
       "      <td>S</td>\n",
       "    </tr>\n",
       "    <tr>\n",
       "      <th>124</th>\n",
       "      <td>1</td>\n",
       "      <td>2</td>\n",
       "      <td>Webber, Miss. Susan</td>\n",
       "      <td>female</td>\n",
       "      <td>32.5</td>\n",
       "      <td>0</td>\n",
       "      <td>0</td>\n",
       "      <td>27267</td>\n",
       "      <td>13.0000</td>\n",
       "      <td>E101</td>\n",
       "      <td>S</td>\n",
       "    </tr>\n",
       "    <tr>\n",
       "      <th>129</th>\n",
       "      <td>1</td>\n",
       "      <td>3</td>\n",
       "      <td>Peter, Miss. Anna</td>\n",
       "      <td>female</td>\n",
       "      <td>NaN</td>\n",
       "      <td>1</td>\n",
       "      <td>1</td>\n",
       "      <td>2668</td>\n",
       "      <td>22.3583</td>\n",
       "      <td>F E69</td>\n",
       "      <td>C</td>\n",
       "    </tr>\n",
       "    <tr>\n",
       "      <th>149</th>\n",
       "      <td>0</td>\n",
       "      <td>2</td>\n",
       "      <td>Navratil, Mr. Michel (\"Louis M Hoffman\")</td>\n",
       "      <td>male</td>\n",
       "      <td>36.5</td>\n",
       "      <td>0</td>\n",
       "      <td>2</td>\n",
       "      <td>230080</td>\n",
       "      <td>26.0000</td>\n",
       "      <td>F2</td>\n",
       "      <td>S</td>\n",
       "    </tr>\n",
       "    <tr>\n",
       "      <th>184</th>\n",
       "      <td>1</td>\n",
       "      <td>2</td>\n",
       "      <td>Becker, Master. Richard F</td>\n",
       "      <td>male</td>\n",
       "      <td>1.0</td>\n",
       "      <td>2</td>\n",
       "      <td>1</td>\n",
       "      <td>230136</td>\n",
       "      <td>39.0000</td>\n",
       "      <td>F4</td>\n",
       "      <td>S</td>\n",
       "    </tr>\n",
       "    <tr>\n",
       "      <th>194</th>\n",
       "      <td>1</td>\n",
       "      <td>2</td>\n",
       "      <td>Navratil, Master. Michel M</td>\n",
       "      <td>male</td>\n",
       "      <td>3.0</td>\n",
       "      <td>1</td>\n",
       "      <td>1</td>\n",
       "      <td>230080</td>\n",
       "      <td>26.0000</td>\n",
       "      <td>F2</td>\n",
       "      <td>S</td>\n",
       "    </tr>\n",
       "    <tr>\n",
       "      <th>206</th>\n",
       "      <td>0</td>\n",
       "      <td>3</td>\n",
       "      <td>Strom, Miss. Telma Matilda</td>\n",
       "      <td>female</td>\n",
       "      <td>2.0</td>\n",
       "      <td>0</td>\n",
       "      <td>1</td>\n",
       "      <td>347054</td>\n",
       "      <td>10.4625</td>\n",
       "      <td>G6</td>\n",
       "      <td>S</td>\n",
       "    </tr>\n",
       "    <tr>\n",
       "      <th>252</th>\n",
       "      <td>0</td>\n",
       "      <td>3</td>\n",
       "      <td>Strom, Mrs. Wilhelm (Elna Matilda Persson)</td>\n",
       "      <td>female</td>\n",
       "      <td>29.0</td>\n",
       "      <td>1</td>\n",
       "      <td>1</td>\n",
       "      <td>347054</td>\n",
       "      <td>10.4625</td>\n",
       "      <td>G6</td>\n",
       "      <td>S</td>\n",
       "    </tr>\n",
       "    <tr>\n",
       "      <th>293</th>\n",
       "      <td>0</td>\n",
       "      <td>2</td>\n",
       "      <td>Levy, Mr. Rene Jacques</td>\n",
       "      <td>male</td>\n",
       "      <td>36.0</td>\n",
       "      <td>0</td>\n",
       "      <td>0</td>\n",
       "      <td>SC/Paris 2163</td>\n",
       "      <td>12.8750</td>\n",
       "      <td>D</td>\n",
       "      <td>C</td>\n",
       "    </tr>\n",
       "    <tr>\n",
       "      <th>304</th>\n",
       "      <td>1</td>\n",
       "      <td>2</td>\n",
       "      <td>Keane, Miss. Nora A</td>\n",
       "      <td>female</td>\n",
       "      <td>NaN</td>\n",
       "      <td>0</td>\n",
       "      <td>0</td>\n",
       "      <td>226593</td>\n",
       "      <td>12.3500</td>\n",
       "      <td>E101</td>\n",
       "      <td>Q</td>\n",
       "    </tr>\n",
       "    <tr>\n",
       "      <th>328</th>\n",
       "      <td>1</td>\n",
       "      <td>2</td>\n",
       "      <td>Ball, Mrs. (Ada E Hall)</td>\n",
       "      <td>female</td>\n",
       "      <td>36.0</td>\n",
       "      <td>0</td>\n",
       "      <td>0</td>\n",
       "      <td>28551</td>\n",
       "      <td>13.0000</td>\n",
       "      <td>D</td>\n",
       "      <td>S</td>\n",
       "    </tr>\n",
       "    <tr>\n",
       "      <th>341</th>\n",
       "      <td>1</td>\n",
       "      <td>2</td>\n",
       "      <td>Navratil, Master. Edmond Roger</td>\n",
       "      <td>male</td>\n",
       "      <td>2.0</td>\n",
       "      <td>1</td>\n",
       "      <td>1</td>\n",
       "      <td>230080</td>\n",
       "      <td>26.0000</td>\n",
       "      <td>F2</td>\n",
       "      <td>S</td>\n",
       "    </tr>\n",
       "    <tr>\n",
       "      <th>346</th>\n",
       "      <td>1</td>\n",
       "      <td>2</td>\n",
       "      <td>Brown, Miss. Amelia \"Mildred\"</td>\n",
       "      <td>female</td>\n",
       "      <td>24.0</td>\n",
       "      <td>0</td>\n",
       "      <td>0</td>\n",
       "      <td>248733</td>\n",
       "      <td>13.0000</td>\n",
       "      <td>F33</td>\n",
       "      <td>S</td>\n",
       "    </tr>\n",
       "    <tr>\n",
       "      <th>395</th>\n",
       "      <td>1</td>\n",
       "      <td>3</td>\n",
       "      <td>Sandstrom, Mrs. Hjalmar (Agnes Charlotta Bengt...</td>\n",
       "      <td>female</td>\n",
       "      <td>24.0</td>\n",
       "      <td>0</td>\n",
       "      <td>2</td>\n",
       "      <td>PP 9549</td>\n",
       "      <td>16.7000</td>\n",
       "      <td>G6</td>\n",
       "      <td>S</td>\n",
       "    </tr>\n",
       "    <tr>\n",
       "      <th>430</th>\n",
       "      <td>1</td>\n",
       "      <td>3</td>\n",
       "      <td>Pickard, Mr. Berk (Berk Trembisky)</td>\n",
       "      <td>male</td>\n",
       "      <td>32.0</td>\n",
       "      <td>0</td>\n",
       "      <td>0</td>\n",
       "      <td>SOTON/O.Q. 392078</td>\n",
       "      <td>8.0500</td>\n",
       "      <td>E10</td>\n",
       "      <td>S</td>\n",
       "    </tr>\n",
       "    <tr>\n",
       "      <th>474</th>\n",
       "      <td>1</td>\n",
       "      <td>2</td>\n",
       "      <td>Jerwan, Mrs. Amin S (Marie Marthe Thuillard)</td>\n",
       "      <td>female</td>\n",
       "      <td>23.0</td>\n",
       "      <td>0</td>\n",
       "      <td>0</td>\n",
       "      <td>SC/AH Basle 541</td>\n",
       "      <td>13.7917</td>\n",
       "      <td>D</td>\n",
       "      <td>C</td>\n",
       "    </tr>\n",
       "    <tr>\n",
       "      <th>517</th>\n",
       "      <td>1</td>\n",
       "      <td>2</td>\n",
       "      <td>Lemore, Mrs. (Amelia Milley)</td>\n",
       "      <td>female</td>\n",
       "      <td>34.0</td>\n",
       "      <td>0</td>\n",
       "      <td>0</td>\n",
       "      <td>C.A. 34260</td>\n",
       "      <td>10.5000</td>\n",
       "      <td>F33</td>\n",
       "      <td>S</td>\n",
       "    </tr>\n",
       "    <tr>\n",
       "      <th>619</th>\n",
       "      <td>1</td>\n",
       "      <td>2</td>\n",
       "      <td>Becker, Miss. Marion Louise</td>\n",
       "      <td>female</td>\n",
       "      <td>4.0</td>\n",
       "      <td>2</td>\n",
       "      <td>1</td>\n",
       "      <td>230136</td>\n",
       "      <td>39.0000</td>\n",
       "      <td>F4</td>\n",
       "      <td>S</td>\n",
       "    </tr>\n",
       "    <tr>\n",
       "      <th>700</th>\n",
       "      <td>0</td>\n",
       "      <td>3</td>\n",
       "      <td>Humblen, Mr. Adolf Mathias Nicolai Olsen</td>\n",
       "      <td>male</td>\n",
       "      <td>42.0</td>\n",
       "      <td>0</td>\n",
       "      <td>0</td>\n",
       "      <td>348121</td>\n",
       "      <td>7.6500</td>\n",
       "      <td>F G63</td>\n",
       "      <td>S</td>\n",
       "    </tr>\n",
       "    <tr>\n",
       "      <th>716</th>\n",
       "      <td>0</td>\n",
       "      <td>3</td>\n",
       "      <td>Soholt, Mr. Peter Andreas Lauritz Andersen</td>\n",
       "      <td>male</td>\n",
       "      <td>19.0</td>\n",
       "      <td>0</td>\n",
       "      <td>0</td>\n",
       "      <td>348124</td>\n",
       "      <td>7.6500</td>\n",
       "      <td>F G73</td>\n",
       "      <td>S</td>\n",
       "    </tr>\n",
       "    <tr>\n",
       "      <th>718</th>\n",
       "      <td>1</td>\n",
       "      <td>2</td>\n",
       "      <td>Troutt, Miss. Edwina Celia \"Winnie\"</td>\n",
       "      <td>female</td>\n",
       "      <td>27.0</td>\n",
       "      <td>0</td>\n",
       "      <td>0</td>\n",
       "      <td>34218</td>\n",
       "      <td>10.5000</td>\n",
       "      <td>E101</td>\n",
       "      <td>S</td>\n",
       "    </tr>\n",
       "    <tr>\n",
       "      <th>752</th>\n",
       "      <td>1</td>\n",
       "      <td>3</td>\n",
       "      <td>Moor, Master. Meier</td>\n",
       "      <td>male</td>\n",
       "      <td>6.0</td>\n",
       "      <td>0</td>\n",
       "      <td>1</td>\n",
       "      <td>392096</td>\n",
       "      <td>12.4750</td>\n",
       "      <td>E121</td>\n",
       "      <td>S</td>\n",
       "    </tr>\n",
       "    <tr>\n",
       "      <th>773</th>\n",
       "      <td>0</td>\n",
       "      <td>2</td>\n",
       "      <td>Mack, Mrs. (Mary)</td>\n",
       "      <td>female</td>\n",
       "      <td>57.0</td>\n",
       "      <td>0</td>\n",
       "      <td>0</td>\n",
       "      <td>S.O./P.P. 3</td>\n",
       "      <td>10.5000</td>\n",
       "      <td>E77</td>\n",
       "      <td>S</td>\n",
       "    </tr>\n",
       "    <tr>\n",
       "      <th>777</th>\n",
       "      <td>0</td>\n",
       "      <td>3</td>\n",
       "      <td>Tobin, Mr. Roger</td>\n",
       "      <td>male</td>\n",
       "      <td>NaN</td>\n",
       "      <td>0</td>\n",
       "      <td>0</td>\n",
       "      <td>383121</td>\n",
       "      <td>7.7500</td>\n",
       "      <td>F38</td>\n",
       "      <td>Q</td>\n",
       "    </tr>\n",
       "    <tr>\n",
       "      <th>824</th>\n",
       "      <td>1</td>\n",
       "      <td>3</td>\n",
       "      <td>Moor, Mrs. (Beila)</td>\n",
       "      <td>female</td>\n",
       "      <td>27.0</td>\n",
       "      <td>0</td>\n",
       "      <td>1</td>\n",
       "      <td>392096</td>\n",
       "      <td>12.4750</td>\n",
       "      <td>E121</td>\n",
       "      <td>S</td>\n",
       "    </tr>\n",
       "  </tbody>\n",
       "</table>\n",
       "</div>"
      ],
      "text/plain": [
       "             Survived  Pclass  \\\n",
       "PassengerId                     \n",
       "11                  1       3   \n",
       "22                  1       2   \n",
       "67                  1       2   \n",
       "76                  0       3   \n",
       "124                 1       2   \n",
       "129                 1       3   \n",
       "149                 0       2   \n",
       "184                 1       2   \n",
       "194                 1       2   \n",
       "206                 0       3   \n",
       "252                 0       3   \n",
       "293                 0       2   \n",
       "304                 1       2   \n",
       "328                 1       2   \n",
       "341                 1       2   \n",
       "346                 1       2   \n",
       "395                 1       3   \n",
       "430                 1       3   \n",
       "474                 1       2   \n",
       "517                 1       2   \n",
       "619                 1       2   \n",
       "700                 0       3   \n",
       "716                 0       3   \n",
       "718                 1       2   \n",
       "752                 1       3   \n",
       "773                 0       2   \n",
       "777                 0       3   \n",
       "824                 1       3   \n",
       "\n",
       "                                                          Name     Sex   Age  \\\n",
       "PassengerId                                                                    \n",
       "11                             Sandstrom, Miss. Marguerite Rut  female   4.0   \n",
       "22                                       Beesley, Mr. Lawrence    male  34.0   \n",
       "67                                Nye, Mrs. (Elizabeth Ramell)  female  29.0   \n",
       "76                                     Moen, Mr. Sigurd Hansen    male  25.0   \n",
       "124                                        Webber, Miss. Susan  female  32.5   \n",
       "129                                          Peter, Miss. Anna  female   NaN   \n",
       "149                   Navratil, Mr. Michel (\"Louis M Hoffman\")    male  36.5   \n",
       "184                                  Becker, Master. Richard F    male   1.0   \n",
       "194                                 Navratil, Master. Michel M    male   3.0   \n",
       "206                                 Strom, Miss. Telma Matilda  female   2.0   \n",
       "252                 Strom, Mrs. Wilhelm (Elna Matilda Persson)  female  29.0   \n",
       "293                                     Levy, Mr. Rene Jacques    male  36.0   \n",
       "304                                        Keane, Miss. Nora A  female   NaN   \n",
       "328                                    Ball, Mrs. (Ada E Hall)  female  36.0   \n",
       "341                             Navratil, Master. Edmond Roger    male   2.0   \n",
       "346                              Brown, Miss. Amelia \"Mildred\"  female  24.0   \n",
       "395          Sandstrom, Mrs. Hjalmar (Agnes Charlotta Bengt...  female  24.0   \n",
       "430                         Pickard, Mr. Berk (Berk Trembisky)    male  32.0   \n",
       "474               Jerwan, Mrs. Amin S (Marie Marthe Thuillard)  female  23.0   \n",
       "517                               Lemore, Mrs. (Amelia Milley)  female  34.0   \n",
       "619                                Becker, Miss. Marion Louise  female   4.0   \n",
       "700                   Humblen, Mr. Adolf Mathias Nicolai Olsen    male  42.0   \n",
       "716                 Soholt, Mr. Peter Andreas Lauritz Andersen    male  19.0   \n",
       "718                        Troutt, Miss. Edwina Celia \"Winnie\"  female  27.0   \n",
       "752                                        Moor, Master. Meier    male   6.0   \n",
       "773                                          Mack, Mrs. (Mary)  female  57.0   \n",
       "777                                           Tobin, Mr. Roger    male   NaN   \n",
       "824                                         Moor, Mrs. (Beila)  female  27.0   \n",
       "\n",
       "             SibSp  Parch             Ticket     Fare  Cabin Embarked  \n",
       "PassengerId                                                            \n",
       "11               1      1            PP 9549  16.7000     G6        S  \n",
       "22               0      0             248698  13.0000    D56        S  \n",
       "67               0      0         C.A. 29395  10.5000    F33        S  \n",
       "76               0      0             348123   7.6500  F G73        S  \n",
       "124              0      0              27267  13.0000   E101        S  \n",
       "129              1      1               2668  22.3583  F E69        C  \n",
       "149              0      2             230080  26.0000     F2        S  \n",
       "184              2      1             230136  39.0000     F4        S  \n",
       "194              1      1             230080  26.0000     F2        S  \n",
       "206              0      1             347054  10.4625     G6        S  \n",
       "252              1      1             347054  10.4625     G6        S  \n",
       "293              0      0      SC/Paris 2163  12.8750      D        C  \n",
       "304              0      0             226593  12.3500   E101        Q  \n",
       "328              0      0              28551  13.0000      D        S  \n",
       "341              1      1             230080  26.0000     F2        S  \n",
       "346              0      0             248733  13.0000    F33        S  \n",
       "395              0      2            PP 9549  16.7000     G6        S  \n",
       "430              0      0  SOTON/O.Q. 392078   8.0500    E10        S  \n",
       "474              0      0    SC/AH Basle 541  13.7917      D        C  \n",
       "517              0      0         C.A. 34260  10.5000    F33        S  \n",
       "619              2      1             230136  39.0000     F4        S  \n",
       "700              0      0             348121   7.6500  F G63        S  \n",
       "716              0      0             348124   7.6500  F G73        S  \n",
       "718              0      0              34218  10.5000   E101        S  \n",
       "752              0      1             392096  12.4750   E121        S  \n",
       "773              0      0        S.O./P.P. 3  10.5000    E77        S  \n",
       "777              0      0             383121   7.7500    F38        Q  \n",
       "824              0      1             392096  12.4750   E121        S  "
      ]
     },
     "execution_count": 550,
     "metadata": {},
     "output_type": "execute_result"
    }
   ],
   "source": [
    "# Cabin is not only for first class\n",
    "train[(train['Cabin'].isna() == False) & (train['Pclass'].isin([2, 3]))]"
   ]
  },
  {
   "cell_type": "code",
   "execution_count": 551,
   "id": "subtle-sender",
   "metadata": {
    "ExecuteTime": {
     "end_time": "2021-04-21T07:44:41.496769Z",
     "start_time": "2021-04-21T07:44:41.036985Z"
    }
   },
   "outputs": [
    {
     "name": "stderr",
     "output_type": "stream",
     "text": [
      "/home/caiomts/anaconda3/envs/infamous-ml/lib/python3.9/site-packages/pandas/plotting/_matplotlib/tools.py:400: MatplotlibDeprecationWarning: \n",
      "The is_first_col function was deprecated in Matplotlib 3.4 and will be removed two minor releases later. Use ax.get_subplotspec().is_first_col() instead.\n",
      "  if ax.is_first_col():\n"
     ]
    },
    {
     "data": {
      "text/plain": [
       "array([[<AxesSubplot:title={'center':'Survived'}>,\n",
       "        <AxesSubplot:title={'center':'Pclass'}>],\n",
       "       [<AxesSubplot:title={'center':'Age'}>,\n",
       "        <AxesSubplot:title={'center':'SibSp'}>],\n",
       "       [<AxesSubplot:title={'center':'Parch'}>,\n",
       "        <AxesSubplot:title={'center':'Fare'}>]], dtype=object)"
      ]
     },
     "execution_count": 551,
     "metadata": {},
     "output_type": "execute_result"
    },
    {
     "data": {
      "image/png": "[encoded data removed]",
      "text/plain": [
       "<Figure size 864x576 with 6 Axes>"
      ]
     },
     "metadata": {},
     "output_type": "display_data"
    }
   ],
   "source": [
    "train.hist(figsize=(12, 8))"
   ]
  },
  {
   "cell_type": "code",
   "execution_count": 552,
   "id": "acoustic-knowing",
   "metadata": {
    "ExecuteTime": {
     "end_time": "2021-04-21T07:44:41.503912Z",
     "start_time": "2021-04-21T07:44:41.499570Z"
    }
   },
   "outputs": [],
   "source": [
    "def split_variables(df):\n",
    "    col_types = [df[col].dtype for col in df.columns]\n",
    "    col_num = [True if col_types[i] != 'object' else False for i in range(len(col_types))]\n",
    "    col_cat = [True if col_types[i] == 'object' else False for i in range(len(col_types))]\n",
    "    return col_num, col_cat"
   ]
  },
  {
   "cell_type": "code",
   "execution_count": 553,
   "id": "hourly-eight",
   "metadata": {
    "ExecuteTime": {
     "end_time": "2021-04-21T07:44:41.510820Z",
     "start_time": "2021-04-21T07:44:41.507163Z"
    }
   },
   "outputs": [],
   "source": [
    "cols_num, cols_cat = split_variables(train)"
   ]
  },
  {
   "cell_type": "markdown",
   "id": "dirty-basis",
   "metadata": {},
   "source": [
    "### 3. Exploratory Data Analysis (EDA)"
   ]
  },
  {
   "cell_type": "code",
   "execution_count": 554,
   "id": "joined-participation",
   "metadata": {
    "ExecuteTime": {
     "end_time": "2021-04-21T07:44:41.515706Z",
     "start_time": "2021-04-21T07:44:41.512857Z"
    }
   },
   "outputs": [],
   "source": [
    "# Making a copy\n",
    "train_eda = train.copy()"
   ]
  },
  {
   "cell_type": "markdown",
   "id": "loose-hearts",
   "metadata": {},
   "source": [
    "#### 3.1. Numerical Variables"
   ]
  },
  {
   "cell_type": "code",
   "execution_count": 555,
   "id": "favorite-ecology",
   "metadata": {
    "ExecuteTime": {
     "end_time": "2021-04-21T07:44:41.528382Z",
     "start_time": "2021-04-21T07:44:41.518243Z"
    }
   },
   "outputs": [
    {
     "data": {
      "text/html": [
       "<div>\n",
       "<style scoped>\n",
       "    .dataframe tbody tr th:only-of-type {\n",
       "        vertical-align: middle;\n",
       "    }\n",
       "\n",
       "    .dataframe tbody tr th {\n",
       "        vertical-align: top;\n",
       "    }\n",
       "\n",
       "    .dataframe thead th {\n",
       "        text-align: right;\n",
       "    }\n",
       "</style>\n",
       "<table border=\"1\" class=\"dataframe\">\n",
       "  <thead>\n",
       "    <tr style=\"text-align: right;\">\n",
       "      <th></th>\n",
       "      <th>Survived</th>\n",
       "      <th>Pclass</th>\n",
       "      <th>Age</th>\n",
       "      <th>SibSp</th>\n",
       "      <th>Parch</th>\n",
       "      <th>Fare</th>\n",
       "    </tr>\n",
       "  </thead>\n",
       "  <tbody>\n",
       "    <tr>\n",
       "      <th>Survived</th>\n",
       "      <td>1.000000</td>\n",
       "      <td>-0.338481</td>\n",
       "      <td>-0.077221</td>\n",
       "      <td>-0.035322</td>\n",
       "      <td>0.081629</td>\n",
       "      <td>0.257307</td>\n",
       "    </tr>\n",
       "    <tr>\n",
       "      <th>Fare</th>\n",
       "      <td>0.257307</td>\n",
       "      <td>-0.549500</td>\n",
       "      <td>0.096067</td>\n",
       "      <td>0.159651</td>\n",
       "      <td>0.216225</td>\n",
       "      <td>1.000000</td>\n",
       "    </tr>\n",
       "    <tr>\n",
       "      <th>Parch</th>\n",
       "      <td>0.081629</td>\n",
       "      <td>0.018443</td>\n",
       "      <td>-0.189119</td>\n",
       "      <td>0.414838</td>\n",
       "      <td>1.000000</td>\n",
       "      <td>0.216225</td>\n",
       "    </tr>\n",
       "    <tr>\n",
       "      <th>SibSp</th>\n",
       "      <td>-0.035322</td>\n",
       "      <td>0.083081</td>\n",
       "      <td>-0.308247</td>\n",
       "      <td>1.000000</td>\n",
       "      <td>0.414838</td>\n",
       "      <td>0.159651</td>\n",
       "    </tr>\n",
       "    <tr>\n",
       "      <th>Age</th>\n",
       "      <td>-0.077221</td>\n",
       "      <td>-0.369226</td>\n",
       "      <td>1.000000</td>\n",
       "      <td>-0.308247</td>\n",
       "      <td>-0.189119</td>\n",
       "      <td>0.096067</td>\n",
       "    </tr>\n",
       "    <tr>\n",
       "      <th>Pclass</th>\n",
       "      <td>-0.338481</td>\n",
       "      <td>1.000000</td>\n",
       "      <td>-0.369226</td>\n",
       "      <td>0.083081</td>\n",
       "      <td>0.018443</td>\n",
       "      <td>-0.549500</td>\n",
       "    </tr>\n",
       "  </tbody>\n",
       "</table>\n",
       "</div>"
      ],
      "text/plain": [
       "          Survived    Pclass       Age     SibSp     Parch      Fare\n",
       "Survived  1.000000 -0.338481 -0.077221 -0.035322  0.081629  0.257307\n",
       "Fare      0.257307 -0.549500  0.096067  0.159651  0.216225  1.000000\n",
       "Parch     0.081629  0.018443 -0.189119  0.414838  1.000000  0.216225\n",
       "SibSp    -0.035322  0.083081 -0.308247  1.000000  0.414838  0.159651\n",
       "Age      -0.077221 -0.369226  1.000000 -0.308247 -0.189119  0.096067\n",
       "Pclass   -0.338481  1.000000 -0.369226  0.083081  0.018443 -0.549500"
      ]
     },
     "execution_count": 555,
     "metadata": {},
     "output_type": "execute_result"
    }
   ],
   "source": [
    "# Looking for correlations\n",
    "corr = train_eda.corr()\n",
    "corr.sort_values(by='Survived', ascending=False)"
   ]
  },
  {
   "cell_type": "code",
   "execution_count": 556,
   "id": "banner-austin",
   "metadata": {
    "ExecuteTime": {
     "end_time": "2021-04-21T07:44:41.681142Z",
     "start_time": "2021-04-21T07:44:41.529599Z"
    }
   },
   "outputs": [
    {
     "data": {
      "text/plain": [
       "<AxesSubplot:>"
      ]
     },
     "execution_count": 556,
     "metadata": {},
     "output_type": "execute_result"
    },
    {
     "data": {
      "image/png": "[encoded data removed]",
      "text/plain": [
       "<Figure size 864x576 with 2 Axes>"
      ]
     },
     "metadata": {},
     "output_type": "display_data"
    }
   ],
   "source": [
    "# Generate a mask for the upper triangle\n",
    "mask = np.triu(np.ones_like(corr, dtype=bool))\n",
    "\n",
    "# Set up the matplotlib figure\n",
    "f, ax = plt.subplots(figsize=(12, 8))\n",
    "\n",
    "# Generate a custom diverging colormap\n",
    "cmap = sns.diverging_palette(230, 20, as_cmap=True)\n",
    "\n",
    "# Draw the heatmap with the mask and correct aspect ratio\n",
    "sns.heatmap(corr, mask=mask, cmap=cmap, vmax=.4, center=0,\n",
    "            square=True, linewidths=.5, cbar_kws={\"shrink\": .5})"
   ]
  },
  {
   "cell_type": "code",
   "execution_count": 557,
   "id": "french-validity",
   "metadata": {
    "ExecuteTime": {
     "end_time": "2021-04-21T07:44:41.695227Z",
     "start_time": "2021-04-21T07:44:41.683548Z"
    }
   },
   "outputs": [
    {
     "data": {
      "text/plain": [
       "Fare        4.779253\n",
       "SibSp       3.689128\n",
       "Parch       2.744487\n",
       "Survived    0.477717\n",
       "Pclass     -0.629486\n",
       "Age              NaN\n",
       "dtype: float64"
      ]
     },
     "execution_count": 557,
     "metadata": {},
     "output_type": "execute_result"
    }
   ],
   "source": [
    "skewed = train_eda.loc[:, cols_num].apply(skew).sort_values(ascending=False)\n",
    "skewed"
   ]
  },
  {
   "cell_type": "code",
   "execution_count": 558,
   "id": "lyric-burden",
   "metadata": {
    "ExecuteTime": {
     "end_time": "2021-04-21T07:44:41.700805Z",
     "start_time": "2021-04-21T07:44:41.696445Z"
    }
   },
   "outputs": [],
   "source": [
    "# trying transformations\n",
    "train_eda['Fare_log'] = np.log1p(train_eda['Fare'])\n",
    "train_eda['SibSp_log'] = np.log1p(train_eda['SibSp'])\n",
    "train_eda['Parch_log'] = np.log1p(train_eda['Parch'])"
   ]
  },
  {
   "cell_type": "code",
   "execution_count": 559,
   "id": "minor-coach",
   "metadata": {
    "ExecuteTime": {
     "end_time": "2021-04-21T07:44:42.337289Z",
     "start_time": "2021-04-21T07:44:41.701904Z"
    }
   },
   "outputs": [
    {
     "name": "stderr",
     "output_type": "stream",
     "text": [
      "/home/caiomts/anaconda3/envs/infamous-ml/lib/python3.9/site-packages/pandas/plotting/_matplotlib/tools.py:400: MatplotlibDeprecationWarning: \n",
      "The is_first_col function was deprecated in Matplotlib 3.4 and will be removed two minor releases later. Use ax.get_subplotspec().is_first_col() instead.\n",
      "  if ax.is_first_col():\n"
     ]
    },
    {
     "data": {
      "text/plain": [
       "array([[<AxesSubplot:title={'center':'Survived'}>,\n",
       "        <AxesSubplot:title={'center':'Pclass'}>,\n",
       "        <AxesSubplot:title={'center':'Age'}>],\n",
       "       [<AxesSubplot:title={'center':'SibSp'}>,\n",
       "        <AxesSubplot:title={'center':'Parch'}>,\n",
       "        <AxesSubplot:title={'center':'Fare'}>],\n",
       "       [<AxesSubplot:title={'center':'Fare_log'}>,\n",
       "        <AxesSubplot:title={'center':'SibSp_log'}>,\n",
       "        <AxesSubplot:title={'center':'Parch_log'}>]], dtype=object)"
      ]
     },
     "execution_count": 559,
     "metadata": {},
     "output_type": "execute_result"
    },
    {
     "data": {
      "image/png": "[encoded data removed]",
      "text/plain": [
       "<Figure size 1080x720 with 9 Axes>"
      ]
     },
     "metadata": {},
     "output_type": "display_data"
    }
   ],
   "source": [
    "train_eda.hist(figsize=(15, 10))"
   ]
  },
  {
   "cell_type": "code",
   "execution_count": 560,
   "id": "vocational-python",
   "metadata": {
    "ExecuteTime": {
     "end_time": "2021-04-21T07:44:42.356253Z",
     "start_time": "2021-04-21T07:44:42.338784Z"
    }
   },
   "outputs": [
    {
     "data": {
      "text/html": [
       "<div>\n",
       "<style scoped>\n",
       "    .dataframe tbody tr th:only-of-type {\n",
       "        vertical-align: middle;\n",
       "    }\n",
       "\n",
       "    .dataframe tbody tr th {\n",
       "        vertical-align: top;\n",
       "    }\n",
       "\n",
       "    .dataframe thead th {\n",
       "        text-align: right;\n",
       "    }\n",
       "</style>\n",
       "<table border=\"1\" class=\"dataframe\">\n",
       "  <thead>\n",
       "    <tr style=\"text-align: right;\">\n",
       "      <th></th>\n",
       "      <th>Survived</th>\n",
       "      <th>Pclass</th>\n",
       "      <th>Age</th>\n",
       "      <th>SibSp</th>\n",
       "      <th>Parch</th>\n",
       "      <th>Fare</th>\n",
       "      <th>Fare_log</th>\n",
       "      <th>SibSp_log</th>\n",
       "      <th>Parch_log</th>\n",
       "    </tr>\n",
       "  </thead>\n",
       "  <tbody>\n",
       "    <tr>\n",
       "      <th>Survived</th>\n",
       "      <td>1.000000</td>\n",
       "      <td>-0.338481</td>\n",
       "      <td>-0.077221</td>\n",
       "      <td>-0.035322</td>\n",
       "      <td>0.081629</td>\n",
       "      <td>0.257307</td>\n",
       "      <td>0.329862</td>\n",
       "      <td>0.029430</td>\n",
       "      <td>0.114999</td>\n",
       "    </tr>\n",
       "    <tr>\n",
       "      <th>Fare_log</th>\n",
       "      <td>0.329862</td>\n",
       "      <td>-0.661022</td>\n",
       "      <td>0.116495</td>\n",
       "      <td>0.318528</td>\n",
       "      <td>0.332186</td>\n",
       "      <td>0.787543</td>\n",
       "      <td>1.000000</td>\n",
       "      <td>0.375371</td>\n",
       "      <td>0.363261</td>\n",
       "    </tr>\n",
       "    <tr>\n",
       "      <th>Fare</th>\n",
       "      <td>0.257307</td>\n",
       "      <td>-0.549500</td>\n",
       "      <td>0.096067</td>\n",
       "      <td>0.159651</td>\n",
       "      <td>0.216225</td>\n",
       "      <td>1.000000</td>\n",
       "      <td>0.787543</td>\n",
       "      <td>0.187671</td>\n",
       "      <td>0.238597</td>\n",
       "    </tr>\n",
       "    <tr>\n",
       "      <th>Parch_log</th>\n",
       "      <td>0.114999</td>\n",
       "      <td>-0.002530</td>\n",
       "      <td>-0.248052</td>\n",
       "      <td>0.464397</td>\n",
       "      <td>0.970328</td>\n",
       "      <td>0.238597</td>\n",
       "      <td>0.363261</td>\n",
       "      <td>0.473259</td>\n",
       "      <td>1.000000</td>\n",
       "    </tr>\n",
       "    <tr>\n",
       "      <th>Parch</th>\n",
       "      <td>0.081629</td>\n",
       "      <td>0.018443</td>\n",
       "      <td>-0.189119</td>\n",
       "      <td>0.414838</td>\n",
       "      <td>1.000000</td>\n",
       "      <td>0.216225</td>\n",
       "      <td>0.332186</td>\n",
       "      <td>0.422113</td>\n",
       "      <td>0.970328</td>\n",
       "    </tr>\n",
       "    <tr>\n",
       "      <th>SibSp_log</th>\n",
       "      <td>0.029430</td>\n",
       "      <td>0.022021</td>\n",
       "      <td>-0.267173</td>\n",
       "      <td>0.936301</td>\n",
       "      <td>0.422113</td>\n",
       "      <td>0.187671</td>\n",
       "      <td>0.375371</td>\n",
       "      <td>1.000000</td>\n",
       "      <td>0.473259</td>\n",
       "    </tr>\n",
       "    <tr>\n",
       "      <th>SibSp</th>\n",
       "      <td>-0.035322</td>\n",
       "      <td>0.083081</td>\n",
       "      <td>-0.308247</td>\n",
       "      <td>1.000000</td>\n",
       "      <td>0.414838</td>\n",
       "      <td>0.159651</td>\n",
       "      <td>0.318528</td>\n",
       "      <td>0.936301</td>\n",
       "      <td>0.464397</td>\n",
       "    </tr>\n",
       "    <tr>\n",
       "      <th>Age</th>\n",
       "      <td>-0.077221</td>\n",
       "      <td>-0.369226</td>\n",
       "      <td>1.000000</td>\n",
       "      <td>-0.308247</td>\n",
       "      <td>-0.189119</td>\n",
       "      <td>0.096067</td>\n",
       "      <td>0.116495</td>\n",
       "      <td>-0.267173</td>\n",
       "      <td>-0.248052</td>\n",
       "    </tr>\n",
       "    <tr>\n",
       "      <th>Pclass</th>\n",
       "      <td>-0.338481</td>\n",
       "      <td>1.000000</td>\n",
       "      <td>-0.369226</td>\n",
       "      <td>0.083081</td>\n",
       "      <td>0.018443</td>\n",
       "      <td>-0.549500</td>\n",
       "      <td>-0.661022</td>\n",
       "      <td>0.022021</td>\n",
       "      <td>-0.002530</td>\n",
       "    </tr>\n",
       "  </tbody>\n",
       "</table>\n",
       "</div>"
      ],
      "text/plain": [
       "           Survived    Pclass       Age     SibSp     Parch      Fare  \\\n",
       "Survived   1.000000 -0.338481 -0.077221 -0.035322  0.081629  0.257307   \n",
       "Fare_log   0.329862 -0.661022  0.116495  0.318528  0.332186  0.787543   \n",
       "Fare       0.257307 -0.549500  0.096067  0.159651  0.216225  1.000000   \n",
       "Parch_log  0.114999 -0.002530 -0.248052  0.464397  0.970328  0.238597   \n",
       "Parch      0.081629  0.018443 -0.189119  0.414838  1.000000  0.216225   \n",
       "SibSp_log  0.029430  0.022021 -0.267173  0.936301  0.422113  0.187671   \n",
       "SibSp     -0.035322  0.083081 -0.308247  1.000000  0.414838  0.159651   \n",
       "Age       -0.077221 -0.369226  1.000000 -0.308247 -0.189119  0.096067   \n",
       "Pclass    -0.338481  1.000000 -0.369226  0.083081  0.018443 -0.549500   \n",
       "\n",
       "           Fare_log  SibSp_log  Parch_log  \n",
       "Survived   0.329862   0.029430   0.114999  \n",
       "Fare_log   1.000000   0.375371   0.363261  \n",
       "Fare       0.787543   0.187671   0.238597  \n",
       "Parch_log  0.363261   0.473259   1.000000  \n",
       "Parch      0.332186   0.422113   0.970328  \n",
       "SibSp_log  0.375371   1.000000   0.473259  \n",
       "SibSp      0.318528   0.936301   0.464397  \n",
       "Age        0.116495  -0.267173  -0.248052  \n",
       "Pclass    -0.661022   0.022021  -0.002530  "
      ]
     },
     "execution_count": 560,
     "metadata": {},
     "output_type": "execute_result"
    }
   ],
   "source": [
    "train_eda.corr().sort_values(by='Survived', ascending=False)"
   ]
  },
  {
   "cell_type": "code",
   "execution_count": 561,
   "id": "bearing-assistant",
   "metadata": {
    "ExecuteTime": {
     "end_time": "2021-04-21T07:44:42.461097Z",
     "start_time": "2021-04-21T07:44:42.357817Z"
    }
   },
   "outputs": [
    {
     "name": "stderr",
     "output_type": "stream",
     "text": [
      "*c* argument looks like a single numeric RGB or RGBA sequence, which should be avoided as value-mapping will have precedence in case its length matches with *x* & *y*.  Please use the *color* keyword-argument or provide a 2D array with a single row if you intend to specify the same RGB or RGBA value for all points.\n"
     ]
    },
    {
     "data": {
      "text/plain": [
       "<AxesSubplot:xlabel='Parch', ylabel='SibSp'>"
      ]
     },
     "execution_count": 561,
     "metadata": {},
     "output_type": "execute_result"
    },
    {
     "data": {
      "image/png": "[encoded data removed]",
      "text/plain": [
       "<Figure size 432x288 with 1 Axes>"
      ]
     },
     "metadata": {},
     "output_type": "display_data"
    }
   ],
   "source": [
    "train_eda.plot(kind='scatter', x='Parch', y='SibSp')"
   ]
  },
  {
   "cell_type": "code",
   "execution_count": 584,
   "id": "marked-frederick",
   "metadata": {
    "ExecuteTime": {
     "end_time": "2021-04-21T07:56:40.258403Z",
     "start_time": "2021-04-21T07:56:40.251089Z"
    }
   },
   "outputs": [],
   "source": [
    "train_eda['family'] = train_eda['Parch'] + train_eda['SibSp']\n",
    "train_eda['family_log'] = np.log1p(train_eda['family'])\n",
    "train_eda['Alone'] = (train_eda['Parch'] | train_eda['SibSp']).isin([0])"
   ]
  },
  {
   "cell_type": "code",
   "execution_count": 585,
   "id": "turned-deployment",
   "metadata": {
    "ExecuteTime": {
     "end_time": "2021-04-21T07:56:43.476969Z",
     "start_time": "2021-04-21T07:56:43.451020Z"
    }
   },
   "outputs": [
    {
     "data": {
      "text/html": [
       "<div>\n",
       "<style scoped>\n",
       "    .dataframe tbody tr th:only-of-type {\n",
       "        vertical-align: middle;\n",
       "    }\n",
       "\n",
       "    .dataframe tbody tr th {\n",
       "        vertical-align: top;\n",
       "    }\n",
       "\n",
       "    .dataframe thead th {\n",
       "        text-align: right;\n",
       "    }\n",
       "</style>\n",
       "<table border=\"1\" class=\"dataframe\">\n",
       "  <thead>\n",
       "    <tr style=\"text-align: right;\">\n",
       "      <th></th>\n",
       "      <th>Survived</th>\n",
       "      <th>Pclass</th>\n",
       "      <th>Age</th>\n",
       "      <th>SibSp</th>\n",
       "      <th>Parch</th>\n",
       "      <th>Fare</th>\n",
       "      <th>Fare_log</th>\n",
       "      <th>SibSp_log</th>\n",
       "      <th>Parch_log</th>\n",
       "      <th>family</th>\n",
       "      <th>family_log</th>\n",
       "      <th>Alone</th>\n",
       "    </tr>\n",
       "  </thead>\n",
       "  <tbody>\n",
       "    <tr>\n",
       "      <th>Survived</th>\n",
       "      <td>1.000000</td>\n",
       "      <td>-0.338481</td>\n",
       "      <td>-0.077221</td>\n",
       "      <td>-0.035322</td>\n",
       "      <td>0.081629</td>\n",
       "      <td>0.257307</td>\n",
       "      <td>0.329862</td>\n",
       "      <td>0.029430</td>\n",
       "      <td>0.114999</td>\n",
       "      <td>0.016639</td>\n",
       "      <td>0.107621</td>\n",
       "      <td>-0.203367</td>\n",
       "    </tr>\n",
       "    <tr>\n",
       "      <th>Fare_log</th>\n",
       "      <td>0.329862</td>\n",
       "      <td>-0.661022</td>\n",
       "      <td>0.116495</td>\n",
       "      <td>0.318528</td>\n",
       "      <td>0.332186</td>\n",
       "      <td>0.787543</td>\n",
       "      <td>1.000000</td>\n",
       "      <td>0.375371</td>\n",
       "      <td>0.363261</td>\n",
       "      <td>0.383658</td>\n",
       "      <td>0.451626</td>\n",
       "      <td>-0.478410</td>\n",
       "    </tr>\n",
       "    <tr>\n",
       "      <th>Fare</th>\n",
       "      <td>0.257307</td>\n",
       "      <td>-0.549500</td>\n",
       "      <td>0.096067</td>\n",
       "      <td>0.159651</td>\n",
       "      <td>0.216225</td>\n",
       "      <td>1.000000</td>\n",
       "      <td>0.787543</td>\n",
       "      <td>0.187671</td>\n",
       "      <td>0.238597</td>\n",
       "      <td>0.217138</td>\n",
       "      <td>0.255685</td>\n",
       "      <td>-0.271832</td>\n",
       "    </tr>\n",
       "    <tr>\n",
       "      <th>Parch_log</th>\n",
       "      <td>0.114999</td>\n",
       "      <td>-0.002530</td>\n",
       "      <td>-0.248052</td>\n",
       "      <td>0.464397</td>\n",
       "      <td>0.970328</td>\n",
       "      <td>0.238597</td>\n",
       "      <td>0.363261</td>\n",
       "      <td>0.473259</td>\n",
       "      <td>1.000000</td>\n",
       "      <td>0.802159</td>\n",
       "      <td>0.833795</td>\n",
       "      <td>-0.651615</td>\n",
       "    </tr>\n",
       "    <tr>\n",
       "      <th>family_log</th>\n",
       "      <td>0.107621</td>\n",
       "      <td>-0.014144</td>\n",
       "      <td>-0.286287</td>\n",
       "      <td>0.796408</td>\n",
       "      <td>0.787769</td>\n",
       "      <td>0.255685</td>\n",
       "      <td>0.451626</td>\n",
       "      <td>0.863653</td>\n",
       "      <td>0.833795</td>\n",
       "      <td>0.937874</td>\n",
       "      <td>1.000000</td>\n",
       "      <td>-0.883201</td>\n",
       "    </tr>\n",
       "    <tr>\n",
       "      <th>Parch</th>\n",
       "      <td>0.081629</td>\n",
       "      <td>0.018443</td>\n",
       "      <td>-0.189119</td>\n",
       "      <td>0.414838</td>\n",
       "      <td>1.000000</td>\n",
       "      <td>0.216225</td>\n",
       "      <td>0.332186</td>\n",
       "      <td>0.422113</td>\n",
       "      <td>0.970328</td>\n",
       "      <td>0.783111</td>\n",
       "      <td>0.787769</td>\n",
       "      <td>-0.583398</td>\n",
       "    </tr>\n",
       "    <tr>\n",
       "      <th>SibSp_log</th>\n",
       "      <td>0.029430</td>\n",
       "      <td>0.022021</td>\n",
       "      <td>-0.267173</td>\n",
       "      <td>0.936301</td>\n",
       "      <td>0.422113</td>\n",
       "      <td>0.187671</td>\n",
       "      <td>0.375371</td>\n",
       "      <td>1.000000</td>\n",
       "      <td>0.473259</td>\n",
       "      <td>0.850810</td>\n",
       "      <td>0.863653</td>\n",
       "      <td>-0.750416</td>\n",
       "    </tr>\n",
       "    <tr>\n",
       "      <th>family</th>\n",
       "      <td>0.016639</td>\n",
       "      <td>0.065997</td>\n",
       "      <td>-0.301914</td>\n",
       "      <td>0.890712</td>\n",
       "      <td>0.783111</td>\n",
       "      <td>0.217138</td>\n",
       "      <td>0.383658</td>\n",
       "      <td>0.850810</td>\n",
       "      <td>0.802159</td>\n",
       "      <td>1.000000</td>\n",
       "      <td>0.937874</td>\n",
       "      <td>-0.690922</td>\n",
       "    </tr>\n",
       "    <tr>\n",
       "      <th>SibSp</th>\n",
       "      <td>-0.035322</td>\n",
       "      <td>0.083081</td>\n",
       "      <td>-0.308247</td>\n",
       "      <td>1.000000</td>\n",
       "      <td>0.414838</td>\n",
       "      <td>0.159651</td>\n",
       "      <td>0.318528</td>\n",
       "      <td>0.936301</td>\n",
       "      <td>0.464397</td>\n",
       "      <td>0.890712</td>\n",
       "      <td>0.796408</td>\n",
       "      <td>-0.584471</td>\n",
       "    </tr>\n",
       "    <tr>\n",
       "      <th>Age</th>\n",
       "      <td>-0.077221</td>\n",
       "      <td>-0.369226</td>\n",
       "      <td>1.000000</td>\n",
       "      <td>-0.308247</td>\n",
       "      <td>-0.189119</td>\n",
       "      <td>0.096067</td>\n",
       "      <td>0.116495</td>\n",
       "      <td>-0.267173</td>\n",
       "      <td>-0.248052</td>\n",
       "      <td>-0.301914</td>\n",
       "      <td>-0.286287</td>\n",
       "      <td>0.198270</td>\n",
       "    </tr>\n",
       "    <tr>\n",
       "      <th>Alone</th>\n",
       "      <td>-0.203367</td>\n",
       "      <td>0.135207</td>\n",
       "      <td>0.198270</td>\n",
       "      <td>-0.584471</td>\n",
       "      <td>-0.583398</td>\n",
       "      <td>-0.271832</td>\n",
       "      <td>-0.478410</td>\n",
       "      <td>-0.750416</td>\n",
       "      <td>-0.651615</td>\n",
       "      <td>-0.690922</td>\n",
       "      <td>-0.883201</td>\n",
       "      <td>1.000000</td>\n",
       "    </tr>\n",
       "    <tr>\n",
       "      <th>Pclass</th>\n",
       "      <td>-0.338481</td>\n",
       "      <td>1.000000</td>\n",
       "      <td>-0.369226</td>\n",
       "      <td>0.083081</td>\n",
       "      <td>0.018443</td>\n",
       "      <td>-0.549500</td>\n",
       "      <td>-0.661022</td>\n",
       "      <td>0.022021</td>\n",
       "      <td>-0.002530</td>\n",
       "      <td>0.065997</td>\n",
       "      <td>-0.014144</td>\n",
       "      <td>0.135207</td>\n",
       "    </tr>\n",
       "  </tbody>\n",
       "</table>\n",
       "</div>"
      ],
      "text/plain": [
       "            Survived    Pclass       Age     SibSp     Parch      Fare  \\\n",
       "Survived    1.000000 -0.338481 -0.077221 -0.035322  0.081629  0.257307   \n",
       "Fare_log    0.329862 -0.661022  0.116495  0.318528  0.332186  0.787543   \n",
       "Fare        0.257307 -0.549500  0.096067  0.159651  0.216225  1.000000   \n",
       "Parch_log   0.114999 -0.002530 -0.248052  0.464397  0.970328  0.238597   \n",
       "family_log  0.107621 -0.014144 -0.286287  0.796408  0.787769  0.255685   \n",
       "Parch       0.081629  0.018443 -0.189119  0.414838  1.000000  0.216225   \n",
       "SibSp_log   0.029430  0.022021 -0.267173  0.936301  0.422113  0.187671   \n",
       "family      0.016639  0.065997 -0.301914  0.890712  0.783111  0.217138   \n",
       "SibSp      -0.035322  0.083081 -0.308247  1.000000  0.414838  0.159651   \n",
       "Age        -0.077221 -0.369226  1.000000 -0.308247 -0.189119  0.096067   \n",
       "Alone      -0.203367  0.135207  0.198270 -0.584471 -0.583398 -0.271832   \n",
       "Pclass     -0.338481  1.000000 -0.369226  0.083081  0.018443 -0.549500   \n",
       "\n",
       "            Fare_log  SibSp_log  Parch_log    family  family_log     Alone  \n",
       "Survived    0.329862   0.029430   0.114999  0.016639    0.107621 -0.203367  \n",
       "Fare_log    1.000000   0.375371   0.363261  0.383658    0.451626 -0.478410  \n",
       "Fare        0.787543   0.187671   0.238597  0.217138    0.255685 -0.271832  \n",
       "Parch_log   0.363261   0.473259   1.000000  0.802159    0.833795 -0.651615  \n",
       "family_log  0.451626   0.863653   0.833795  0.937874    1.000000 -0.883201  \n",
       "Parch       0.332186   0.422113   0.970328  0.783111    0.787769 -0.583398  \n",
       "SibSp_log   0.375371   1.000000   0.473259  0.850810    0.863653 -0.750416  \n",
       "family      0.383658   0.850810   0.802159  1.000000    0.937874 -0.690922  \n",
       "SibSp       0.318528   0.936301   0.464397  0.890712    0.796408 -0.584471  \n",
       "Age         0.116495  -0.267173  -0.248052 -0.301914   -0.286287  0.198270  \n",
       "Alone      -0.478410  -0.750416  -0.651615 -0.690922   -0.883201  1.000000  \n",
       "Pclass     -0.661022   0.022021  -0.002530  0.065997   -0.014144  0.135207  "
      ]
     },
     "execution_count": 585,
     "metadata": {},
     "output_type": "execute_result"
    }
   ],
   "source": [
    "train_eda.corr().sort_values(by='Survived', ascending=False)"
   ]
  },
  {
   "cell_type": "markdown",
   "id": "turned-discrimination",
   "metadata": {},
   "source": [
    "Fare_log, and Alone are good transformations (Drop: Parch, SibSb, fare) "
   ]
  },
  {
   "cell_type": "markdown",
   "id": "blocked-appraisal",
   "metadata": {},
   "source": [
    "#### 3.2. Categorical Variables"
   ]
  },
  {
   "cell_type": "code",
   "execution_count": 564,
   "id": "hydraulic-pound",
   "metadata": {
    "ExecuteTime": {
     "end_time": "2021-04-21T07:44:42.499546Z",
     "start_time": "2021-04-21T07:44:42.493241Z"
    }
   },
   "outputs": [
    {
     "data": {
      "text/plain": [
       "Name        891\n",
       "Sex           2\n",
       "Ticket      681\n",
       "Cabin       147\n",
       "Embarked      3\n",
       "dtype: int64"
      ]
     },
     "execution_count": 564,
     "metadata": {},
     "output_type": "execute_result"
    }
   ],
   "source": [
    "train.loc[:, cols_cat].nunique()"
   ]
  },
  {
   "cell_type": "code",
   "execution_count": 565,
   "id": "dependent-badge",
   "metadata": {
    "ExecuteTime": {
     "end_time": "2021-04-21T07:44:42.503605Z",
     "start_time": "2021-04-21T07:44:42.500733Z"
    }
   },
   "outputs": [],
   "source": [
    "train_eda['Cabin'].fillna(0, inplace=True)"
   ]
  },
  {
   "cell_type": "code",
   "execution_count": 566,
   "id": "nervous-question",
   "metadata": {
    "ExecuteTime": {
     "end_time": "2021-04-21T07:44:42.510159Z",
     "start_time": "2021-04-21T07:44:42.505311Z"
    }
   },
   "outputs": [],
   "source": [
    "train_eda['Cabin_'] = train_eda['Cabin'].apply(lambda x: str(x)[0])"
   ]
  },
  {
   "cell_type": "code",
   "execution_count": 567,
   "id": "flush-willow",
   "metadata": {
    "ExecuteTime": {
     "end_time": "2021-04-21T07:44:42.539067Z",
     "start_time": "2021-04-21T07:44:42.512616Z"
    }
   },
   "outputs": [
    {
     "data": {
      "text/html": [
       "<div>\n",
       "<style scoped>\n",
       "    .dataframe tbody tr th:only-of-type {\n",
       "        vertical-align: middle;\n",
       "    }\n",
       "\n",
       "    .dataframe tbody tr th {\n",
       "        vertical-align: top;\n",
       "    }\n",
       "\n",
       "    .dataframe thead th {\n",
       "        text-align: right;\n",
       "    }\n",
       "</style>\n",
       "<table border=\"1\" class=\"dataframe\">\n",
       "  <thead>\n",
       "    <tr style=\"text-align: right;\">\n",
       "      <th>Cabin_</th>\n",
       "      <th>0</th>\n",
       "      <th>A</th>\n",
       "      <th>B</th>\n",
       "      <th>C</th>\n",
       "      <th>D</th>\n",
       "      <th>E</th>\n",
       "      <th>F</th>\n",
       "      <th>G</th>\n",
       "      <th>T</th>\n",
       "    </tr>\n",
       "    <tr>\n",
       "      <th>Survived</th>\n",
       "      <th></th>\n",
       "      <th></th>\n",
       "      <th></th>\n",
       "      <th></th>\n",
       "      <th></th>\n",
       "      <th></th>\n",
       "      <th></th>\n",
       "      <th></th>\n",
       "      <th></th>\n",
       "    </tr>\n",
       "  </thead>\n",
       "  <tbody>\n",
       "    <tr>\n",
       "      <th>0</th>\n",
       "      <td>0.700146</td>\n",
       "      <td>0.533333</td>\n",
       "      <td>0.255319</td>\n",
       "      <td>0.40678</td>\n",
       "      <td>0.242424</td>\n",
       "      <td>0.25</td>\n",
       "      <td>0.384615</td>\n",
       "      <td>0.5</td>\n",
       "      <td>1.0</td>\n",
       "    </tr>\n",
       "    <tr>\n",
       "      <th>1</th>\n",
       "      <td>0.299854</td>\n",
       "      <td>0.466667</td>\n",
       "      <td>0.744681</td>\n",
       "      <td>0.59322</td>\n",
       "      <td>0.757576</td>\n",
       "      <td>0.75</td>\n",
       "      <td>0.615385</td>\n",
       "      <td>0.5</td>\n",
       "      <td>0.0</td>\n",
       "    </tr>\n",
       "  </tbody>\n",
       "</table>\n",
       "</div>"
      ],
      "text/plain": [
       "Cabin_           0         A         B        C         D     E         F  \\\n",
       "Survived                                                                    \n",
       "0         0.700146  0.533333  0.255319  0.40678  0.242424  0.25  0.384615   \n",
       "1         0.299854  0.466667  0.744681  0.59322  0.757576  0.75  0.615385   \n",
       "\n",
       "Cabin_      G    T  \n",
       "Survived            \n",
       "0         0.5  1.0  \n",
       "1         0.5  0.0  "
      ]
     },
     "execution_count": 567,
     "metadata": {},
     "output_type": "execute_result"
    }
   ],
   "source": [
    "pd.crosstab(train_eda['Survived'], train_eda['Cabin_'], normalize='columns')"
   ]
  },
  {
   "cell_type": "markdown",
   "id": "pharmaceutical-satisfaction",
   "metadata": {},
   "source": [
    "*Good Categorical Variable*"
   ]
  },
  {
   "cell_type": "code",
   "execution_count": 568,
   "id": "gentle-english",
   "metadata": {
    "ExecuteTime": {
     "end_time": "2021-04-21T07:44:42.561191Z",
     "start_time": "2021-04-21T07:44:42.540558Z"
    }
   },
   "outputs": [
    {
     "data": {
      "text/html": [
       "<div>\n",
       "<style scoped>\n",
       "    .dataframe tbody tr th:only-of-type {\n",
       "        vertical-align: middle;\n",
       "    }\n",
       "\n",
       "    .dataframe tbody tr th {\n",
       "        vertical-align: top;\n",
       "    }\n",
       "\n",
       "    .dataframe thead th {\n",
       "        text-align: right;\n",
       "    }\n",
       "</style>\n",
       "<table border=\"1\" class=\"dataframe\">\n",
       "  <thead>\n",
       "    <tr style=\"text-align: right;\">\n",
       "      <th>Embarked</th>\n",
       "      <th>C</th>\n",
       "      <th>Q</th>\n",
       "      <th>S</th>\n",
       "    </tr>\n",
       "    <tr>\n",
       "      <th>Survived</th>\n",
       "      <th></th>\n",
       "      <th></th>\n",
       "      <th></th>\n",
       "    </tr>\n",
       "  </thead>\n",
       "  <tbody>\n",
       "    <tr>\n",
       "      <th>0</th>\n",
       "      <td>0.446429</td>\n",
       "      <td>0.61039</td>\n",
       "      <td>0.663043</td>\n",
       "    </tr>\n",
       "    <tr>\n",
       "      <th>1</th>\n",
       "      <td>0.553571</td>\n",
       "      <td>0.38961</td>\n",
       "      <td>0.336957</td>\n",
       "    </tr>\n",
       "  </tbody>\n",
       "</table>\n",
       "</div>"
      ],
      "text/plain": [
       "Embarked         C        Q         S\n",
       "Survived                             \n",
       "0         0.446429  0.61039  0.663043\n",
       "1         0.553571  0.38961  0.336957"
      ]
     },
     "execution_count": 568,
     "metadata": {},
     "output_type": "execute_result"
    }
   ],
   "source": [
    "pd.crosstab(train_eda['Survived'], train_eda['Embarked'], normalize='columns')"
   ]
  },
  {
   "cell_type": "code",
   "execution_count": 569,
   "id": "controversial-spirituality",
   "metadata": {
    "ExecuteTime": {
     "end_time": "2021-04-21T07:44:42.589410Z",
     "start_time": "2021-04-21T07:44:42.562678Z"
    }
   },
   "outputs": [
    {
     "data": {
      "text/html": [
       "<div>\n",
       "<style scoped>\n",
       "    .dataframe tbody tr th:only-of-type {\n",
       "        vertical-align: middle;\n",
       "    }\n",
       "\n",
       "    .dataframe tbody tr th {\n",
       "        vertical-align: top;\n",
       "    }\n",
       "\n",
       "    .dataframe thead th {\n",
       "        text-align: right;\n",
       "    }\n",
       "</style>\n",
       "<table border=\"1\" class=\"dataframe\">\n",
       "  <thead>\n",
       "    <tr style=\"text-align: right;\">\n",
       "      <th>Sex</th>\n",
       "      <th>female</th>\n",
       "      <th>male</th>\n",
       "    </tr>\n",
       "    <tr>\n",
       "      <th>Survived</th>\n",
       "      <th></th>\n",
       "      <th></th>\n",
       "    </tr>\n",
       "  </thead>\n",
       "  <tbody>\n",
       "    <tr>\n",
       "      <th>0</th>\n",
       "      <td>0.257962</td>\n",
       "      <td>0.811092</td>\n",
       "    </tr>\n",
       "    <tr>\n",
       "      <th>1</th>\n",
       "      <td>0.742038</td>\n",
       "      <td>0.188908</td>\n",
       "    </tr>\n",
       "  </tbody>\n",
       "</table>\n",
       "</div>"
      ],
      "text/plain": [
       "Sex         female      male\n",
       "Survived                    \n",
       "0         0.257962  0.811092\n",
       "1         0.742038  0.188908"
      ]
     },
     "execution_count": 569,
     "metadata": {},
     "output_type": "execute_result"
    }
   ],
   "source": [
    "pd.crosstab(train_eda['Survived'], train_eda['Sex'], normalize='columns')"
   ]
  },
  {
   "cell_type": "code",
   "execution_count": 570,
   "id": "rural-builder",
   "metadata": {
    "ExecuteTime": {
     "end_time": "2021-04-21T07:44:48.554243Z",
     "start_time": "2021-04-21T07:44:48.545952Z"
    }
   },
   "outputs": [],
   "source": [
    "# Title\n",
    "train_eda['Title'] = train_eda.Name.apply(lambda name: name.split(',')[1].split('.')[0].strip())"
   ]
  },
  {
   "cell_type": "code",
   "execution_count": 571,
   "id": "brutal-shopping",
   "metadata": {
    "ExecuteTime": {
     "end_time": "2021-04-21T07:44:50.902147Z",
     "start_time": "2021-04-21T07:44:50.894792Z"
    }
   },
   "outputs": [
    {
     "data": {
      "text/plain": [
       "PassengerId\n",
       "1        Mr\n",
       "2       Mrs\n",
       "3      Miss\n",
       "4       Mrs\n",
       "5        Mr\n",
       "       ... \n",
       "887     Rev\n",
       "888    Miss\n",
       "889    Miss\n",
       "890      Mr\n",
       "891      Mr\n",
       "Name: Title, Length: 891, dtype: object"
      ]
     },
     "execution_count": 571,
     "metadata": {},
     "output_type": "execute_result"
    }
   ],
   "source": [
    "train_eda['Title']"
   ]
  },
  {
   "cell_type": "code",
   "execution_count": 572,
   "id": "systematic-startup",
   "metadata": {
    "ExecuteTime": {
     "end_time": "2021-04-21T07:44:56.867406Z",
     "start_time": "2021-04-21T07:44:56.834879Z"
    }
   },
   "outputs": [
    {
     "data": {
      "text/html": [
       "<div>\n",
       "<style scoped>\n",
       "    .dataframe tbody tr th:only-of-type {\n",
       "        vertical-align: middle;\n",
       "    }\n",
       "\n",
       "    .dataframe tbody tr th {\n",
       "        vertical-align: top;\n",
       "    }\n",
       "\n",
       "    .dataframe thead th {\n",
       "        text-align: right;\n",
       "    }\n",
       "</style>\n",
       "<table border=\"1\" class=\"dataframe\">\n",
       "  <thead>\n",
       "    <tr style=\"text-align: right;\">\n",
       "      <th>Title</th>\n",
       "      <th>Capt</th>\n",
       "      <th>Col</th>\n",
       "      <th>Don</th>\n",
       "      <th>Dr</th>\n",
       "      <th>Jonkheer</th>\n",
       "      <th>Lady</th>\n",
       "      <th>Major</th>\n",
       "      <th>Master</th>\n",
       "      <th>Miss</th>\n",
       "      <th>Mlle</th>\n",
       "      <th>Mme</th>\n",
       "      <th>Mr</th>\n",
       "      <th>Mrs</th>\n",
       "      <th>Ms</th>\n",
       "      <th>Rev</th>\n",
       "      <th>Sir</th>\n",
       "      <th>the Countess</th>\n",
       "    </tr>\n",
       "    <tr>\n",
       "      <th>Survived</th>\n",
       "      <th></th>\n",
       "      <th></th>\n",
       "      <th></th>\n",
       "      <th></th>\n",
       "      <th></th>\n",
       "      <th></th>\n",
       "      <th></th>\n",
       "      <th></th>\n",
       "      <th></th>\n",
       "      <th></th>\n",
       "      <th></th>\n",
       "      <th></th>\n",
       "      <th></th>\n",
       "      <th></th>\n",
       "      <th></th>\n",
       "      <th></th>\n",
       "      <th></th>\n",
       "    </tr>\n",
       "  </thead>\n",
       "  <tbody>\n",
       "    <tr>\n",
       "      <th>0</th>\n",
       "      <td>1.0</td>\n",
       "      <td>0.5</td>\n",
       "      <td>1.0</td>\n",
       "      <td>0.571429</td>\n",
       "      <td>1.0</td>\n",
       "      <td>0.0</td>\n",
       "      <td>0.5</td>\n",
       "      <td>0.425</td>\n",
       "      <td>0.302198</td>\n",
       "      <td>0.0</td>\n",
       "      <td>0.0</td>\n",
       "      <td>0.843327</td>\n",
       "      <td>0.208</td>\n",
       "      <td>0.0</td>\n",
       "      <td>1.0</td>\n",
       "      <td>0.0</td>\n",
       "      <td>0.0</td>\n",
       "    </tr>\n",
       "    <tr>\n",
       "      <th>1</th>\n",
       "      <td>0.0</td>\n",
       "      <td>0.5</td>\n",
       "      <td>0.0</td>\n",
       "      <td>0.428571</td>\n",
       "      <td>0.0</td>\n",
       "      <td>1.0</td>\n",
       "      <td>0.5</td>\n",
       "      <td>0.575</td>\n",
       "      <td>0.697802</td>\n",
       "      <td>1.0</td>\n",
       "      <td>1.0</td>\n",
       "      <td>0.156673</td>\n",
       "      <td>0.792</td>\n",
       "      <td>1.0</td>\n",
       "      <td>0.0</td>\n",
       "      <td>1.0</td>\n",
       "      <td>1.0</td>\n",
       "    </tr>\n",
       "  </tbody>\n",
       "</table>\n",
       "</div>"
      ],
      "text/plain": [
       "Title     Capt  Col  Don        Dr  Jonkheer  Lady  Major  Master      Miss  \\\n",
       "Survived                                                                      \n",
       "0          1.0  0.5  1.0  0.571429       1.0   0.0    0.5   0.425  0.302198   \n",
       "1          0.0  0.5  0.0  0.428571       0.0   1.0    0.5   0.575  0.697802   \n",
       "\n",
       "Title     Mlle  Mme        Mr    Mrs   Ms  Rev  Sir  the Countess  \n",
       "Survived                                                           \n",
       "0          0.0  0.0  0.843327  0.208  0.0  1.0  0.0           0.0  \n",
       "1          1.0  1.0  0.156673  0.792  1.0  0.0  1.0           1.0  "
      ]
     },
     "execution_count": 572,
     "metadata": {},
     "output_type": "execute_result"
    }
   ],
   "source": [
    "pd.crosstab(train_eda['Survived'], train_eda['Title'], normalize='columns')"
   ]
  },
  {
   "cell_type": "markdown",
   "id": "varied-mongolia",
   "metadata": {},
   "source": [
    "### 4. Prepare the data for ML Algorithms"
   ]
  },
  {
   "cell_type": "code",
   "execution_count": 626,
   "id": "editorial-founder",
   "metadata": {
    "ExecuteTime": {
     "end_time": "2021-04-21T08:18:57.356343Z",
     "start_time": "2021-04-21T08:18:57.342044Z"
    }
   },
   "outputs": [
    {
     "name": "stdout",
     "output_type": "stream",
     "text": [
      "<class 'pandas.core.frame.DataFrame'>\n",
      "Int64Index: 889 entries, 1 to 891\n",
      "Data columns (total 10 columns):\n",
      " #   Column    Non-Null Count  Dtype  \n",
      "---  ------    --------------  -----  \n",
      " 0   Pclass    889 non-null    int64  \n",
      " 1   Name      889 non-null    object \n",
      " 2   Sex       889 non-null    object \n",
      " 3   Age       712 non-null    float64\n",
      " 4   SibSp     889 non-null    int64  \n",
      " 5   Parch     889 non-null    int64  \n",
      " 6   Ticket    889 non-null    object \n",
      " 7   Fare      889 non-null    float64\n",
      " 8   Cabin     202 non-null    object \n",
      " 9   Embarked  889 non-null    object \n",
      "dtypes: float64(2), int64(3), object(5)\n",
      "memory usage: 76.4+ KB\n"
     ]
    }
   ],
   "source": [
    "# Missing Values\n",
    "train.dropna(subset=['Embarked'], axis=0, inplace=True)\n",
    "\n",
    "X = train.drop(['Survived'], axis=1)\n",
    "y = train['Survived'].copy()\n",
    "X.info()"
   ]
  },
  {
   "cell_type": "markdown",
   "id": "parliamentary-south",
   "metadata": {},
   "source": [
    "#### 4.1. Data Cleaning"
   ]
  },
  {
   "cell_type": "code",
   "execution_count": 627,
   "id": "descending-taste",
   "metadata": {
    "ExecuteTime": {
     "end_time": "2021-04-21T08:18:58.472802Z",
     "start_time": "2021-04-21T08:18:58.453872Z"
    }
   },
   "outputs": [],
   "source": [
    "# drop attributes\n",
    "X.drop(['Ticket'], axis=1, inplace=True)\n",
    "\n",
    "# imputers\n",
    "imputer_num = SimpleImputer(strategy='median')\n",
    "imputer_cat = SimpleImputer(strategy='constant', fill_value=0)\n",
    "\n",
    "# Split Attributes\n",
    "num, cat = split_variables(X)\n",
    "\n",
    "X_num = X.loc[:, num]\n",
    "X_cat = X.loc[:, cat]\n",
    "\n",
    "#fit\n",
    "X_num_tr = imputer_num.fit_transform(X_num)\n",
    "X_num_tr = pd.DataFrame(X_num_tr, columns=X_num.columns)\n",
    "\n",
    "X_cat_tr = imputer_cat.fit_transform(X_cat)\n",
    "X_cat_tr = pd.DataFrame(X_cat_tr, columns=X_cat.columns)"
   ]
  },
  {
   "cell_type": "markdown",
   "id": "freelance-foster",
   "metadata": {},
   "source": [
    "#### 4.2. Handling Text and Categorical Attributes "
   ]
  },
  {
   "cell_type": "code",
   "execution_count": 628,
   "id": "suited-waterproof",
   "metadata": {
    "ExecuteTime": {
     "end_time": "2021-04-21T08:19:00.210032Z",
     "start_time": "2021-04-21T08:19:00.199801Z"
    }
   },
   "outputs": [
    {
     "name": "stderr",
     "output_type": "stream",
     "text": [
      "<ipython-input-628-550435279d8c>:3: SettingWithCopyWarning: \n",
      "A value is trying to be set on a copy of a slice from a DataFrame.\n",
      "Try using .loc[row_indexer,col_indexer] = value instead\n",
      "\n",
      "See the caveats in the documentation: https://pandas.pydata.org/pandas-docs/stable/user_guide/indexing.html#returning-a-view-versus-a-copy\n",
      "  X_cat['Cabin'] = X.Cabin.apply(lambda x: str(x)[0])\n",
      "<ipython-input-628-550435279d8c>:4: SettingWithCopyWarning: \n",
      "A value is trying to be set on a copy of a slice from a DataFrame.\n",
      "Try using .loc[row_indexer,col_indexer] = value instead\n",
      "\n",
      "See the caveats in the documentation: https://pandas.pydata.org/pandas-docs/stable/user_guide/indexing.html#returning-a-view-versus-a-copy\n",
      "  X_cat['Name'] = X.Name.apply(lambda name: name.split(',')[1].split('.')[0].strip())\n"
     ]
    }
   ],
   "source": [
    "# Cabin transformation\n",
    "\n",
    "X_cat['Cabin'] = X.Cabin.apply(lambda x: str(x)[0])\n",
    "X_cat['Name'] = X.Name.apply(lambda name: name.split(',')[1].split('.')[0].strip())"
   ]
  },
  {
   "cell_type": "code",
   "execution_count": 611,
   "id": "productive-columbus",
   "metadata": {
    "ExecuteTime": {
     "end_time": "2021-04-21T08:13:21.572049Z",
     "start_time": "2021-04-21T08:13:21.564644Z"
    }
   },
   "outputs": [
    {
     "data": {
      "text/plain": [
       "Index(['Name', 'Sex', 'Cabin', 'Embarked'], dtype='object')"
      ]
     },
     "execution_count": 611,
     "metadata": {},
     "output_type": "execute_result"
    }
   ],
   "source": [
    "X_cat.columns"
   ]
  },
  {
   "cell_type": "markdown",
   "id": "regulation-senegal",
   "metadata": {},
   "source": [
    "#### 4.3. Customer Transformation"
   ]
  },
  {
   "cell_type": "code",
   "execution_count": 629,
   "id": "effective-chicago",
   "metadata": {
    "ExecuteTime": {
     "end_time": "2021-04-21T08:19:03.572681Z",
     "start_time": "2021-04-21T08:19:03.566186Z"
    }
   },
   "outputs": [],
   "source": [
    "Fare = 2\n",
    "\n",
    "class logtransformation(BaseEstimator, TransformerMixin):\n",
    "    def __init__(self):\n",
    "        self\n",
    "    def fit(self, X, y=None):\n",
    "        return self\n",
    "    def transform(self, X, y=None):\n",
    "        X[:, Fare] = np.log1p(X[:, Fare])\n",
    "        return X\n"
   ]
  },
  {
   "cell_type": "code",
   "execution_count": 602,
   "id": "natural-leave",
   "metadata": {
    "ExecuteTime": {
     "end_time": "2021-04-21T08:09:21.738314Z",
     "start_time": "2021-04-21T08:09:21.731752Z"
    }
   },
   "outputs": [
    {
     "data": {
      "text/plain": [
       "array([False, False, False, False, False, False, False, False, False])"
      ]
     },
     "execution_count": 602,
     "metadata": {},
     "output_type": "execute_result"
    }
   ],
   "source": [
    "X.columns == 'int64'"
   ]
  },
  {
   "cell_type": "markdown",
   "id": "congressional-intersection",
   "metadata": {},
   "source": [
    "#### 4.4. Transformation Pipeline (num)"
   ]
  },
  {
   "cell_type": "code",
   "execution_count": 630,
   "id": "negative-affiliation",
   "metadata": {
    "ExecuteTime": {
     "end_time": "2021-04-21T08:19:06.648920Z",
     "start_time": "2021-04-21T08:19:06.634699Z"
    }
   },
   "outputs": [],
   "source": [
    "num_pipeline = Pipeline([\n",
    "    ('imputer', SimpleImputer(strategy='median')),\n",
    "    ('logtransformation', logtransformation()),\n",
    "    ('std_scale', StandardScaler())\n",
    "])\n",
    "\n",
    "X_num_pipe = num_pipeline.fit_transform(X_num)"
   ]
  },
  {
   "cell_type": "code",
   "execution_count": 631,
   "id": "flexible-equation",
   "metadata": {
    "ExecuteTime": {
     "end_time": "2021-04-21T08:19:08.107349Z",
     "start_time": "2021-04-21T08:19:08.083944Z"
    }
   },
   "outputs": [],
   "source": [
    "X['Cabin'] = X['Cabin'].apply(lambda x: str(x)[0])\n",
    "X['Name'] = X.Name.apply(lambda name: name.split(',')[1].split('.')[0].strip())\n",
    "X['Alone'] = (X['Parch'] | X['SibSp']).isin([0])\n",
    "X.drop(['Parch', 'SibSp'], axis=1, inplace=True)\n",
    "\n",
    "# Split Attributes\n",
    "num, cat = split_variables(X)\n",
    "\n",
    "X_num = X.loc[:, num]\n",
    "X_cat = X.loc[:, cat]\n",
    "\n",
    "# Set both types of attributes\n",
    "\n",
    "num_att = X_num.columns\n",
    "cat_att = X_cat.columns\n",
    "\n",
    "full_pipe = ColumnTransformer([\n",
    "    ('num', num_pipeline, num_att),\n",
    "    ('cat', OneHotEncoder(), cat_att)\n",
    "])\n",
    "\n",
    "\n",
    "X_prepared = full_pipe.fit_transform(X)"
   ]
  },
  {
   "cell_type": "code",
   "execution_count": 625,
   "id": "respiratory-dating",
   "metadata": {
    "ExecuteTime": {
     "end_time": "2021-04-21T08:18:22.504098Z",
     "start_time": "2021-04-21T08:18:22.498888Z"
    }
   },
   "outputs": [
    {
     "data": {
      "text/plain": [
       "Index(['Pclass', 'Name', 'Sex', 'Age', 'Fare', 'Cabin', 'Embarked', 'Alone'], dtype='object')"
      ]
     },
     "execution_count": 625,
     "metadata": {},
     "output_type": "execute_result"
    }
   ],
   "source": [
    "num_att"
   ]
  },
  {
   "cell_type": "markdown",
   "id": "patent-poster",
   "metadata": {
    "ExecuteTime": {
     "end_time": "2021-04-20T13:47:28.559024Z",
     "start_time": "2021-04-20T13:47:28.556047Z"
    }
   },
   "source": [
    "### 5. Select and Train a Model"
   ]
  },
  {
   "cell_type": "markdown",
   "id": "impressed-enemy",
   "metadata": {},
   "source": [
    "#### Logit Regression"
   ]
  },
  {
   "cell_type": "code",
   "execution_count": 671,
   "id": "affecting-parcel",
   "metadata": {
    "ExecuteTime": {
     "end_time": "2021-04-21T08:42:51.455843Z",
     "start_time": "2021-04-21T08:42:51.428291Z"
    },
    "scrolled": true
   },
   "outputs": [
    {
     "data": {
      "text/plain": [
       "LogisticRegression()"
      ]
     },
     "execution_count": 671,
     "metadata": {},
     "output_type": "execute_result"
    }
   ],
   "source": [
    "logit_model = LogisticRegression()\n",
    "logit_model.fit(X_prepared, y)"
   ]
  },
  {
   "cell_type": "code",
   "execution_count": 672,
   "id": "fitting-floating",
   "metadata": {
    "ExecuteTime": {
     "end_time": "2021-04-21T08:42:54.763936Z",
     "start_time": "2021-04-21T08:42:54.756506Z"
    }
   },
   "outputs": [
    {
     "data": {
      "text/plain": [
       "0.8200224971878515"
      ]
     },
     "execution_count": 672,
     "metadata": {},
     "output_type": "execute_result"
    }
   ],
   "source": [
    "logit_preds = logit_model.predict(X_prepared)\n",
    "logit_model.score(X_prepared, y)"
   ]
  },
  {
   "cell_type": "markdown",
   "id": "secondary-roberts",
   "metadata": {},
   "source": [
    "#### 5.1. Cross-Validation"
   ]
  },
  {
   "cell_type": "code",
   "execution_count": 634,
   "id": "cloudy-computer",
   "metadata": {
    "ExecuteTime": {
     "end_time": "2021-04-21T08:19:21.894936Z",
     "start_time": "2021-04-21T08:19:21.890202Z"
    }
   },
   "outputs": [],
   "source": [
    "def cross_valid_scores(model, X, y, scoring, cv):\n",
    "    scores = cross_val_score(model, X, y,\n",
    "                             scoring=scoring, cv=cv)\n",
    "    return print(f'Scores: {scores}\\nMean: {scores.mean()}\\nsd: {scores.std()}')"
   ]
  },
  {
   "cell_type": "code",
   "execution_count": 675,
   "id": "arctic-vision",
   "metadata": {
    "ExecuteTime": {
     "end_time": "2021-04-21T08:44:16.609361Z",
     "start_time": "2021-04-21T08:44:16.418707Z"
    }
   },
   "outputs": [
    {
     "name": "stdout",
     "output_type": "stream",
     "text": [
      "Scores: [0.76404494 0.82022472 0.78651685 0.85393258 0.83146067 0.80898876\n",
      " 0.78651685 0.79775281 0.84269663 0.79545455]\n",
      "Mean: 0.8087589376915221\n",
      "sd: 0.026694970692384103\n"
     ]
    }
   ],
   "source": [
    "cross_valid_scores(logit_model, X_prepared, y, 'accuracy', 10)"
   ]
  },
  {
   "cell_type": "markdown",
   "id": "absolute-tourism",
   "metadata": {},
   "source": [
    "#### Bernoulli Naive Bayes"
   ]
  },
  {
   "cell_type": "code",
   "execution_count": 636,
   "id": "indian-norfolk",
   "metadata": {
    "ExecuteTime": {
     "end_time": "2021-04-21T08:19:36.752644Z",
     "start_time": "2021-04-21T08:19:36.742642Z"
    }
   },
   "outputs": [
    {
     "data": {
      "text/plain": [
       "BernoulliNB()"
      ]
     },
     "execution_count": 636,
     "metadata": {},
     "output_type": "execute_result"
    }
   ],
   "source": [
    "naive_model = BernoulliNB()\n",
    "naive_model.fit(X_prepared, y)"
   ]
  },
  {
   "cell_type": "code",
   "execution_count": 637,
   "id": "political-wrestling",
   "metadata": {
    "ExecuteTime": {
     "end_time": "2021-04-21T08:19:37.784841Z",
     "start_time": "2021-04-21T08:19:37.775712Z"
    }
   },
   "outputs": [
    {
     "data": {
      "text/plain": [
       "0.7952755905511811"
      ]
     },
     "execution_count": 637,
     "metadata": {},
     "output_type": "execute_result"
    }
   ],
   "source": [
    "naive_preds = naive_model.predict(X_prepared)\n",
    "naive_model.score(X_prepared, y)"
   ]
  },
  {
   "cell_type": "code",
   "execution_count": 638,
   "id": "architectural-clause",
   "metadata": {
    "ExecuteTime": {
     "end_time": "2021-04-21T08:19:40.648018Z",
     "start_time": "2021-04-21T08:19:40.615208Z"
    }
   },
   "outputs": [
    {
     "name": "stdout",
     "output_type": "stream",
     "text": [
      "Scores: [0.78651685 0.79775281 0.75280899 0.85393258 0.79775281 0.78651685\n",
      " 0.78651685 0.76404494 0.80898876 0.78409091]\n",
      "Mean: 0.7918922369765067\n",
      "sd: 0.025807955190276156\n"
     ]
    }
   ],
   "source": [
    "cross_valid_scores(naive_model, X_prepared, y, 'accuracy', 10)"
   ]
  },
  {
   "cell_type": "markdown",
   "id": "healthy-design",
   "metadata": {},
   "source": [
    "#### Random Forest"
   ]
  },
  {
   "cell_type": "code",
   "execution_count": 639,
   "id": "exempt-bench",
   "metadata": {
    "ExecuteTime": {
     "end_time": "2021-04-21T08:19:43.102845Z",
     "start_time": "2021-04-21T08:19:42.902432Z"
    }
   },
   "outputs": [
    {
     "data": {
      "text/plain": [
       "RandomForestClassifier()"
      ]
     },
     "execution_count": 639,
     "metadata": {},
     "output_type": "execute_result"
    }
   ],
   "source": [
    "randomf_model = RandomForestClassifier()\n",
    "randomf_model.fit(X_prepared, y)"
   ]
  },
  {
   "cell_type": "code",
   "execution_count": 640,
   "id": "local-sheffield",
   "metadata": {
    "ExecuteTime": {
     "end_time": "2021-04-21T08:19:44.829471Z",
     "start_time": "2021-04-21T08:19:44.783062Z"
    }
   },
   "outputs": [
    {
     "data": {
      "text/plain": [
       "0.984251968503937"
      ]
     },
     "execution_count": 640,
     "metadata": {},
     "output_type": "execute_result"
    }
   ],
   "source": [
    "randomf_preds = randomf_model.predict(X_prepared)\n",
    "randomf_model.score(X_prepared, y)"
   ]
  },
  {
   "cell_type": "code",
   "execution_count": 674,
   "id": "chubby-venue",
   "metadata": {
    "ExecuteTime": {
     "end_time": "2021-04-21T08:44:03.819347Z",
     "start_time": "2021-04-21T08:44:01.952167Z"
    }
   },
   "outputs": [
    {
     "name": "stdout",
     "output_type": "stream",
     "text": [
      "Scores: [0.75280899 0.84269663 0.75280899 0.82022472 0.84269663 0.83146067\n",
      " 0.79775281 0.76404494 0.86516854 0.84090909]\n",
      "Mean: 0.8110572012257405\n",
      "sd: 0.039363043373476014\n"
     ]
    }
   ],
   "source": [
    "cross_valid_scores(randomf_model, X_prepared, y, 'accuracy', 10)"
   ]
  },
  {
   "cell_type": "markdown",
   "id": "latter-fortune",
   "metadata": {},
   "source": [
    "### 6. Fine-tune the model"
   ]
  },
  {
   "cell_type": "code",
   "execution_count": 642,
   "id": "thick-spirit",
   "metadata": {
    "ExecuteTime": {
     "end_time": "2021-04-21T08:20:12.869543Z",
     "start_time": "2021-04-21T08:20:00.887477Z"
    }
   },
   "outputs": [
    {
     "data": {
      "text/plain": [
       "{'n_estimators': 170, 'max_features': 14, 'bootstrap': False}"
      ]
     },
     "execution_count": 642,
     "metadata": {},
     "output_type": "execute_result"
    }
   ],
   "source": [
    "distributions = [{'n_estimators': np.arange(10, 200, 10),\n",
    "                  'max_features': np.arange(2, 20, 2)\n",
    "                 },\n",
    "                 {'bootstrap': [False],\n",
    "                  'n_estimators': np.arange(10, 200, 10),\n",
    "                  'max_features': np.arange(2, 20, 2)\n",
    "                 }]\n",
    "clf = RandomizedSearchCV(randomf_model, distributions, random_state=0)\n",
    "search = clf.fit(X_prepared, y)\n",
    "search.best_params_"
   ]
  },
  {
   "cell_type": "code",
   "execution_count": 643,
   "id": "lonely-vocabulary",
   "metadata": {
    "ExecuteTime": {
     "end_time": "2021-04-21T08:20:15.528629Z",
     "start_time": "2021-04-21T08:20:15.521524Z"
    }
   },
   "outputs": [
    {
     "data": {
      "text/plain": [
       "RandomForestClassifier(bootstrap=False, max_features=14, n_estimators=170)"
      ]
     },
     "execution_count": 643,
     "metadata": {},
     "output_type": "execute_result"
    }
   ],
   "source": [
    "search.best_estimator_"
   ]
  },
  {
   "cell_type": "code",
   "execution_count": 644,
   "id": "driving-inside",
   "metadata": {
    "ExecuteTime": {
     "end_time": "2021-04-21T08:20:20.785143Z",
     "start_time": "2021-04-21T08:20:20.771039Z"
    }
   },
   "outputs": [
    {
     "data": {
      "text/plain": [
       "{'mean_fit_time': array([0.28736043, 0.27901058, 0.3334353 , 0.25902076, 0.10862589,\n",
       "        0.31946173, 0.01851192, 0.28279037, 0.01810327, 0.29150348]),\n",
       " 'std_fit_time': array([0.00611795, 0.00471591, 0.00880966, 0.00908147, 0.00253999,\n",
       "        0.00924446, 0.00075903, 0.0064359 , 0.00086833, 0.00431709]),\n",
       " 'mean_score_time': array([0.01489563, 0.01340389, 0.01643825, 0.0125833 , 0.00660567,\n",
       "        0.01469727, 0.00157614, 0.01531115, 0.00153975, 0.01638808]),\n",
       " 'std_score_time': array([7.29342992e-04, 3.42528033e-04, 7.36156225e-04, 3.07911864e-04,\n",
       "        1.17593341e-04, 1.26467103e-04, 1.54209565e-04, 1.77974421e-04,\n",
       "        8.44444008e-05, 3.06195797e-04]),\n",
       " 'param_n_estimators': masked_array(data=[170, 150, 190, 140, 70, 170, 10, 180, 10, 190],\n",
       "              mask=[False, False, False, False, False, False, False, False,\n",
       "                    False, False],\n",
       "        fill_value='?',\n",
       "             dtype=object),\n",
       " 'param_max_features': masked_array(data=[10, 12, 14, 12, 2, 14, 10, 6, 8, 4],\n",
       "              mask=[False, False, False, False, False, False, False, False,\n",
       "                    False, False],\n",
       "        fill_value='?',\n",
       "             dtype=object),\n",
       " 'param_bootstrap': masked_array(data=[--, False, --, False, --, False, False, --, False, --],\n",
       "              mask=[ True, False,  True, False,  True, False, False,  True,\n",
       "                    False,  True],\n",
       "        fill_value='?',\n",
       "             dtype=object),\n",
       " 'params': [{'n_estimators': 170, 'max_features': 10},\n",
       "  {'n_estimators': 150, 'max_features': 12, 'bootstrap': False},\n",
       "  {'n_estimators': 190, 'max_features': 14},\n",
       "  {'n_estimators': 140, 'max_features': 12, 'bootstrap': False},\n",
       "  {'n_estimators': 70, 'max_features': 2},\n",
       "  {'n_estimators': 170, 'max_features': 14, 'bootstrap': False},\n",
       "  {'n_estimators': 10, 'max_features': 10, 'bootstrap': False},\n",
       "  {'n_estimators': 180, 'max_features': 6},\n",
       "  {'n_estimators': 10, 'max_features': 8, 'bootstrap': False},\n",
       "  {'n_estimators': 190, 'max_features': 4}],\n",
       " 'split0_test_score': array([0.80898876, 0.80337079, 0.81460674, 0.80337079, 0.79775281,\n",
       "        0.80337079, 0.79213483, 0.81460674, 0.79213483, 0.80337079]),\n",
       " 'split1_test_score': array([0.79213483, 0.78089888, 0.78089888, 0.78651685, 0.78089888,\n",
       "        0.78651685, 0.78089888, 0.78651685, 0.7752809 , 0.78651685]),\n",
       " 'split2_test_score': array([0.83146067, 0.8258427 , 0.83707865, 0.83707865, 0.83707865,\n",
       "        0.83707865, 0.83146067, 0.84831461, 0.8258427 , 0.83146067]),\n",
       " 'split3_test_score': array([0.76404494, 0.78651685, 0.75280899, 0.78089888, 0.76966292,\n",
       "        0.78651685, 0.74719101, 0.75842697, 0.76966292, 0.74719101]),\n",
       " 'split4_test_score': array([0.83615819, 0.82485876, 0.83050847, 0.82485876, 0.82485876,\n",
       "        0.84180791, 0.79661017, 0.82485876, 0.83615819, 0.83615819]),\n",
       " 'mean_test_score': array([0.80655748, 0.80429759, 0.80318035, 0.80654479, 0.8020504 ,\n",
       "        0.81105821, 0.78965911, 0.80654479, 0.79981591, 0.8009395 ]),\n",
       " 'std_test_score': array([0.02652399, 0.01871612, 0.03181264, 0.02161769, 0.02554214,\n",
       "        0.02402607, 0.02713705, 0.03118191, 0.0267145 , 0.03247991]),\n",
       " 'rank_test_score': array([ 2,  5,  6,  3,  7,  1, 10,  3,  9,  8], dtype=int32)}"
      ]
     },
     "execution_count": 644,
     "metadata": {},
     "output_type": "execute_result"
    }
   ],
   "source": [
    "search.cv_results_"
   ]
  },
  {
   "cell_type": "code",
   "execution_count": 645,
   "id": "angry-advance",
   "metadata": {
    "ExecuteTime": {
     "end_time": "2021-04-21T08:20:24.156424Z",
     "start_time": "2021-04-21T08:20:24.138498Z"
    }
   },
   "outputs": [
    {
     "data": {
      "text/plain": [
       "array([8.15470951e-02, 2.19007776e-01, 2.45831628e-01, 2.06127036e-02,\n",
       "       9.18408365e-04, 4.78634965e-04, 2.69234979e-04, 1.91010780e-03,\n",
       "       1.29203417e-04, 1.15319840e-05, 9.31189324e-04, 1.19146703e-02,\n",
       "       9.85630747e-03, 4.44590874e-07, 0.00000000e+00, 1.44690895e-01,\n",
       "       1.47918491e-02, 1.39289979e-05, 2.98506412e-03, 2.82875683e-04,\n",
       "       1.43337757e-05, 7.40962162e-02, 8.54717301e-02, 2.62229994e-03,\n",
       "       3.59721119e-03, 4.33342510e-03, 4.41884771e-03, 7.99500402e-03,\n",
       "       1.48756396e-03, 9.51152474e-04, 1.62436790e-04, 2.87878183e-02,\n",
       "       9.24296692e-03, 6.23999210e-03, 1.43954531e-02])"
      ]
     },
     "execution_count": 645,
     "metadata": {},
     "output_type": "execute_result"
    }
   ],
   "source": [
    "feat_importance = search.best_estimator_.feature_importances_\n",
    "feat_importance"
   ]
  },
  {
   "cell_type": "markdown",
   "id": "searching-syria",
   "metadata": {},
   "source": [
    "### 7. Evaluate the model on Test Set "
   ]
  },
  {
   "cell_type": "code",
   "execution_count": 678,
   "id": "drawn-keeping",
   "metadata": {
    "ExecuteTime": {
     "end_time": "2021-04-21T08:45:54.274576Z",
     "start_time": "2021-04-21T08:45:54.270815Z"
    }
   },
   "outputs": [],
   "source": [
    "final_model = search_log.best_estimator_"
   ]
  },
  {
   "cell_type": "code",
   "execution_count": 658,
   "id": "american-chassis",
   "metadata": {
    "ExecuteTime": {
     "end_time": "2021-04-21T08:28:22.850366Z",
     "start_time": "2021-04-21T08:28:22.841447Z"
    }
   },
   "outputs": [],
   "source": [
    "path_test = '../inputs/test.csv'\n",
    "test = pd.read_csv(path_test, index_col='PassengerId')"
   ]
  },
  {
   "cell_type": "code",
   "execution_count": 659,
   "id": "informative-conservative",
   "metadata": {
    "ExecuteTime": {
     "end_time": "2021-04-21T08:28:23.776111Z",
     "start_time": "2021-04-21T08:28:23.751392Z"
    }
   },
   "outputs": [],
   "source": [
    "# drop attributes\n",
    "test.drop(['Ticket'], axis=1, inplace=True)\n",
    "\n",
    "test['Cabin'] = test['Cabin'].apply(lambda x: str(x)[0])\n",
    "test['Name'] = test.Name.apply(lambda name: name.split(',')[1].split('.')[0].strip())\n",
    "test['Name'] = test.Name.apply(lambda x: 'Ms' if x == 'Dona' else x)\n",
    "test['Alone'] = (test['Parch'] | test['SibSp']).isin([0])\n",
    "test.drop(['Parch', 'SibSp'], axis=1, inplace=True)\n",
    "\n",
    "test_prepared = full_pipe.transform(test)"
   ]
  },
  {
   "cell_type": "code",
   "execution_count": 679,
   "id": "fossil-basin",
   "metadata": {
    "ExecuteTime": {
     "end_time": "2021-04-21T08:46:02.665419Z",
     "start_time": "2021-04-21T08:46:02.661491Z"
    }
   },
   "outputs": [],
   "source": [
    "test_preds = final_model.predict(test_prepared)"
   ]
  },
  {
   "cell_type": "code",
   "execution_count": 680,
   "id": "defined-grove",
   "metadata": {
    "ExecuteTime": {
     "end_time": "2021-04-21T08:46:03.979420Z",
     "start_time": "2021-04-21T08:46:03.973844Z"
    }
   },
   "outputs": [],
   "source": [
    "test_final_df = pd.DataFrame(np.c_[test.index.values, test_preds], columns=['PassengerId', 'Survived'])"
   ]
  },
  {
   "cell_type": "code",
   "execution_count": 681,
   "id": "loved-oracle",
   "metadata": {
    "ExecuteTime": {
     "end_time": "2021-04-21T08:46:08.009292Z",
     "start_time": "2021-04-21T08:46:08.001795Z"
    }
   },
   "outputs": [],
   "source": [
    "test_final_df.to_csv('../submission.csv', index=False)"
   ]
  },
  {
   "cell_type": "code",
   "execution_count": null,
   "id": "illegal-exclusion",
   "metadata": {},
   "outputs": [],
   "source": [
    "test_preds = logit_model.predict(test_prepared)"
   ]
  },
  {
   "cell_type": "code",
   "execution_count": null,
   "id": "verbal-success",
   "metadata": {},
   "outputs": [],
   "source": [
    "test_final_df = pd.DataFrame(np.c_[test.index.values, test_preds], columns=['PassengerId', 'Survived'])"
   ]
  },
  {
   "cell_type": "code",
   "execution_count": null,
   "id": "dirty-adolescent",
   "metadata": {},
   "outputs": [],
   "source": [
    "test_final_df.to_csv('../submission3.csv', index=False)"
   ]
  }
 ],
 "metadata": {
  "kernelspec": {
   "display_name": "Python [conda env:infamous-ml]",
   "language": "python",
   "name": "conda-env-infamous-ml-py"
  },
  "language_info": {
   "codemirror_mode": {
    "name": "ipython",
    "version": 3
   },
   "file_extension": ".py",
   "mimetype": "text/x-python",
   "name": "python",
   "nbconvert_exporter": "python",
   "pygments_lexer": "ipython3",
   "version": "3.9.2"
  }
 },
 "nbformat": 4,
 "nbformat_minor": 5
}
