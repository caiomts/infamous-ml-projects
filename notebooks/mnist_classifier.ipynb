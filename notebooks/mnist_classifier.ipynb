{
 "cells": [
  {
   "cell_type": "markdown",
   "id": "controlling-malawi",
   "metadata": {},
   "source": [
    "# MNIST\n",
    "\n",
    "Hands-on exercises:\n",
    "\n",
    "* 1. A classifier for the MNIST dataset that achieves over 97% accuracy on the test set.\n",
    "* 2. A function that can shift an MNIST image in any direction by one pixel, then train a model in the expanded training set (data augmentation)."
   ]
  },
  {
   "cell_type": "markdown",
   "id": "valid-strike",
   "metadata": {},
   "source": [
    "## 1. Imports"
   ]
  },
  {
   "cell_type": "code",
   "execution_count": 78,
   "id": "specific-venture",
   "metadata": {
    "ExecuteTime": {
     "end_time": "2021-04-27T15:14:33.779076Z",
     "start_time": "2021-04-27T15:14:33.774393Z"
    }
   },
   "outputs": [],
   "source": [
    "import pandas as pd\n",
    "import numpy as np\n",
    "import matplotlib.pyplot as plt\n",
    "import matplotlib as mpl\n",
    "from sklearn.datasets        import fetch_openml\n",
    "from sklearn.preprocessing   import StandardScaler\n",
    "from sklearn.neighbors       import KNeighborsClassifier\n",
    "from sklearn.model_selection import cross_val_score, RandomizedSearchCV, GridSearchCV\n",
    "from sklearn.metrics         import accuracy_score\n",
    "from scipy.ndimage.interpolation import shift"
   ]
  },
  {
   "cell_type": "markdown",
   "id": "incomplete-overview",
   "metadata": {},
   "source": [
    "## 2. Getting the data"
   ]
  },
  {
   "cell_type": "code",
   "execution_count": 2,
   "id": "welsh-replica",
   "metadata": {
    "ExecuteTime": {
     "end_time": "2021-04-27T12:26:19.261622Z",
     "start_time": "2021-04-27T12:26:00.629660Z"
    }
   },
   "outputs": [],
   "source": [
    "mnist = fetch_openml('mnist_784', version=1, as_frame=False)"
   ]
  },
  {
   "cell_type": "code",
   "execution_count": 3,
   "id": "first-carpet",
   "metadata": {
    "ExecuteTime": {
     "end_time": "2021-04-27T12:26:19.269485Z",
     "start_time": "2021-04-27T12:26:19.263610Z"
    }
   },
   "outputs": [
    {
     "data": {
      "text/plain": [
       "dict_keys(['data', 'target', 'frame', 'categories', 'feature_names', 'target_names', 'DESCR', 'details', 'url'])"
      ]
     },
     "execution_count": 3,
     "metadata": {},
     "output_type": "execute_result"
    }
   ],
   "source": [
    "mnist.keys()"
   ]
  },
  {
   "cell_type": "code",
   "execution_count": 4,
   "id": "variable-duplicate",
   "metadata": {
    "ExecuteTime": {
     "end_time": "2021-04-27T12:26:19.277375Z",
     "start_time": "2021-04-27T12:26:19.272131Z"
    }
   },
   "outputs": [
    {
     "data": {
      "text/plain": [
       "\"**Author**: Yann LeCun, Corinna Cortes, Christopher J.C. Burges  \\n**Source**: [MNIST Website](http://yann.lecun.com/exdb/mnist/) - Date unknown  \\n**Please cite**:  \\n\\nThe MNIST database of handwritten digits with 784 features, raw data available at: http://yann.lecun.com/exdb/mnist/. It can be split in a training set of the first 60,000 examples, and a test set of 10,000 examples  \\n\\nIt is a subset of a larger set available from NIST. The digits have been size-normalized and centered in a fixed-size image. It is a good database for people who want to try learning techniques and pattern recognition methods on real-world data while spending minimal efforts on preprocessing and formatting. The original black and white (bilevel) images from NIST were size normalized to fit in a 20x20 pixel box while preserving their aspect ratio. The resulting images contain grey levels as a result of the anti-aliasing technique used by the normalization algorithm. the images were centered in a 28x28 image by computing the center of mass of the pixels, and translating the image so as to position this point at the center of the 28x28 field.  \\n\\nWith some classification methods (particularly template-based methods, such as SVM and K-nearest neighbors), the error rate improves when the digits are centered by bounding box rather than center of mass. If you do this kind of pre-processing, you should report it in your publications. The MNIST database was constructed from NIST's NIST originally designated SD-3 as their training set and SD-1 as their test set. However, SD-3 is much cleaner and easier to recognize than SD-1. The reason for this can be found on the fact that SD-3 was collected among Census Bureau employees, while SD-1 was collected among high-school students. Drawing sensible conclusions from learning experiments requires that the result be independent of the choice of training set and test among the complete set of samples. Therefore it was necessary to build a new database by mixing NIST's datasets.  \\n\\nThe MNIST training set is composed of 30,000 patterns from SD-3 and 30,000 patterns from SD-1. Our test set was composed of 5,000 patterns from SD-3 and 5,000 patterns from SD-1. The 60,000 pattern training set contained examples from approximately 250 writers. We made sure that the sets of writers of the training set and test set were disjoint. SD-1 contains 58,527 digit images written by 500 different writers. In contrast to SD-3, where blocks of data from each writer appeared in sequence, the data in SD-1 is scrambled. Writer identities for SD-1 is available and we used this information to unscramble the writers. We then split SD-1 in two: characters written by the first 250 writers went into our new training set. The remaining 250 writers were placed in our test set. Thus we had two sets with nearly 30,000 examples each. The new training set was completed with enough examples from SD-3, starting at pattern # 0, to make a full set of 60,000 training patterns. Similarly, the new test set was completed with SD-3 examples starting at pattern # 35,000 to make a full set with 60,000 test patterns. Only a subset of 10,000 test images (5,000 from SD-1 and 5,000 from SD-3) is available on this site. The full 60,000 sample training set is available.\\n\\nDownloaded from openml.org.\""
      ]
     },
     "execution_count": 4,
     "metadata": {},
     "output_type": "execute_result"
    }
   ],
   "source": [
    "mnist['DESCR']"
   ]
  },
  {
   "cell_type": "code",
   "execution_count": 5,
   "id": "acquired-mortality",
   "metadata": {
    "ExecuteTime": {
     "end_time": "2021-04-27T12:26:19.285223Z",
     "start_time": "2021-04-27T12:26:19.279158Z"
    }
   },
   "outputs": [
    {
     "data": {
      "text/plain": [
       "{'id': '554',\n",
       " 'name': 'mnist_784',\n",
       " 'version': '1',\n",
       " 'format': 'ARFF',\n",
       " 'creator': ['Yann LeCun', 'Corinna Cortes', 'Christopher J.C. Burges'],\n",
       " 'upload_date': '2014-09-29T03:28:38',\n",
       " 'language': 'English',\n",
       " 'licence': 'Public',\n",
       " 'url': 'https://www.openml.org/data/v1/download/52667/mnist_784.arff',\n",
       " 'file_id': '52667',\n",
       " 'default_target_attribute': 'class',\n",
       " 'tag': ['AzurePilot',\n",
       "  'OpenML-CC18',\n",
       "  'OpenML100',\n",
       "  'study_1',\n",
       "  'study_123',\n",
       "  'study_41',\n",
       "  'study_99',\n",
       "  'vision'],\n",
       " 'visibility': 'public',\n",
       " 'minio_url': 'http://openml1.win.tue.nl/dataset554/dataset_554.pq',\n",
       " 'status': 'active',\n",
       " 'processing_date': '2020-11-20 20:12:09',\n",
       " 'md5_checksum': '0298d579eb1b86163de7723944c7e495'}"
      ]
     },
     "execution_count": 5,
     "metadata": {},
     "output_type": "execute_result"
    }
   ],
   "source": [
    "mnist['details']"
   ]
  },
  {
   "cell_type": "code",
   "execution_count": 6,
   "id": "angry-kazakhstan",
   "metadata": {
    "ExecuteTime": {
     "end_time": "2021-04-27T12:26:19.291167Z",
     "start_time": "2021-04-27T12:26:19.287667Z"
    }
   },
   "outputs": [],
   "source": [
    "X, y = mnist['data'], mnist['target']"
   ]
  },
  {
   "cell_type": "code",
   "execution_count": 7,
   "id": "latin-nepal",
   "metadata": {
    "ExecuteTime": {
     "end_time": "2021-04-27T12:26:19.297926Z",
     "start_time": "2021-04-27T12:26:19.294350Z"
    }
   },
   "outputs": [
    {
     "name": "stdout",
     "output_type": "stream",
     "text": [
      "X shape: (70000, 784)\n",
      "y shape: (70000,)\n"
     ]
    }
   ],
   "source": [
    "print(f\"X shape: {X.shape}\\ny shape: {y.shape}\")"
   ]
  },
  {
   "cell_type": "code",
   "execution_count": 8,
   "id": "signed-picture",
   "metadata": {
    "ExecuteTime": {
     "end_time": "2021-04-27T12:26:19.305651Z",
     "start_time": "2021-04-27T12:26:19.301186Z"
    }
   },
   "outputs": [
    {
     "data": {
      "text/plain": [
       "dtype('float64')"
      ]
     },
     "execution_count": 8,
     "metadata": {},
     "output_type": "execute_result"
    }
   ],
   "source": [
    "X.dtype"
   ]
  },
  {
   "cell_type": "code",
   "execution_count": 9,
   "id": "regulated-property",
   "metadata": {
    "ExecuteTime": {
     "end_time": "2021-04-27T12:26:19.312345Z",
     "start_time": "2021-04-27T12:26:19.307660Z"
    }
   },
   "outputs": [
    {
     "data": {
      "text/plain": [
       "dtype('O')"
      ]
     },
     "execution_count": 9,
     "metadata": {},
     "output_type": "execute_result"
    }
   ],
   "source": [
    "y.dtype"
   ]
  },
  {
   "cell_type": "code",
   "execution_count": 10,
   "id": "filled-fisher",
   "metadata": {
    "ExecuteTime": {
     "end_time": "2021-04-27T12:26:19.329750Z",
     "start_time": "2021-04-27T12:26:19.314513Z"
    }
   },
   "outputs": [],
   "source": [
    "y = y.astype(np.uint8)"
   ]
  },
  {
   "cell_type": "markdown",
   "id": "electrical-asset",
   "metadata": {},
   "source": [
    "## 3. Exploring the data structure"
   ]
  },
  {
   "cell_type": "code",
   "execution_count": 11,
   "id": "reasonable-watch",
   "metadata": {
    "ExecuteTime": {
     "end_time": "2021-04-27T12:26:19.377802Z",
     "start_time": "2021-04-27T12:26:19.330737Z"
    }
   },
   "outputs": [
    {
     "data": {
      "image/png": "[encoded data removed]",
      "text/plain": [
       "<Figure size 432x288 with 1 Axes>"
      ]
     },
     "metadata": {
      "needs_background": "light"
     },
     "output_type": "display_data"
    }
   ],
   "source": [
    "some_digit = X[0]\n",
    "some_digit_image = some_digit.reshape(28, 28)\n",
    "plt.imshow(some_digit_image, cmap=mpl.cm.binary)\n",
    "plt.axis(\"off\")\n",
    "plt.show()"
   ]
  },
  {
   "cell_type": "code",
   "execution_count": 12,
   "id": "cooperative-adoption",
   "metadata": {
    "ExecuteTime": {
     "end_time": "2021-04-27T12:26:19.385326Z",
     "start_time": "2021-04-27T12:26:19.379244Z"
    }
   },
   "outputs": [
    {
     "data": {
      "text/plain": [
       "array([5, 0, 4, 1, 9, 2, 1, 3, 1, 4], dtype=uint8)"
      ]
     },
     "execution_count": 12,
     "metadata": {},
     "output_type": "execute_result"
    }
   ],
   "source": [
    "y[:10]"
   ]
  },
  {
   "cell_type": "markdown",
   "id": "incredible-tract",
   "metadata": {},
   "source": [
    "## 4. Test set"
   ]
  },
  {
   "cell_type": "code",
   "execution_count": 13,
   "id": "outdoor-infrastructure",
   "metadata": {
    "ExecuteTime": {
     "end_time": "2021-04-27T12:26:19.390561Z",
     "start_time": "2021-04-27T12:26:19.387248Z"
    }
   },
   "outputs": [],
   "source": [
    "X_train, X_test, y_train, y_test = X[:60000], X[60000:], y[:60000], y[60000:]"
   ]
  },
  {
   "cell_type": "markdown",
   "id": "removable-phase",
   "metadata": {},
   "source": [
    "## 5. Preparing the data for ML"
   ]
  },
  {
   "cell_type": "code",
   "execution_count": 14,
   "id": "artistic-sharp",
   "metadata": {
    "ExecuteTime": {
     "end_time": "2021-04-27T12:26:20.080135Z",
     "start_time": "2021-04-27T12:26:19.392694Z"
    }
   },
   "outputs": [],
   "source": [
    "scaler = StandardScaler()\n",
    "X_scaled = scaler.fit_transform(X_train)"
   ]
  },
  {
   "cell_type": "markdown",
   "id": "respected-marsh",
   "metadata": {
    "ExecuteTime": {
     "end_time": "2021-04-27T11:42:23.164339Z",
     "start_time": "2021-04-27T11:42:23.160952Z"
    }
   },
   "source": [
    "## 6. Model selection and training"
   ]
  },
  {
   "cell_type": "code",
   "execution_count": 15,
   "id": "fleet-reputation",
   "metadata": {
    "ExecuteTime": {
     "end_time": "2021-04-27T12:26:20.111023Z",
     "start_time": "2021-04-27T12:26:20.081899Z"
    }
   },
   "outputs": [
    {
     "data": {
      "text/plain": [
       "KNeighborsClassifier()"
      ]
     },
     "execution_count": 15,
     "metadata": {},
     "output_type": "execute_result"
    }
   ],
   "source": [
    "kn_clf = KNeighborsClassifier()\n",
    "kn_clf.fit(X_scaled, y_train)"
   ]
  },
  {
   "cell_type": "code",
   "execution_count": 16,
   "id": "productive-seller",
   "metadata": {
    "ExecuteTime": {
     "end_time": "2021-04-27T12:27:27.467039Z",
     "start_time": "2021-04-27T12:26:20.112381Z"
    }
   },
   "outputs": [
    {
     "data": {
      "text/plain": [
       "array([0.9376, 0.9411, 0.9424])"
      ]
     },
     "execution_count": 16,
     "metadata": {},
     "output_type": "execute_result"
    }
   ],
   "source": [
    "cross_val_score(kn_clf, X_scaled, y_train, cv=3, scoring='accuracy')"
   ]
  },
  {
   "cell_type": "markdown",
   "id": "arabic-greensboro",
   "metadata": {},
   "source": [
    "## 7. Tuning the model"
   ]
  },
  {
   "cell_type": "code",
   "execution_count": 17,
   "id": "daily-multimedia",
   "metadata": {
    "ExecuteTime": {
     "end_time": "2021-04-27T12:27:27.473884Z",
     "start_time": "2021-04-27T12:27:27.469041Z"
    }
   },
   "outputs": [],
   "source": [
    "par_distribution = [{\n",
    "                     'weights': ['uniform'],\n",
    "                     'n_neighbors': np.arange(1, 15, 1)\n",
    "                     },\n",
    "                     {\n",
    "                     'weights': ['distance'],\n",
    "                     'n_neighbors': np.arange(1, 15, 1)\n",
    "                     }]\n",
    "\n",
    "grid_search = RandomizedSearchCV(kn_clf, param_distributions=par_distribution, n_iter=10,\n",
    "                                 scoring='accuracy', return_train_score=True, random_state=0)"
   ]
  },
  {
   "cell_type": "code",
   "execution_count": 18,
   "id": "specified-pennsylvania",
   "metadata": {
    "ExecuteTime": {
     "end_time": "2021-04-27T13:34:27.789781Z",
     "start_time": "2021-04-27T12:27:27.476319Z"
    }
   },
   "outputs": [
    {
     "data": {
      "text/plain": [
       "RandomizedSearchCV(estimator=KNeighborsClassifier(),\n",
       "                   param_distributions=[{'n_neighbors': array([ 1,  2,  3,  4,  5,  6,  7,  8,  9, 10, 11, 12, 13, 14]),\n",
       "                                         'weights': ['uniform']},\n",
       "                                        {'n_neighbors': array([ 1,  2,  3,  4,  5,  6,  7,  8,  9, 10, 11, 12, 13, 14]),\n",
       "                                         'weights': ['distance']}],\n",
       "                   random_state=0, return_train_score=True, scoring='accuracy')"
      ]
     },
     "execution_count": 18,
     "metadata": {},
     "output_type": "execute_result"
    }
   ],
   "source": [
    "grid_search.fit(X_scaled, y_train)"
   ]
  },
  {
   "cell_type": "code",
   "execution_count": 20,
   "id": "gentle-frost",
   "metadata": {
    "ExecuteTime": {
     "end_time": "2021-04-27T13:36:49.656226Z",
     "start_time": "2021-04-27T13:36:49.649464Z"
    }
   },
   "outputs": [
    {
     "name": "stdout",
     "output_type": "stream",
     "text": [
      "0.9427833333333332 {'weights': 'uniform', 'n_neighbors': 3}\n",
      "0.9408 {'weights': 'distance', 'n_neighbors': 9}\n",
      "0.9422333333333335 {'weights': 'distance', 'n_neighbors': 1}\n",
      "0.9465166666666667 {'weights': 'distance', 'n_neighbors': 4}\n",
      "0.9405000000000001 {'weights': 'uniform', 'n_neighbors': 6}\n",
      "0.9360333333333333 {'weights': 'uniform', 'n_neighbors': 12}\n",
      "0.9388500000000001 {'weights': 'distance', 'n_neighbors': 11}\n",
      "0.9347333333333333 {'weights': 'uniform', 'n_neighbors': 14}\n",
      "0.94235 {'weights': 'distance', 'n_neighbors': 7}\n",
      "0.9389166666666666 {'weights': 'distance', 'n_neighbors': 12}\n"
     ]
    }
   ],
   "source": [
    "cvres = grid_search.cv_results_\n",
    "for mean_score, params in zip(cvres[\"mean_test_score\"], cvres[\"params\"]):\n",
    "    print(mean_score, params)"
   ]
  },
  {
   "cell_type": "code",
   "execution_count": 22,
   "id": "legendary-rendering",
   "metadata": {
    "ExecuteTime": {
     "end_time": "2021-04-27T13:38:20.906775Z",
     "start_time": "2021-04-27T13:38:20.900191Z"
    }
   },
   "outputs": [
    {
     "data": {
      "text/plain": [
       "KNeighborsClassifier(n_neighbors=4, weights='distance')"
      ]
     },
     "execution_count": 22,
     "metadata": {},
     "output_type": "execute_result"
    }
   ],
   "source": [
    "grid_search.best_estimator_"
   ]
  },
  {
   "cell_type": "code",
   "execution_count": 72,
   "id": "renewable-mixer",
   "metadata": {
    "ExecuteTime": {
     "end_time": "2021-04-27T15:09:50.459745Z",
     "start_time": "2021-04-27T14:58:17.877967Z"
    }
   },
   "outputs": [
    {
     "data": {
      "text/plain": [
       "GridSearchCV(estimator=KNeighborsClassifier(), n_jobs=3,\n",
       "             param_grid={'n_neighbors': array([3, 4, 5]),\n",
       "                         'weights': ['distance']},\n",
       "             return_train_score=True, scoring='accuracy')"
      ]
     },
     "execution_count": 72,
     "metadata": {},
     "output_type": "execute_result"
    }
   ],
   "source": [
    "# fine-tune the search\n",
    "par_distribution ={\n",
    "    'weights': ['distance'],\n",
    "    'n_neighbors': np.arange(3, 6, 1)\n",
    "}\n",
    "\n",
    "fine_grid_search = GridSearchCV(kn_clf, param_grid=par_distribution, \n",
    "                               scoring='accuracy', return_train_score=True, n_jobs=3)\n",
    "fine_grid_search.fit(X_scaled, y_train)"
   ]
  },
  {
   "cell_type": "code",
   "execution_count": 73,
   "id": "allied-annual",
   "metadata": {
    "ExecuteTime": {
     "end_time": "2021-04-27T15:10:47.967192Z",
     "start_time": "2021-04-27T15:10:47.960660Z"
    }
   },
   "outputs": [
    {
     "name": "stdout",
     "output_type": "stream",
     "text": [
      "0.9442833333333335 {'n_neighbors': 3, 'weights': 'distance'}\n",
      "0.9465166666666667 {'n_neighbors': 4, 'weights': 'distance'}\n",
      "0.94435 {'n_neighbors': 5, 'weights': 'distance'}\n"
     ]
    }
   ],
   "source": [
    "cvres = fine_grid_search.cv_results_\n",
    "for mean_score, params in zip(cvres[\"mean_test_score\"], cvres[\"params\"]):\n",
    "    print(mean_score, params)"
   ]
  },
  {
   "cell_type": "markdown",
   "id": "controversial-raising",
   "metadata": {},
   "source": [
    "## 8. Data augmentation"
   ]
  },
  {
   "cell_type": "code",
   "execution_count": 52,
   "id": "indoor-value",
   "metadata": {
    "ExecuteTime": {
     "end_time": "2021-04-27T14:10:03.854659Z",
     "start_time": "2021-04-27T14:10:03.849539Z"
    }
   },
   "outputs": [],
   "source": [
    "def shift_img(array, shift_):\n",
    "    img = array.reshape(28, 28)\n",
    "    return shift(img, shift_).reshape(784)    "
   ]
  },
  {
   "cell_type": "code",
   "execution_count": 57,
   "id": "figured-intention",
   "metadata": {
    "ExecuteTime": {
     "end_time": "2021-04-27T14:14:25.198381Z",
     "start_time": "2021-04-27T14:14:04.167825Z"
    }
   },
   "outputs": [],
   "source": [
    "X_shifted = X_train.copy()\n",
    "y_shifted = y_train.copy()\n",
    "for shift_ in ([0, -1], [1, 0], [0, 1], [-1, 0]):\n",
    "    shifted_imgs = np.apply_along_axis(shift_img, axis=1, arr=X_train, shift_=shift_)\n",
    "    X_shifted = np.append(X_shifted, shifted_imgs, axis=0)\n",
    "    y_shifted = np.append(y_shifted, y_train, axis=0)"
   ]
  },
  {
   "cell_type": "code",
   "execution_count": 67,
   "id": "opened-thirty",
   "metadata": {
    "ExecuteTime": {
     "end_time": "2021-04-27T14:45:10.452823Z",
     "start_time": "2021-04-27T14:45:06.931926Z"
    }
   },
   "outputs": [],
   "source": [
    "X_shifted_scaled = scaler.fit_transform(X_shifted)"
   ]
  },
  {
   "cell_type": "code",
   "execution_count": 76,
   "id": "great-retro",
   "metadata": {
    "ExecuteTime": {
     "end_time": "2021-04-27T15:11:42.739865Z",
     "start_time": "2021-04-27T15:11:42.608542Z"
    }
   },
   "outputs": [
    {
     "data": {
      "text/plain": [
       "KNeighborsClassifier(n_neighbors=4, weights='distance')"
      ]
     },
     "execution_count": 76,
     "metadata": {},
     "output_type": "execute_result"
    }
   ],
   "source": [
    "kn_clf_final = KNeighborsClassifier(**fine_grid_search.best_params_)\n",
    "kn_clf_final.fit(X_shifted_scaled, y_shifted)"
   ]
  },
  {
   "cell_type": "code",
   "execution_count": 81,
   "id": "thrown-sudan",
   "metadata": {
    "ExecuteTime": {
     "end_time": "2021-04-27T15:54:33.290064Z",
     "start_time": "2021-04-27T15:18:25.687297Z"
    }
   },
   "outputs": [
    {
     "data": {
      "text/plain": [
       "array([0.98488, 0.97773, 0.97714])"
      ]
     },
     "execution_count": 81,
     "metadata": {},
     "output_type": "execute_result"
    }
   ],
   "source": [
    "cross_val_score(kn_clf_final, X_shifted, y_shifted, cv=3, scoring='accuracy')"
   ]
  },
  {
   "cell_type": "code",
   "execution_count": 82,
   "id": "comprehensive-registrar",
   "metadata": {
    "ExecuteTime": {
     "end_time": "2021-04-27T16:47:39.084018Z",
     "start_time": "2021-04-27T16:47:39.045273Z"
    }
   },
   "outputs": [],
   "source": [
    "X_test_scaled = scaler.transform(X_test)"
   ]
  },
  {
   "cell_type": "code",
   "execution_count": 83,
   "id": "descending-publisher",
   "metadata": {
    "ExecuteTime": {
     "end_time": "2021-04-27T16:49:23.363516Z",
     "start_time": "2021-04-27T16:47:52.234278Z"
    }
   },
   "outputs": [
    {
     "data": {
      "text/plain": [
       "0.9628"
      ]
     },
     "execution_count": 83,
     "metadata": {},
     "output_type": "execute_result"
    }
   ],
   "source": [
    "y_pred = kn_clf_final.predict(X_test_scaled)\n",
    "accuracy_score(y_test, y_pred)"
   ]
  },
  {
   "cell_type": "code",
   "execution_count": 85,
   "id": "chronic-nightlife",
   "metadata": {
    "ExecuteTime": {
     "end_time": "2021-04-27T16:53:40.424002Z",
     "start_time": "2021-04-27T16:53:40.268690Z"
    }
   },
   "outputs": [
    {
     "data": {
      "text/plain": [
       "KNeighborsClassifier(n_neighbors=4, weights='distance')"
      ]
     },
     "execution_count": 85,
     "metadata": {},
     "output_type": "execute_result"
    }
   ],
   "source": [
    "kn_clf_final_2 = KNeighborsClassifier(**fine_grid_search.best_params_)\n",
    "kn_clf_final_2.fit(X_shifted, y_shifted)"
   ]
  },
  {
   "cell_type": "code",
   "execution_count": 87,
   "id": "nonprofit-butterfly",
   "metadata": {
    "ExecuteTime": {
     "end_time": "2021-04-27T16:56:58.073032Z",
     "start_time": "2021-04-27T16:55:28.223955Z"
    }
   },
   "outputs": [
    {
     "data": {
      "text/plain": [
       "0.9763"
      ]
     },
     "execution_count": 87,
     "metadata": {},
     "output_type": "execute_result"
    }
   ],
   "source": [
    "y_pred = kn_clf_final_2.predict(X_test)\n",
    "accuracy_score(y_test, y_pred)"
   ]
  },
  {
   "cell_type": "markdown",
   "id": "polyphonic-convention",
   "metadata": {
    "ExecuteTime": {
     "end_time": "2021-04-27T16:58:14.433819Z",
     "start_time": "2021-04-27T16:58:14.427880Z"
    }
   },
   "source": [
    "**Non-scaled data performed better than scaled data**"
   ]
  }
 ],
 "metadata": {
  "kernelspec": {
   "display_name": "Python [conda env:infamous-ml]",
   "language": "python",
   "name": "conda-env-infamous-ml-py"
  },
  "language_info": {
   "codemirror_mode": {
    "name": "ipython",
    "version": 3
   },
   "file_extension": ".py",
   "mimetype": "text/x-python",
   "name": "python",
   "nbconvert_exporter": "python",
   "pygments_lexer": "ipython3",
   "version": "3.9.2"
  }
 },
 "nbformat": 4,
 "nbformat_minor": 5
}
